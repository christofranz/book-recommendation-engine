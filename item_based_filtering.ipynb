{
 "cells": [
  {
   "cell_type": "code",
   "execution_count": 33,
   "metadata": {},
   "outputs": [],
   "source": [
    "import pandas as pd\n",
    "import numpy as np"
   ]
  },
  {
   "cell_type": "code",
   "execution_count": 6,
   "metadata": {},
   "outputs": [],
   "source": [
    "# data reference https://github.com/zygmuntz/goodbooks-10k/blob/master/tags.csv\n",
    "ratings = pd.read_csv(\"./data/ratings.csv\")\n"
   ]
  },
  {
   "cell_type": "code",
   "execution_count": 7,
   "metadata": {},
   "outputs": [
    {
     "output_type": "execute_result",
     "data": {
      "text/plain": [
       "   user_id  book_id  rating\n",
       "0        1      258       5\n",
       "1        2     4081       4"
      ],
      "text/html": "<div>\n<style scoped>\n    .dataframe tbody tr th:only-of-type {\n        vertical-align: middle;\n    }\n\n    .dataframe tbody tr th {\n        vertical-align: top;\n    }\n\n    .dataframe thead th {\n        text-align: right;\n    }\n</style>\n<table border=\"1\" class=\"dataframe\">\n  <thead>\n    <tr style=\"text-align: right;\">\n      <th></th>\n      <th>user_id</th>\n      <th>book_id</th>\n      <th>rating</th>\n    </tr>\n  </thead>\n  <tbody>\n    <tr>\n      <th>0</th>\n      <td>1</td>\n      <td>258</td>\n      <td>5</td>\n    </tr>\n    <tr>\n      <th>1</th>\n      <td>2</td>\n      <td>4081</td>\n      <td>4</td>\n    </tr>\n  </tbody>\n</table>\n</div>"
     },
     "metadata": {},
     "execution_count": 7
    }
   ],
   "source": [
    "ratings[:2]"
   ]
  },
  {
   "cell_type": "code",
   "execution_count": 14,
   "metadata": {},
   "outputs": [
    {
     "output_type": "execute_result",
     "data": {
      "text/plain": [
       "array([[0., 0., 0., ..., 0., 0., 0.],\n",
       "       [0., 5., 0., ..., 0., 0., 0.],\n",
       "       [0., 0., 0., ..., 0., 0., 0.],\n",
       "       ...,\n",
       "       [4., 5., 0., ..., 0., 0., 0.],\n",
       "       [4., 5., 0., ..., 0., 0., 0.],\n",
       "       [4., 5., 4., ..., 0., 0., 0.]])"
      ]
     },
     "metadata": {},
     "execution_count": 14
    }
   ],
   "source": [
    "# create user-item matrix as numpy array\n",
    "n_users = ratings[\"user_id\"].nunique()\n",
    "n_books = ratings[\"book_id\"].nunique()\n",
    "user_book_matrix_np = np.zeros((n_users, n_books))\n",
    "for row in ratings.itertuples():\n",
    "    user_book_matrix_np[row[1]-1, row[2]-1] = row[3]\n",
    "user_book_matrix_np"
   ]
  },
  {
   "cell_type": "code",
   "execution_count": 16,
   "metadata": {},
   "outputs": [
    {
     "output_type": "stream",
     "name": "stdout",
     "text": [
      "Sparsity: 1.12%\n"
     ]
    }
   ],
   "source": [
    "# calculate the fraction of user-item values filled\n",
    "sparsity = float(len(user_book_matrix_np.nonzero()[0]))\n",
    "sparsity /= (user_book_matrix_np.shape[0] * user_book_matrix_np.shape[1])\n",
    "sparsity *= 100\n",
    "print(\"Sparsity: {:4.2f}%\".format(sparsity))"
   ]
  },
  {
   "cell_type": "code",
   "execution_count": 23,
   "metadata": {},
   "outputs": [],
   "source": [
    "def fast_similarity(user_book_matrix, kind='user', epsilon=1e-9):\n",
    "    \"\"\"Calculate the similarity matrix for user or items.\n",
    "    \n",
    "    :param ratings: User-item matrix with ratings as values\n",
    "    :type: np.array[n_users, n_items]\n",
    "    :param kind: Type of similarity\n",
    "    :type: string\n",
    "    :return: Similarity matrix\n",
    "    :rtype: np.array[n_users, n_users] or [n_items, n_items]\n",
    "    \"\"\"\n",
    "    # add small number for handling dived-by-zero errors\n",
    "    if kind == 'user':\n",
    "        sim = user_book_matrix.dot(user_book_matrix.T) + epsilon\n",
    "    elif kind == 'item':\n",
    "        sim = user_book_matrix.T.dot(user_book_matrix) + epsilon\n",
    "    else:\n",
    "        raise ValueError(\"Only user/item are possible kinds for the similarity.\")\n",
    "    \n",
    "    norms = np.array([np.sqrt(np.diagonal(sim))])\n",
    "    return (sim / norms / norms.T)"
   ]
  },
  {
   "cell_type": "code",
   "execution_count": 24,
   "metadata": {},
   "outputs": [],
   "source": [
    "# calculate the similarity matrix\n",
    "similarity_books = fast_similarity(user_book_matrix_np, \"item\")"
   ]
  },
  {
   "cell_type": "code",
   "execution_count": 25,
   "metadata": {},
   "outputs": [],
   "source": [
    "def find_k_most_similar_books(similarity_books, book_id, k=5):\n",
    "    \"\"\"Find the k most similar books.\n",
    "    \n",
    "    :param similarity_books: Similarity matrix of the books\n",
    "    :type: np.array[n_books, n_books]\n",
    "    :param book_id: Book id for which to find similar ones\n",
    "    :type: int\n",
    "    :param k: Amount of similar books to find\n",
    "    :type: int\n",
    "    :return: List of ids of the k most similar books\n",
    "    :rtype: array\n",
    "    \"\"\"\n",
    "    all_similarities = similarity_books[:, book_id-1]\n",
    "    # prevent that highest similarity is with itself\n",
    "    all_similarities[book_id - 1] = 0\n",
    "    # k indexes with highes similarity to book_id\n",
    "    most_similar_books = np.flip(np.argpartition(all_similarities, -k)[-k:]) + 1\n",
    "    return most_similar_books\n"
   ]
  },
  {
   "cell_type": "code",
   "execution_count": 26,
   "metadata": {},
   "outputs": [
    {
     "output_type": "execute_result",
     "data": {
      "text/plain": [
       "array([17, 20,  2,  3, 12])"
      ]
     },
     "metadata": {},
     "execution_count": 26
    }
   ],
   "source": [
    "find_k_most_similar_books(similarity_books, 1, 5)"
   ]
  },
  {
   "cell_type": "code",
   "execution_count": 31,
   "metadata": {},
   "outputs": [],
   "source": [
    "def make_item_based_recommendation(books_liked, n_rec, similarity):\n",
    "    \"\"\"Make item based recommendations for books.\n",
    "    \n",
    "    :param books_liked: Ids of books liked\n",
    "    :type: array\n",
    "    :param n_rec: Number of recommendations to make\n",
    "    :type: int\n",
    "    :param similarity_books: Similarity matrix of the books\n",
    "    :type: np.array[n_books, n_books]\n",
    "    :return: Book ids of the recommendations\n",
    "    :rtype: array\n",
    "    \"\"\"\n",
    "    # for each book find most similar ones\n",
    "    book_similarity = {}\n",
    "    for book_id in books_liked:\n",
    "        most_similar = find_k_most_similar_books(similarity, book_id)\n",
    "        # add similar book ids and similarities to dict\n",
    "        for similar_book_id in most_similar:\n",
    "            book_similarity[similar_book_id] = similarity[book_id-1][similar_book_id-1]\n",
    "\n",
    "    # sort the dict by the similarity\n",
    "    sorted_book_similarity = dict(sorted(book_similarity.items(), key=lambda item: item[1], reverse=True))\n",
    "    print(sorted_book_similarity)\n",
    "    possible_recommendations = list(sorted_book_similarity.keys())\n",
    "    # count actual recommendations\n",
    "    cnt_rec = 0\n",
    "    recommendations = []\n",
    "    for rec_book_id in possible_recommendations:\n",
    "        # only not yet recommended and liked books are actual recommendations\n",
    "        if rec_book_id not in recommendations and rec_book_id not in books_liked:\n",
    "            recommendations.append(rec_book_id)\n",
    "            cnt_rec += 1\n",
    "            # leave loop once enough recommendations are obtained\n",
    "            if cnt_rec >= n_rec:\n",
    "                break\n",
    "    \n",
    "    return recommendations"
   ]
  },
  {
   "cell_type": "code",
   "execution_count": 32,
   "metadata": {},
   "outputs": [
    {
     "output_type": "stream",
     "name": "stdout",
     "text": [
      "{17: 0.7230112211972394, 20: 0.6873469586897267, 18: 0.6803923969196116, 23: 0.6728205638365854, 24: 0.6692005033391328, 21: 0.6574468707948864, 27: 0.6520871016336011, 2: 0.5898402968141494, 3: 0.5611418959119355, 12: 0.5233165065265468}\n"
     ]
    },
    {
     "output_type": "execute_result",
     "data": {
      "text/plain": [
       "[17, 20, 18, 23, 24, 21, 27, 3, 12]"
      ]
     },
     "metadata": {},
     "execution_count": 32
    }
   ],
   "source": [
    "# obtain 10 recommendations based on movies one and two\n",
    "make_item_based_recommendation([1, 2], 10, similarity_books)"
   ]
  },
  {
   "cell_type": "code",
   "execution_count": 22,
   "metadata": {},
   "outputs": [
    {
     "output_type": "execute_result",
     "data": {
      "text/plain": [
       "          user_id   book_id    rating\n",
       "user_id  1.000000  0.549771  0.845490\n",
       "book_id  0.549771  1.000000  0.608573\n",
       "rating   0.845490  0.608573  1.000000"
      ],
      "text/html": "<div>\n<style scoped>\n    .dataframe tbody tr th:only-of-type {\n        vertical-align: middle;\n    }\n\n    .dataframe tbody tr th {\n        vertical-align: top;\n    }\n\n    .dataframe thead th {\n        text-align: right;\n    }\n</style>\n<table border=\"1\" class=\"dataframe\">\n  <thead>\n    <tr style=\"text-align: right;\">\n      <th></th>\n      <th>user_id</th>\n      <th>book_id</th>\n      <th>rating</th>\n    </tr>\n  </thead>\n  <tbody>\n    <tr>\n      <th>user_id</th>\n      <td>1.000000</td>\n      <td>0.549771</td>\n      <td>0.845490</td>\n    </tr>\n    <tr>\n      <th>book_id</th>\n      <td>0.549771</td>\n      <td>1.000000</td>\n      <td>0.608573</td>\n    </tr>\n    <tr>\n      <th>rating</th>\n      <td>0.845490</td>\n      <td>0.608573</td>\n      <td>1.000000</td>\n    </tr>\n  </tbody>\n</table>\n</div>"
     },
     "metadata": {},
     "execution_count": 22
    }
   ],
   "source": [
    "similarity_books"
   ]
  },
  {
   "cell_type": "code",
   "execution_count": null,
   "metadata": {},
   "outputs": [],
   "source": []
  }
 ],
 "metadata": {
  "kernelspec": {
   "name": "python3",
   "display_name": "Python 3.8.6 64-bit ('disaster-resp-env')",
   "metadata": {
    "interpreter": {
     "hash": "19586058e9e9c9e6fdfa202bc353902efb58b556cfd14aef23882adf56c1024b"
    }
   }
  },
  "language_info": {
   "codemirror_mode": {
    "name": "ipython",
    "version": 3
   },
   "file_extension": ".py",
   "mimetype": "text/x-python",
   "name": "python",
   "nbconvert_exporter": "python",
   "pygments_lexer": "ipython3",
   "version": "3.8.6-final"
  }
 },
 "nbformat": 4,
 "nbformat_minor": 2
}