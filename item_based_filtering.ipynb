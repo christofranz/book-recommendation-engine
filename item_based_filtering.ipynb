{
 "cells": [
  {
   "cell_type": "code",
   "execution_count": 1,
   "metadata": {},
   "outputs": [],
   "source": [
    "import numba\n",
    "import time\n",
    "\n",
    "import pandas as pd\n",
    "import numpy as np\n",
    "\n"
   ]
  },
  {
   "cell_type": "code",
   "execution_count": 58,
   "metadata": {},
   "outputs": [],
   "source": [
    "# data reference https://github.com/zygmuntz/goodbooks-10k/blob/master/tags.csv\n",
    "ratings = pd.read_csv(\"./data/ratings.csv\")\n"
   ]
  },
  {
   "cell_type": "code",
   "execution_count": 3,
   "metadata": {},
   "outputs": [
    {
     "output_type": "execute_result",
     "data": {
      "text/plain": [
       "   user_id  book_id  rating\n",
       "0        1      258       5\n",
       "1        2     4081       4"
      ],
      "text/html": "<div>\n<style scoped>\n    .dataframe tbody tr th:only-of-type {\n        vertical-align: middle;\n    }\n\n    .dataframe tbody tr th {\n        vertical-align: top;\n    }\n\n    .dataframe thead th {\n        text-align: right;\n    }\n</style>\n<table border=\"1\" class=\"dataframe\">\n  <thead>\n    <tr style=\"text-align: right;\">\n      <th></th>\n      <th>user_id</th>\n      <th>book_id</th>\n      <th>rating</th>\n    </tr>\n  </thead>\n  <tbody>\n    <tr>\n      <th>0</th>\n      <td>1</td>\n      <td>258</td>\n      <td>5</td>\n    </tr>\n    <tr>\n      <th>1</th>\n      <td>2</td>\n      <td>4081</td>\n      <td>4</td>\n    </tr>\n  </tbody>\n</table>\n</div>"
     },
     "metadata": {},
     "execution_count": 3
    }
   ],
   "source": [
    "ratings[:2]"
   ]
  },
  {
   "cell_type": "code",
   "execution_count": 59,
   "metadata": {},
   "outputs": [
    {
     "output_type": "execute_result",
     "data": {
      "text/plain": [
       "array([[0., 0., 0., ..., 0., 0., 0.],\n",
       "       [0., 5., 0., ..., 0., 0., 0.],\n",
       "       [0., 0., 0., ..., 0., 0., 0.],\n",
       "       ...,\n",
       "       [4., 5., 0., ..., 0., 0., 0.],\n",
       "       [4., 5., 0., ..., 0., 0., 0.],\n",
       "       [4., 5., 4., ..., 0., 0., 0.]])"
      ]
     },
     "metadata": {},
     "execution_count": 59
    }
   ],
   "source": [
    "# create user-item matrix as numpy array\n",
    "n_users = user_book_matrix.shape[0]\n",
    "n_items = user_book_matrix.shape[1]\n",
    "ratings_np = np.zeros((n_users, n_items))\n",
    "for row in ratings.itertuples():\n",
    "    ratings_np[row[1]-1, row[2]-1] = row[3]\n",
    "ratings_np"
   ]
  },
  {
   "cell_type": "code",
   "execution_count": 60,
   "metadata": {},
   "outputs": [
    {
     "output_type": "stream",
     "name": "stdout",
     "text": [
      "Sparsity: 1.12%\n"
     ]
    }
   ],
   "source": [
    "# calculate the fraction of user-item values filled\n",
    "sparsity = float(len(ratings_np.nonzero()[0]))\n",
    "sparsity /= (ratings_np.shape[0] * ratings_np.shape[1])\n",
    "sparsity *= 100\n",
    "print(\"Sparsity: {:4.2f}%\".format(sparsity))"
   ]
  },
  {
   "cell_type": "code",
   "execution_count": 61,
   "metadata": {},
   "outputs": [],
   "source": [
    "def fast_similarity(ratings, kind='user', epsilon=1e-9):\n",
    "    \"\"\"TODO\"\"\"\n",
    "    # epsilon -> small number for handling dived-by-zero errors\n",
    "    if kind == 'user':\n",
    "        sim = ratings.dot(ratings.T) + epsilon\n",
    "    elif kind == 'item':\n",
    "        sim = ratings.T.dot(ratings) + epsilon\n",
    "    norms = np.array([np.sqrt(np.diagonal(sim))])\n",
    "    return (sim / norms / norms.T)"
   ]
  },
  {
   "cell_type": "code",
   "execution_count": null,
   "metadata": {},
   "outputs": [],
   "source": [
    "# calculate the similarity matrix\n",
    "similarity = fast_similarity(ratings_np, \"item\")"
   ]
  },
  {
   "cell_type": "code",
   "execution_count": 84,
   "metadata": {},
   "outputs": [],
   "source": [
    "def find_k_most_similar(similarity, book_id, k=5):\n",
    "    \"\"\"TODO\"\"\"\n",
    "    all_similarities = similarity[:, book_id-1]\n",
    "    # prevent that highest similarity is with itself\n",
    "    all_similarities[book_id - 1] = 0\n",
    "    # k indexes with highes similarity to book_id\n",
    "    most_similar = np.flip(np.argpartition(all_similarities, -k)[-k:]) + 1\n",
    "    return most_similar\n"
   ]
  },
  {
   "cell_type": "code",
   "execution_count": 81,
   "metadata": {},
   "outputs": [
    {
     "output_type": "execute_result",
     "data": {
      "text/plain": [
       "array([17, 20,  2,  3, 12])"
      ]
     },
     "metadata": {},
     "execution_count": 81
    }
   ],
   "source": [
    "find_k_most_similar(similarity, 1, 5)"
   ]
  },
  {
   "cell_type": "code",
   "execution_count": 91,
   "metadata": {},
   "outputs": [],
   "source": [
    "def make_item_based_recommendation(books_liked, n_rec, similarity):\n",
    "    \"\"\"TODO\"\"\"\n",
    "    # for each book find most similar ones\n",
    "    book_similarity = {}\n",
    "    for book_id in books_liked:\n",
    "        most_similar = find_k_most_similar(similarity, book_id)\n",
    "        # add similar book ids and similarities to dict\n",
    "        for similar_book_id in most_similar:\n",
    "            book_similarity[similar_book_id] = similarity[book_id-1][similar_book_id-1]\n",
    "\n",
    "    # sort the dict by the similarity\n",
    "    sorted_book_similarity = dict(sorted(book_similarity.items(), key=lambda item: item[1], reverse=True))\n",
    "    print(sorted_book_similarity)\n",
    "    recommendations = list(sorted_book_similarity.keys())[:n_rec]\n",
    "    return recommendations"
   ]
  },
  {
   "cell_type": "code",
   "execution_count": 93,
   "metadata": {},
   "outputs": [
    {
     "output_type": "stream",
     "name": "stdout",
     "text": [
      "{18: 0.6803923969196116, 23: 0.6728205638365854, 24: 0.6692005033391328, 21: 0.6574468707948864, 27: 0.6520871016336011}\n"
     ]
    },
    {
     "output_type": "execute_result",
     "data": {
      "text/plain": [
       "[18, 23, 24, 21, 27]"
      ]
     },
     "metadata": {},
     "execution_count": 93
    }
   ],
   "source": [
    "# obtain 10 recommendations based on movies one and two\n",
    "make_item_based_recommendation([1, 2], 10, similarity)"
   ]
  },
  {
   "cell_type": "code",
   "execution_count": 62,
   "metadata": {},
   "outputs": [],
   "source": []
  },
  {
   "cell_type": "code",
   "execution_count": null,
   "metadata": {},
   "outputs": [],
   "source": []
  }
 ],
 "metadata": {
  "kernelspec": {
   "name": "python3",
   "display_name": "Python 3.8.6 64-bit ('disaster-resp-env')",
   "metadata": {
    "interpreter": {
     "hash": "19586058e9e9c9e6fdfa202bc353902efb58b556cfd14aef23882adf56c1024b"
    }
   }
  },
  "language_info": {
   "codemirror_mode": {
    "name": "ipython",
    "version": 3
   },
   "file_extension": ".py",
   "mimetype": "text/x-python",
   "name": "python",
   "nbconvert_exporter": "python",
   "pygments_lexer": "ipython3",
   "version": "3.8.6-final"
  }
 },
 "nbformat": 4,
 "nbformat_minor": 2
}