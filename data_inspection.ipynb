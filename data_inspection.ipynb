{
 "cells": [
  {
   "cell_type": "code",
   "execution_count": 1,
   "metadata": {},
   "outputs": [],
   "source": [
    "import pandas as pd\n",
    "import matplotlib.pyplot as plt\n",
    "import seaborn as sns\n",
    "%matplotlib inline\n",
    "\n",
    "sns.set(style=\"ticks\")"
   ]
  },
  {
   "cell_type": "code",
   "execution_count": 2,
   "metadata": {},
   "outputs": [],
   "source": [
    "# data reference https://github.com/zygmuntz/goodbooks-10k/blob/master/tags.csv\n",
    "books = pd.read_csv(\"./data/books.csv\")\n",
    "ratings = pd.read_csv(\"./data/ratings.csv\")\n",
    "book_tags = pd.read_csv(\"./data/book_tags.csv\")\n",
    "tags = pd.read_csv(\"./data/tags.csv\")"
   ]
  },
  {
   "cell_type": "code",
   "execution_count": 4,
   "metadata": {},
   "outputs": [
    {
     "output_type": "stream",
     "name": "stdout",
     "text": [
      "column name; column type;\n{'book_id': 'int64', 'goodreads_book_id': 'int64', 'best_book_id': 'int64', 'work_id': 'int64', 'books_count': 'int64', 'isbn': 'object', 'isbn13': 'float64', 'authors': 'object', 'original_publication_year': 'float64', 'original_title': 'object', 'title': 'object', 'language_code': 'object', 'average_rating': 'float64', 'ratings_count': 'int64', 'work_ratings_count': 'int64', 'work_text_reviews_count': 'int64', 'ratings_1': 'int64', 'ratings_2': 'int64', 'ratings_3': 'int64', 'ratings_4': 'int64', 'ratings_5': 'int64', 'image_url': 'object', 'small_image_url': 'object'}\n"
     ]
    }
   ],
   "source": [
    "def show_columns_and_types(df):\n",
    "    \"\"\"\n",
    "    Print column names and column types of a dataframe.\n",
    "    \n",
    "    :param df: Dataframe to analyze\n",
    "    :type: Pandas dataframe\n",
    "    :return: -\n",
    "    \"\"\"\n",
    "    print(\"column name; column type;\")\n",
    "    type_dict = {}\n",
    "    for col_type, col_name in zip(df.dtypes, df.columns):\n",
    "        type_dict[col_name] = col_type.name\n",
    "    print(type_dict)\n",
    "    \n",
    "show_columns_and_types(books)"
   ]
  },
  {
   "cell_type": "markdown",
   "metadata": {},
   "source": [
    "Names (e.g. title, author) are objects, values are ints or floats."
   ]
  },
  {
   "cell_type": "code",
   "execution_count": 4,
   "metadata": {},
   "outputs": [
    {
     "data": {
      "text/html": [
       "<div>\n",
       "<style scoped>\n",
       "    .dataframe tbody tr th:only-of-type {\n",
       "        vertical-align: middle;\n",
       "    }\n",
       "\n",
       "    .dataframe tbody tr th {\n",
       "        vertical-align: top;\n",
       "    }\n",
       "\n",
       "    .dataframe thead th {\n",
       "        text-align: right;\n",
       "    }\n",
       "</style>\n",
       "<table border=\"1\" class=\"dataframe\">\n",
       "  <thead>\n",
       "    <tr style=\"text-align: right;\">\n",
       "      <th></th>\n",
       "      <th>book_id</th>\n",
       "      <th>goodreads_book_id</th>\n",
       "      <th>best_book_id</th>\n",
       "      <th>work_id</th>\n",
       "      <th>books_count</th>\n",
       "      <th>isbn</th>\n",
       "      <th>isbn13</th>\n",
       "      <th>authors</th>\n",
       "      <th>original_publication_year</th>\n",
       "      <th>original_title</th>\n",
       "      <th>...</th>\n",
       "      <th>ratings_count</th>\n",
       "      <th>work_ratings_count</th>\n",
       "      <th>work_text_reviews_count</th>\n",
       "      <th>ratings_1</th>\n",
       "      <th>ratings_2</th>\n",
       "      <th>ratings_3</th>\n",
       "      <th>ratings_4</th>\n",
       "      <th>ratings_5</th>\n",
       "      <th>image_url</th>\n",
       "      <th>small_image_url</th>\n",
       "    </tr>\n",
       "  </thead>\n",
       "  <tbody>\n",
       "    <tr>\n",
       "      <th>0</th>\n",
       "      <td>1</td>\n",
       "      <td>2767052</td>\n",
       "      <td>2767052</td>\n",
       "      <td>2792775</td>\n",
       "      <td>272</td>\n",
       "      <td>439023483</td>\n",
       "      <td>9.780439e+12</td>\n",
       "      <td>Suzanne Collins</td>\n",
       "      <td>2008.0</td>\n",
       "      <td>The Hunger Games</td>\n",
       "      <td>...</td>\n",
       "      <td>4780653</td>\n",
       "      <td>4942365</td>\n",
       "      <td>155254</td>\n",
       "      <td>66715</td>\n",
       "      <td>127936</td>\n",
       "      <td>560092</td>\n",
       "      <td>1481305</td>\n",
       "      <td>2706317</td>\n",
       "      <td>https://images.gr-assets.com/books/1447303603m...</td>\n",
       "      <td>https://images.gr-assets.com/books/1447303603s...</td>\n",
       "    </tr>\n",
       "    <tr>\n",
       "      <th>1</th>\n",
       "      <td>2</td>\n",
       "      <td>3</td>\n",
       "      <td>3</td>\n",
       "      <td>4640799</td>\n",
       "      <td>491</td>\n",
       "      <td>439554934</td>\n",
       "      <td>9.780440e+12</td>\n",
       "      <td>J.K. Rowling, Mary GrandPré</td>\n",
       "      <td>1997.0</td>\n",
       "      <td>Harry Potter and the Philosopher's Stone</td>\n",
       "      <td>...</td>\n",
       "      <td>4602479</td>\n",
       "      <td>4800065</td>\n",
       "      <td>75867</td>\n",
       "      <td>75504</td>\n",
       "      <td>101676</td>\n",
       "      <td>455024</td>\n",
       "      <td>1156318</td>\n",
       "      <td>3011543</td>\n",
       "      <td>https://images.gr-assets.com/books/1474154022m...</td>\n",
       "      <td>https://images.gr-assets.com/books/1474154022s...</td>\n",
       "    </tr>\n",
       "    <tr>\n",
       "      <th>2</th>\n",
       "      <td>3</td>\n",
       "      <td>41865</td>\n",
       "      <td>41865</td>\n",
       "      <td>3212258</td>\n",
       "      <td>226</td>\n",
       "      <td>316015849</td>\n",
       "      <td>9.780316e+12</td>\n",
       "      <td>Stephenie Meyer</td>\n",
       "      <td>2005.0</td>\n",
       "      <td>Twilight</td>\n",
       "      <td>...</td>\n",
       "      <td>3866839</td>\n",
       "      <td>3916824</td>\n",
       "      <td>95009</td>\n",
       "      <td>456191</td>\n",
       "      <td>436802</td>\n",
       "      <td>793319</td>\n",
       "      <td>875073</td>\n",
       "      <td>1355439</td>\n",
       "      <td>https://images.gr-assets.com/books/1361039443m...</td>\n",
       "      <td>https://images.gr-assets.com/books/1361039443s...</td>\n",
       "    </tr>\n",
       "    <tr>\n",
       "      <th>3</th>\n",
       "      <td>4</td>\n",
       "      <td>2657</td>\n",
       "      <td>2657</td>\n",
       "      <td>3275794</td>\n",
       "      <td>487</td>\n",
       "      <td>61120081</td>\n",
       "      <td>9.780061e+12</td>\n",
       "      <td>Harper Lee</td>\n",
       "      <td>1960.0</td>\n",
       "      <td>To Kill a Mockingbird</td>\n",
       "      <td>...</td>\n",
       "      <td>3198671</td>\n",
       "      <td>3340896</td>\n",
       "      <td>72586</td>\n",
       "      <td>60427</td>\n",
       "      <td>117415</td>\n",
       "      <td>446835</td>\n",
       "      <td>1001952</td>\n",
       "      <td>1714267</td>\n",
       "      <td>https://images.gr-assets.com/books/1361975680m...</td>\n",
       "      <td>https://images.gr-assets.com/books/1361975680s...</td>\n",
       "    </tr>\n",
       "    <tr>\n",
       "      <th>4</th>\n",
       "      <td>5</td>\n",
       "      <td>4671</td>\n",
       "      <td>4671</td>\n",
       "      <td>245494</td>\n",
       "      <td>1356</td>\n",
       "      <td>743273567</td>\n",
       "      <td>9.780743e+12</td>\n",
       "      <td>F. Scott Fitzgerald</td>\n",
       "      <td>1925.0</td>\n",
       "      <td>The Great Gatsby</td>\n",
       "      <td>...</td>\n",
       "      <td>2683664</td>\n",
       "      <td>2773745</td>\n",
       "      <td>51992</td>\n",
       "      <td>86236</td>\n",
       "      <td>197621</td>\n",
       "      <td>606158</td>\n",
       "      <td>936012</td>\n",
       "      <td>947718</td>\n",
       "      <td>https://images.gr-assets.com/books/1490528560m...</td>\n",
       "      <td>https://images.gr-assets.com/books/1490528560s...</td>\n",
       "    </tr>\n",
       "  </tbody>\n",
       "</table>\n",
       "<p>5 rows × 23 columns</p>\n",
       "</div>"
      ],
      "text/plain": [
       "   book_id  goodreads_book_id  best_book_id  work_id  books_count       isbn  \\\n",
       "0        1            2767052       2767052  2792775          272  439023483   \n",
       "1        2                  3             3  4640799          491  439554934   \n",
       "2        3              41865         41865  3212258          226  316015849   \n",
       "3        4               2657          2657  3275794          487   61120081   \n",
       "4        5               4671          4671   245494         1356  743273567   \n",
       "\n",
       "         isbn13                      authors  original_publication_year  \\\n",
       "0  9.780439e+12              Suzanne Collins                     2008.0   \n",
       "1  9.780440e+12  J.K. Rowling, Mary GrandPré                     1997.0   \n",
       "2  9.780316e+12              Stephenie Meyer                     2005.0   \n",
       "3  9.780061e+12                   Harper Lee                     1960.0   \n",
       "4  9.780743e+12          F. Scott Fitzgerald                     1925.0   \n",
       "\n",
       "                             original_title  ... ratings_count  \\\n",
       "0                          The Hunger Games  ...       4780653   \n",
       "1  Harry Potter and the Philosopher's Stone  ...       4602479   \n",
       "2                                  Twilight  ...       3866839   \n",
       "3                     To Kill a Mockingbird  ...       3198671   \n",
       "4                          The Great Gatsby  ...       2683664   \n",
       "\n",
       "  work_ratings_count  work_text_reviews_count  ratings_1  ratings_2  \\\n",
       "0            4942365                   155254      66715     127936   \n",
       "1            4800065                    75867      75504     101676   \n",
       "2            3916824                    95009     456191     436802   \n",
       "3            3340896                    72586      60427     117415   \n",
       "4            2773745                    51992      86236     197621   \n",
       "\n",
       "   ratings_3  ratings_4  ratings_5  \\\n",
       "0     560092    1481305    2706317   \n",
       "1     455024    1156318    3011543   \n",
       "2     793319     875073    1355439   \n",
       "3     446835    1001952    1714267   \n",
       "4     606158     936012     947718   \n",
       "\n",
       "                                           image_url  \\\n",
       "0  https://images.gr-assets.com/books/1447303603m...   \n",
       "1  https://images.gr-assets.com/books/1474154022m...   \n",
       "2  https://images.gr-assets.com/books/1361039443m...   \n",
       "3  https://images.gr-assets.com/books/1361975680m...   \n",
       "4  https://images.gr-assets.com/books/1490528560m...   \n",
       "\n",
       "                                     small_image_url  \n",
       "0  https://images.gr-assets.com/books/1447303603s...  \n",
       "1  https://images.gr-assets.com/books/1474154022s...  \n",
       "2  https://images.gr-assets.com/books/1361039443s...  \n",
       "3  https://images.gr-assets.com/books/1361975680s...  \n",
       "4  https://images.gr-assets.com/books/1490528560s...  \n",
       "\n",
       "[5 rows x 23 columns]"
      ]
     },
     "execution_count": 4,
     "metadata": {},
     "output_type": "execute_result"
    }
   ],
   "source": [
    "# inspect first values of df\n",
    "books[:5]"
   ]
  },
  {
   "cell_type": "code",
   "execution_count": 23,
   "metadata": {},
   "outputs": [
    {
     "output_type": "execute_result",
     "data": {
      "text/plain": [
       "(10000, 23)"
      ]
     },
     "metadata": {},
     "execution_count": 23
    }
   ],
   "source": [
    "# number of books and columns\n",
    "books.shape"
   ]
  },
  {
   "cell_type": "code",
   "execution_count": 12,
   "metadata": {},
   "outputs": [
    {
     "output_type": "execute_result",
     "data": {
      "text/plain": [
       "['https://images.gr-assets.com/books/1447303603m/2767052.jpg',\n",
       " 'https://images.gr-assets.com/books/1474154022m/3.jpg',\n",
       " 'https://images.gr-assets.com/books/1361039443m/41865.jpg',\n",
       " 'https://images.gr-assets.com/books/1361975680m/2657.jpg',\n",
       " 'https://images.gr-assets.com/books/1490528560m/4671.jpg']"
      ]
     },
     "metadata": {},
     "execution_count": 12
    }
   ],
   "source": [
    "# check if image urls are working\n",
    "books[\"image_url\"][:5].to_list()"
   ]
  },
  {
   "cell_type": "code",
   "execution_count": 6,
   "metadata": {},
   "outputs": [
    {
     "data": {
      "text/html": [
       "<div>\n",
       "<style scoped>\n",
       "    .dataframe tbody tr th:only-of-type {\n",
       "        vertical-align: middle;\n",
       "    }\n",
       "\n",
       "    .dataframe tbody tr th {\n",
       "        vertical-align: top;\n",
       "    }\n",
       "\n",
       "    .dataframe thead th {\n",
       "        text-align: right;\n",
       "    }\n",
       "</style>\n",
       "<table border=\"1\" class=\"dataframe\">\n",
       "  <thead>\n",
       "    <tr style=\"text-align: right;\">\n",
       "      <th></th>\n",
       "      <th>book_id</th>\n",
       "      <th>goodreads_book_id</th>\n",
       "      <th>best_book_id</th>\n",
       "      <th>work_id</th>\n",
       "      <th>books_count</th>\n",
       "      <th>isbn13</th>\n",
       "      <th>original_publication_year</th>\n",
       "      <th>average_rating</th>\n",
       "      <th>ratings_count</th>\n",
       "      <th>work_ratings_count</th>\n",
       "      <th>work_text_reviews_count</th>\n",
       "      <th>ratings_1</th>\n",
       "      <th>ratings_2</th>\n",
       "      <th>ratings_3</th>\n",
       "      <th>ratings_4</th>\n",
       "      <th>ratings_5</th>\n",
       "    </tr>\n",
       "  </thead>\n",
       "  <tbody>\n",
       "    <tr>\n",
       "      <th>count</th>\n",
       "      <td>10000.00000</td>\n",
       "      <td>1.000000e+04</td>\n",
       "      <td>1.000000e+04</td>\n",
       "      <td>1.000000e+04</td>\n",
       "      <td>10000.000000</td>\n",
       "      <td>9.415000e+03</td>\n",
       "      <td>9979.000000</td>\n",
       "      <td>10000.000000</td>\n",
       "      <td>1.000000e+04</td>\n",
       "      <td>1.000000e+04</td>\n",
       "      <td>10000.000000</td>\n",
       "      <td>10000.000000</td>\n",
       "      <td>10000.000000</td>\n",
       "      <td>10000.000000</td>\n",
       "      <td>1.000000e+04</td>\n",
       "      <td>1.000000e+04</td>\n",
       "    </tr>\n",
       "    <tr>\n",
       "      <th>mean</th>\n",
       "      <td>5000.50000</td>\n",
       "      <td>5.264697e+06</td>\n",
       "      <td>5.471214e+06</td>\n",
       "      <td>8.646183e+06</td>\n",
       "      <td>75.712700</td>\n",
       "      <td>9.755044e+12</td>\n",
       "      <td>1981.987674</td>\n",
       "      <td>4.002191</td>\n",
       "      <td>5.400124e+04</td>\n",
       "      <td>5.968732e+04</td>\n",
       "      <td>2919.955300</td>\n",
       "      <td>1345.040600</td>\n",
       "      <td>3110.885000</td>\n",
       "      <td>11475.893800</td>\n",
       "      <td>1.996570e+04</td>\n",
       "      <td>2.378981e+04</td>\n",
       "    </tr>\n",
       "    <tr>\n",
       "      <th>std</th>\n",
       "      <td>2886.89568</td>\n",
       "      <td>7.575462e+06</td>\n",
       "      <td>7.827330e+06</td>\n",
       "      <td>1.175106e+07</td>\n",
       "      <td>170.470728</td>\n",
       "      <td>4.428619e+11</td>\n",
       "      <td>152.576665</td>\n",
       "      <td>0.254427</td>\n",
       "      <td>1.573700e+05</td>\n",
       "      <td>1.678038e+05</td>\n",
       "      <td>6124.378132</td>\n",
       "      <td>6635.626263</td>\n",
       "      <td>9717.123578</td>\n",
       "      <td>28546.449183</td>\n",
       "      <td>5.144736e+04</td>\n",
       "      <td>7.976889e+04</td>\n",
       "    </tr>\n",
       "    <tr>\n",
       "      <th>min</th>\n",
       "      <td>1.00000</td>\n",
       "      <td>1.000000e+00</td>\n",
       "      <td>1.000000e+00</td>\n",
       "      <td>8.700000e+01</td>\n",
       "      <td>1.000000</td>\n",
       "      <td>1.951703e+08</td>\n",
       "      <td>-1750.000000</td>\n",
       "      <td>2.470000</td>\n",
       "      <td>2.716000e+03</td>\n",
       "      <td>5.510000e+03</td>\n",
       "      <td>3.000000</td>\n",
       "      <td>11.000000</td>\n",
       "      <td>30.000000</td>\n",
       "      <td>323.000000</td>\n",
       "      <td>7.500000e+02</td>\n",
       "      <td>7.540000e+02</td>\n",
       "    </tr>\n",
       "    <tr>\n",
       "      <th>25%</th>\n",
       "      <td>2500.75000</td>\n",
       "      <td>4.627575e+04</td>\n",
       "      <td>4.791175e+04</td>\n",
       "      <td>1.008841e+06</td>\n",
       "      <td>23.000000</td>\n",
       "      <td>9.780316e+12</td>\n",
       "      <td>1990.000000</td>\n",
       "      <td>3.850000</td>\n",
       "      <td>1.356875e+04</td>\n",
       "      <td>1.543875e+04</td>\n",
       "      <td>694.000000</td>\n",
       "      <td>196.000000</td>\n",
       "      <td>656.000000</td>\n",
       "      <td>3112.000000</td>\n",
       "      <td>5.405750e+03</td>\n",
       "      <td>5.334000e+03</td>\n",
       "    </tr>\n",
       "    <tr>\n",
       "      <th>50%</th>\n",
       "      <td>5000.50000</td>\n",
       "      <td>3.949655e+05</td>\n",
       "      <td>4.251235e+05</td>\n",
       "      <td>2.719524e+06</td>\n",
       "      <td>40.000000</td>\n",
       "      <td>9.780452e+12</td>\n",
       "      <td>2004.000000</td>\n",
       "      <td>4.020000</td>\n",
       "      <td>2.115550e+04</td>\n",
       "      <td>2.383250e+04</td>\n",
       "      <td>1402.000000</td>\n",
       "      <td>391.000000</td>\n",
       "      <td>1163.000000</td>\n",
       "      <td>4894.000000</td>\n",
       "      <td>8.269500e+03</td>\n",
       "      <td>8.836000e+03</td>\n",
       "    </tr>\n",
       "    <tr>\n",
       "      <th>75%</th>\n",
       "      <td>7500.25000</td>\n",
       "      <td>9.382225e+06</td>\n",
       "      <td>9.636112e+06</td>\n",
       "      <td>1.451775e+07</td>\n",
       "      <td>67.000000</td>\n",
       "      <td>9.780831e+12</td>\n",
       "      <td>2011.000000</td>\n",
       "      <td>4.180000</td>\n",
       "      <td>4.105350e+04</td>\n",
       "      <td>4.591500e+04</td>\n",
       "      <td>2744.250000</td>\n",
       "      <td>885.000000</td>\n",
       "      <td>2353.250000</td>\n",
       "      <td>9287.000000</td>\n",
       "      <td>1.602350e+04</td>\n",
       "      <td>1.730450e+04</td>\n",
       "    </tr>\n",
       "    <tr>\n",
       "      <th>max</th>\n",
       "      <td>10000.00000</td>\n",
       "      <td>3.328864e+07</td>\n",
       "      <td>3.553423e+07</td>\n",
       "      <td>5.639960e+07</td>\n",
       "      <td>3455.000000</td>\n",
       "      <td>9.790008e+12</td>\n",
       "      <td>2017.000000</td>\n",
       "      <td>4.820000</td>\n",
       "      <td>4.780653e+06</td>\n",
       "      <td>4.942365e+06</td>\n",
       "      <td>155254.000000</td>\n",
       "      <td>456191.000000</td>\n",
       "      <td>436802.000000</td>\n",
       "      <td>793319.000000</td>\n",
       "      <td>1.481305e+06</td>\n",
       "      <td>3.011543e+06</td>\n",
       "    </tr>\n",
       "  </tbody>\n",
       "</table>\n",
       "</div>"
      ],
      "text/plain": [
       "           book_id  goodreads_book_id  best_book_id       work_id  \\\n",
       "count  10000.00000       1.000000e+04  1.000000e+04  1.000000e+04   \n",
       "mean    5000.50000       5.264697e+06  5.471214e+06  8.646183e+06   \n",
       "std     2886.89568       7.575462e+06  7.827330e+06  1.175106e+07   \n",
       "min        1.00000       1.000000e+00  1.000000e+00  8.700000e+01   \n",
       "25%     2500.75000       4.627575e+04  4.791175e+04  1.008841e+06   \n",
       "50%     5000.50000       3.949655e+05  4.251235e+05  2.719524e+06   \n",
       "75%     7500.25000       9.382225e+06  9.636112e+06  1.451775e+07   \n",
       "max    10000.00000       3.328864e+07  3.553423e+07  5.639960e+07   \n",
       "\n",
       "        books_count        isbn13  original_publication_year  average_rating  \\\n",
       "count  10000.000000  9.415000e+03                9979.000000    10000.000000   \n",
       "mean      75.712700  9.755044e+12                1981.987674        4.002191   \n",
       "std      170.470728  4.428619e+11                 152.576665        0.254427   \n",
       "min        1.000000  1.951703e+08               -1750.000000        2.470000   \n",
       "25%       23.000000  9.780316e+12                1990.000000        3.850000   \n",
       "50%       40.000000  9.780452e+12                2004.000000        4.020000   \n",
       "75%       67.000000  9.780831e+12                2011.000000        4.180000   \n",
       "max     3455.000000  9.790008e+12                2017.000000        4.820000   \n",
       "\n",
       "       ratings_count  work_ratings_count  work_text_reviews_count  \\\n",
       "count   1.000000e+04        1.000000e+04             10000.000000   \n",
       "mean    5.400124e+04        5.968732e+04              2919.955300   \n",
       "std     1.573700e+05        1.678038e+05              6124.378132   \n",
       "min     2.716000e+03        5.510000e+03                 3.000000   \n",
       "25%     1.356875e+04        1.543875e+04               694.000000   \n",
       "50%     2.115550e+04        2.383250e+04              1402.000000   \n",
       "75%     4.105350e+04        4.591500e+04              2744.250000   \n",
       "max     4.780653e+06        4.942365e+06            155254.000000   \n",
       "\n",
       "           ratings_1      ratings_2      ratings_3     ratings_4     ratings_5  \n",
       "count   10000.000000   10000.000000   10000.000000  1.000000e+04  1.000000e+04  \n",
       "mean     1345.040600    3110.885000   11475.893800  1.996570e+04  2.378981e+04  \n",
       "std      6635.626263    9717.123578   28546.449183  5.144736e+04  7.976889e+04  \n",
       "min        11.000000      30.000000     323.000000  7.500000e+02  7.540000e+02  \n",
       "25%       196.000000     656.000000    3112.000000  5.405750e+03  5.334000e+03  \n",
       "50%       391.000000    1163.000000    4894.000000  8.269500e+03  8.836000e+03  \n",
       "75%       885.000000    2353.250000    9287.000000  1.602350e+04  1.730450e+04  \n",
       "max    456191.000000  436802.000000  793319.000000  1.481305e+06  3.011543e+06  "
      ]
     },
     "execution_count": 6,
     "metadata": {},
     "output_type": "execute_result"
    }
   ],
   "source": [
    "books.describe()"
   ]
  },
  {
   "cell_type": "markdown",
   "metadata": {},
   "source": [
    "There are 10,000 entries for books. Interestingly, the original publication years reach from 2017 to -1750. Latter sounds like an error. The best rating for a book is 4.8 and the worst 2.47. Not too bad. The book with the most ratings has 4.7 million ratings, the book with the fewest ratings only 2,716 ratings.\n",
    "Inspect the ratings. What is their distribution?"
   ]
  },
  {
   "cell_type": "code",
   "execution_count": 7,
   "metadata": {},
   "outputs": [
    {
     "data": {
      "text/plain": [
       "2075    The Epic of Gilgamesh\n",
       "Name: title, dtype: object"
      ]
     },
     "execution_count": 7,
     "metadata": {},
     "output_type": "execute_result"
    }
   ],
   "source": [
    "books[books[\"original_publication_year\"] == -1750][\"title\"]"
   ]
  },
  {
   "cell_type": "markdown",
   "metadata": {},
   "source": [
    "Quick search for this title shows that this book really exists and was written a long time ago."
   ]
  },
  {
   "cell_type": "code",
   "execution_count": 8,
   "metadata": {},
   "outputs": [
    {
     "name": "stdout",
     "output_type": "stream",
     "text": [
      "column name; column type;\n",
      "{'user_id': 'int64', 'book_id': 'int64', 'rating': 'int64'}\n"
     ]
    },
    {
     "data": {
      "text/html": [
       "<div>\n",
       "<style scoped>\n",
       "    .dataframe tbody tr th:only-of-type {\n",
       "        vertical-align: middle;\n",
       "    }\n",
       "\n",
       "    .dataframe tbody tr th {\n",
       "        vertical-align: top;\n",
       "    }\n",
       "\n",
       "    .dataframe thead th {\n",
       "        text-align: right;\n",
       "    }\n",
       "</style>\n",
       "<table border=\"1\" class=\"dataframe\">\n",
       "  <thead>\n",
       "    <tr style=\"text-align: right;\">\n",
       "      <th></th>\n",
       "      <th>user_id</th>\n",
       "      <th>book_id</th>\n",
       "      <th>rating</th>\n",
       "    </tr>\n",
       "  </thead>\n",
       "  <tbody>\n",
       "    <tr>\n",
       "      <th>0</th>\n",
       "      <td>1</td>\n",
       "      <td>258</td>\n",
       "      <td>5</td>\n",
       "    </tr>\n",
       "    <tr>\n",
       "      <th>1</th>\n",
       "      <td>2</td>\n",
       "      <td>4081</td>\n",
       "      <td>4</td>\n",
       "    </tr>\n",
       "    <tr>\n",
       "      <th>2</th>\n",
       "      <td>2</td>\n",
       "      <td>260</td>\n",
       "      <td>5</td>\n",
       "    </tr>\n",
       "    <tr>\n",
       "      <th>3</th>\n",
       "      <td>2</td>\n",
       "      <td>9296</td>\n",
       "      <td>5</td>\n",
       "    </tr>\n",
       "  </tbody>\n",
       "</table>\n",
       "</div>"
      ],
      "text/plain": [
       "   user_id  book_id  rating\n",
       "0        1      258       5\n",
       "1        2     4081       4\n",
       "2        2      260       5\n",
       "3        2     9296       5"
      ]
     },
     "execution_count": 8,
     "metadata": {},
     "output_type": "execute_result"
    }
   ],
   "source": [
    "show_columns_and_types(ratings)\n",
    "ratings[:4]"
   ]
  },
  {
   "cell_type": "markdown",
   "metadata": {},
   "source": [
    "Ratings dataframe contains entries with a user id, the corresponding book id and a rating."
   ]
  },
  {
   "cell_type": "code",
   "execution_count": 9,
   "metadata": {},
   "outputs": [
    {
     "data": {
      "text/plain": [
       "user_id    0\n",
       "book_id    0\n",
       "rating     0\n",
       "dtype: int64"
      ]
     },
     "execution_count": 9,
     "metadata": {},
     "output_type": "execute_result"
    }
   ],
   "source": [
    "# check if any null/nan values are in the data for the ratings\n",
    "ratings.isnull().sum()"
   ]
  },
  {
   "cell_type": "code",
   "execution_count": 10,
   "metadata": {},
   "outputs": [
    {
     "data": {
      "text/html": [
       "<div>\n",
       "<style scoped>\n",
       "    .dataframe tbody tr th:only-of-type {\n",
       "        vertical-align: middle;\n",
       "    }\n",
       "\n",
       "    .dataframe tbody tr th {\n",
       "        vertical-align: top;\n",
       "    }\n",
       "\n",
       "    .dataframe thead th {\n",
       "        text-align: right;\n",
       "    }\n",
       "</style>\n",
       "<table border=\"1\" class=\"dataframe\">\n",
       "  <thead>\n",
       "    <tr style=\"text-align: right;\">\n",
       "      <th></th>\n",
       "      <th>user_id</th>\n",
       "      <th>book_id</th>\n",
       "      <th>rating</th>\n",
       "    </tr>\n",
       "  </thead>\n",
       "  <tbody>\n",
       "    <tr>\n",
       "      <th>count</th>\n",
       "      <td>5.976479e+06</td>\n",
       "      <td>5.976479e+06</td>\n",
       "      <td>5.976479e+06</td>\n",
       "    </tr>\n",
       "    <tr>\n",
       "      <th>mean</th>\n",
       "      <td>2.622446e+04</td>\n",
       "      <td>2.006477e+03</td>\n",
       "      <td>3.919866e+00</td>\n",
       "    </tr>\n",
       "    <tr>\n",
       "      <th>std</th>\n",
       "      <td>1.541323e+04</td>\n",
       "      <td>2.468499e+03</td>\n",
       "      <td>9.910868e-01</td>\n",
       "    </tr>\n",
       "    <tr>\n",
       "      <th>min</th>\n",
       "      <td>1.000000e+00</td>\n",
       "      <td>1.000000e+00</td>\n",
       "      <td>1.000000e+00</td>\n",
       "    </tr>\n",
       "    <tr>\n",
       "      <th>25%</th>\n",
       "      <td>1.281300e+04</td>\n",
       "      <td>1.980000e+02</td>\n",
       "      <td>3.000000e+00</td>\n",
       "    </tr>\n",
       "    <tr>\n",
       "      <th>50%</th>\n",
       "      <td>2.593800e+04</td>\n",
       "      <td>8.850000e+02</td>\n",
       "      <td>4.000000e+00</td>\n",
       "    </tr>\n",
       "    <tr>\n",
       "      <th>75%</th>\n",
       "      <td>3.950900e+04</td>\n",
       "      <td>2.973000e+03</td>\n",
       "      <td>5.000000e+00</td>\n",
       "    </tr>\n",
       "    <tr>\n",
       "      <th>max</th>\n",
       "      <td>5.342400e+04</td>\n",
       "      <td>1.000000e+04</td>\n",
       "      <td>5.000000e+00</td>\n",
       "    </tr>\n",
       "  </tbody>\n",
       "</table>\n",
       "</div>"
      ],
      "text/plain": [
       "            user_id       book_id        rating\n",
       "count  5.976479e+06  5.976479e+06  5.976479e+06\n",
       "mean   2.622446e+04  2.006477e+03  3.919866e+00\n",
       "std    1.541323e+04  2.468499e+03  9.910868e-01\n",
       "min    1.000000e+00  1.000000e+00  1.000000e+00\n",
       "25%    1.281300e+04  1.980000e+02  3.000000e+00\n",
       "50%    2.593800e+04  8.850000e+02  4.000000e+00\n",
       "75%    3.950900e+04  2.973000e+03  5.000000e+00\n",
       "max    5.342400e+04  1.000000e+04  5.000000e+00"
      ]
     },
     "execution_count": 10,
     "metadata": {},
     "output_type": "execute_result"
    }
   ],
   "source": [
    "ratings.describe()"
   ]
  },
  {
   "cell_type": "markdown",
   "metadata": {},
   "source": [
    "Ratings are within the range of 1-5."
   ]
  },
  {
   "cell_type": "code",
   "execution_count": 55,
   "metadata": {},
   "outputs": [
    {
     "data": {
      "text/plain": [
       "True"
      ]
     },
     "execution_count": 55,
     "metadata": {},
     "output_type": "execute_result"
    }
   ],
   "source": [
    "len(ratings.groupby([\"user_id\", \"book_id\"]).size().reset_index()) == ratings.shape[0]"
   ]
  },
  {
   "cell_type": "markdown",
   "metadata": {},
   "source": [
    "No duplicate ratings for a user - book combination."
   ]
  },
  {
   "cell_type": "code",
   "execution_count": 21,
   "metadata": {},
   "outputs": [
    {
     "data": {
      "text/plain": [
       "<seaborn.axisgrid.FacetGrid at 0x125a9595f28>"
      ]
     },
     "execution_count": 21,
     "metadata": {},
     "output_type": "execute_result"
    },
    {
     "data": {
      "image/png": "[encoded data removed]",
      "text/plain": [
       "<Figure size 360x360 with 1 Axes>"
      ]
     },
     "metadata": {
      "needs_background": "light"
     },
     "output_type": "display_data"
    }
   ],
   "source": [
    "# inspect the distribution of ratings\n",
    "sns.displot(data=ratings[\"rating\"], discrete=True)"
   ]
  },
  {
   "cell_type": "code",
   "execution_count": null,
   "metadata": {},
   "outputs": [],
   "source": [
    "# group ratings by user\n",
    "ratings_per_user = ratings.groupby([\"user_id\"]).count()[\"rating\"].reset_index(name=\"rating_counts\")\n"
   ]
  },
  {
   "cell_type": "code",
   "execution_count": 24,
   "metadata": {},
   "outputs": [
    {
     "output_type": "stream",
     "name": "stdout",
     "text": [
      "There are 53424 users in the dataset.\n"
     ]
    }
   ],
   "source": [
    "print(\"There are {} users in the dataset.\".format(ratings.groupby([\"user_id\"]).count().shape[0]))"
   ]
  },
  {
   "cell_type": "code",
   "execution_count": 32,
   "metadata": {},
   "outputs": [
    {
     "data": {
      "text/plain": [
       "<seaborn.axisgrid.FacetGrid at 0x125b1631278>"
      ]
     },
     "execution_count": 32,
     "metadata": {},
     "output_type": "execute_result"
    },
    {
     "data": {
      "image/png": "[encoded data removed]",
      "text/plain": [
       "<Figure size 360x360 with 1 Axes>"
      ]
     },
     "metadata": {
      "needs_background": "light"
     },
     "output_type": "display_data"
    }
   ],
   "source": [
    "# inspect the distribution of ratings per user\n",
    "sns.displot(data=ratings_per_user, x=\"rating_counts\", binwidth=10)"
   ]
  },
  {
   "cell_type": "markdown",
   "metadata": {},
   "source": [
    "Most of the users have around 100 ratings. Maximum number of ratings is 200."
   ]
  },
  {
   "cell_type": "code",
   "execution_count": 14,
   "metadata": {},
   "outputs": [
    {
     "output_type": "display_data",
     "data": {
      "text/plain": "<Figure size 360x360 with 1 Axes>",
      "image/svg+xml": "<?xml version=\"1.0\" encoding=\"utf-8\" standalone=\"no\"?>\n<!DOCTYPE svg PUBLIC \"-//W3C//DTD SVG 1.1//EN\"\n  \"http://www.w3.org/Graphics/SVG/1.1/DTD/svg11.dtd\">\n<!-- Created with matplotlib (https://matplotlib.org/) -->\n<svg height=\"348.333571pt\" version=\"1.1\" viewBox=\"0 0 361.08625 348.333571\" width=\"361.08625pt\" xmlns=\"http://www.w3.org/2000/svg\" xmlns:xlink=\"http://www.w3.org/1999/xlink\">\n <metadata>\n  <rdf:RDF xmlns:cc=\"http://creativecommons.org/ns#\" xmlns:dc=\"http://purl.org/dc/elements/1.1/\" xmlns:rdf=\"http://www.w3.org/1999/02/22-rdf-syntax-ns#\">\n   <cc:Work>\n    <dc:type rdf:resource=\"http://purl.org/dc/dcmitype/StillImage\"/>\n    <dc:date>2020-12-25T19:23:59.731647</dc:date>\n    <dc:format>image/svg+xml</dc:format>\n    <dc:creator>\n     <cc:Agent>\n      <dc:title>Matplotlib v3.3.0, https://matplotlib.org/</dc:title>\n     </cc:Agent>\n    </dc:creator>\n   </cc:Work>\n  </rdf:RDF>\n </metadata>\n <defs>\n  <style type=\"text/css\">*{stroke-linecap:butt;stroke-linejoin:round;}</style>\n </defs>\n <g id=\"figure_1\">\n  <g id=\"patch_1\">\n   <path d=\"M 0 348.333571 \nL 361.08625 348.333571 \nL 361.08625 0 \nL 0 0 \nz\n\" style=\"fill:#ffffff;\"/>\n  </g>\n  <g id=\"axes_1\">\n   <g id=\"patch_2\">\n    <path d=\"M 60.30875 305.040133 \nL 339.88875 305.040133 \nL 339.88875 9.822737 \nL 60.30875 9.822737 \nz\n\" style=\"fill:#ffffff;\"/>\n   </g>\n   <g id=\"matplotlib.axis_1\">\n    <g id=\"xtick_1\">\n     <g id=\"line2d_1\">\n      <defs>\n       <path d=\"M 0 0 \nL 0 6 \n\" id=\"mb1c1bf467a\" style=\"stroke:#262626;stroke-width:1.25;\"/>\n      </defs>\n      <g>\n       <use style=\"fill:#262626;stroke:#262626;stroke-width:1.25;\" x=\"60.30875\" xlink:href=\"#mb1c1bf467a\" y=\"305.040133\"/>\n      </g>\n     </g>\n     <g id=\"text_1\">\n      <!-- 0 -->\n      <g style=\"fill:#262626;\" transform=\"translate(56.809375 322.898414)scale(0.11 -0.11)\">\n       <defs>\n        <path d=\"M 31.78125 66.40625 \nQ 24.171875 66.40625 20.328125 58.90625 \nQ 16.5 51.421875 16.5 36.375 \nQ 16.5 21.390625 20.328125 13.890625 \nQ 24.171875 6.390625 31.78125 6.390625 \nQ 39.453125 6.390625 43.28125 13.890625 \nQ 47.125 21.390625 47.125 36.375 \nQ 47.125 51.421875 43.28125 58.90625 \nQ 39.453125 66.40625 31.78125 66.40625 \nz\nM 31.78125 74.21875 \nQ 44.046875 74.21875 50.515625 64.515625 \nQ 56.984375 54.828125 56.984375 36.375 \nQ 56.984375 17.96875 50.515625 8.265625 \nQ 44.046875 -1.421875 31.78125 -1.421875 \nQ 19.53125 -1.421875 13.0625 8.265625 \nQ 6.59375 17.96875 6.59375 36.375 \nQ 6.59375 54.828125 13.0625 64.515625 \nQ 19.53125 74.21875 31.78125 74.21875 \nz\n\" id=\"DejaVuSans-48\"/>\n       </defs>\n       <use xlink:href=\"#DejaVuSans-48\"/>\n      </g>\n     </g>\n    </g>\n    <g id=\"xtick_2\">\n     <g id=\"line2d_2\">\n      <g>\n       <use style=\"fill:#262626;stroke:#262626;stroke-width:1.25;\" x=\"95.25625\" xlink:href=\"#mb1c1bf467a\" y=\"305.040133\"/>\n      </g>\n     </g>\n     <g id=\"text_2\">\n      <!-- 250 -->\n      <g style=\"fill:#262626;\" transform=\"translate(84.758125 322.898414)scale(0.11 -0.11)\">\n       <defs>\n        <path d=\"M 19.1875 8.296875 \nL 53.609375 8.296875 \nL 53.609375 0 \nL 7.328125 0 \nL 7.328125 8.296875 \nQ 12.9375 14.109375 22.625 23.890625 \nQ 32.328125 33.6875 34.8125 36.53125 \nQ 39.546875 41.84375 41.421875 45.53125 \nQ 43.3125 49.21875 43.3125 52.78125 \nQ 43.3125 58.59375 39.234375 62.25 \nQ 35.15625 65.921875 28.609375 65.921875 \nQ 23.96875 65.921875 18.8125 64.3125 \nQ 13.671875 62.703125 7.8125 59.421875 \nL 7.8125 69.390625 \nQ 13.765625 71.78125 18.9375 73 \nQ 24.125 74.21875 28.421875 74.21875 \nQ 39.75 74.21875 46.484375 68.546875 \nQ 53.21875 62.890625 53.21875 53.421875 \nQ 53.21875 48.921875 51.53125 44.890625 \nQ 49.859375 40.875 45.40625 35.40625 \nQ 44.1875 33.984375 37.640625 27.21875 \nQ 31.109375 20.453125 19.1875 8.296875 \nz\n\" id=\"DejaVuSans-50\"/>\n        <path d=\"M 10.796875 72.90625 \nL 49.515625 72.90625 \nL 49.515625 64.59375 \nL 19.828125 64.59375 \nL 19.828125 46.734375 \nQ 21.96875 47.46875 24.109375 47.828125 \nQ 26.265625 48.1875 28.421875 48.1875 \nQ 40.625 48.1875 47.75 41.5 \nQ 54.890625 34.8125 54.890625 23.390625 \nQ 54.890625 11.625 47.5625 5.09375 \nQ 40.234375 -1.421875 26.90625 -1.421875 \nQ 22.3125 -1.421875 17.546875 -0.640625 \nQ 12.796875 0.140625 7.71875 1.703125 \nL 7.71875 11.625 \nQ 12.109375 9.234375 16.796875 8.0625 \nQ 21.484375 6.890625 26.703125 6.890625 \nQ 35.15625 6.890625 40.078125 11.328125 \nQ 45.015625 15.765625 45.015625 23.390625 \nQ 45.015625 31 40.078125 35.4375 \nQ 35.15625 39.890625 26.703125 39.890625 \nQ 22.75 39.890625 18.8125 39.015625 \nQ 14.890625 38.140625 10.796875 36.28125 \nz\n\" id=\"DejaVuSans-53\"/>\n       </defs>\n       <use xlink:href=\"#DejaVuSans-50\"/>\n       <use x=\"63.623047\" xlink:href=\"#DejaVuSans-53\"/>\n       <use x=\"127.246094\" xlink:href=\"#DejaVuSans-48\"/>\n      </g>\n     </g>\n    </g>\n    <g id=\"xtick_3\">\n     <g id=\"line2d_3\">\n      <g>\n       <use style=\"fill:#262626;stroke:#262626;stroke-width:1.25;\" x=\"130.20375\" xlink:href=\"#mb1c1bf467a\" y=\"305.040133\"/>\n      </g>\n     </g>\n     <g id=\"text_3\">\n      <!-- 500 -->\n      <g style=\"fill:#262626;\" transform=\"translate(119.705625 322.898414)scale(0.11 -0.11)\">\n       <use xlink:href=\"#DejaVuSans-53\"/>\n       <use x=\"63.623047\" xlink:href=\"#DejaVuSans-48\"/>\n       <use x=\"127.246094\" xlink:href=\"#DejaVuSans-48\"/>\n      </g>\n     </g>\n    </g>\n    <g id=\"xtick_4\">\n     <g id=\"line2d_4\">\n      <g>\n       <use style=\"fill:#262626;stroke:#262626;stroke-width:1.25;\" x=\"165.15125\" xlink:href=\"#mb1c1bf467a\" y=\"305.040133\"/>\n      </g>\n     </g>\n     <g id=\"text_4\">\n      <!-- 750 -->\n      <g style=\"fill:#262626;\" transform=\"translate(154.653125 322.898414)scale(0.11 -0.11)\">\n       <defs>\n        <path d=\"M 8.203125 72.90625 \nL 55.078125 72.90625 \nL 55.078125 68.703125 \nL 28.609375 0 \nL 18.3125 0 \nL 43.21875 64.59375 \nL 8.203125 64.59375 \nz\n\" id=\"DejaVuSans-55\"/>\n       </defs>\n       <use xlink:href=\"#DejaVuSans-55\"/>\n       <use x=\"63.623047\" xlink:href=\"#DejaVuSans-53\"/>\n       <use x=\"127.246094\" xlink:href=\"#DejaVuSans-48\"/>\n      </g>\n     </g>\n    </g>\n    <g id=\"xtick_5\">\n     <g id=\"line2d_5\">\n      <g>\n       <use style=\"fill:#262626;stroke:#262626;stroke-width:1.25;\" x=\"200.09875\" xlink:href=\"#mb1c1bf467a\" y=\"305.040133\"/>\n      </g>\n     </g>\n     <g id=\"text_5\">\n      <!-- 1000 -->\n      <g style=\"fill:#262626;\" transform=\"translate(186.10125 322.898414)scale(0.11 -0.11)\">\n       <defs>\n        <path d=\"M 12.40625 8.296875 \nL 28.515625 8.296875 \nL 28.515625 63.921875 \nL 10.984375 60.40625 \nL 10.984375 69.390625 \nL 28.421875 72.90625 \nL 38.28125 72.90625 \nL 38.28125 8.296875 \nL 54.390625 8.296875 \nL 54.390625 0 \nL 12.40625 0 \nz\n\" id=\"DejaVuSans-49\"/>\n       </defs>\n       <use xlink:href=\"#DejaVuSans-49\"/>\n       <use x=\"63.623047\" xlink:href=\"#DejaVuSans-48\"/>\n       <use x=\"127.246094\" xlink:href=\"#DejaVuSans-48\"/>\n       <use x=\"190.869141\" xlink:href=\"#DejaVuSans-48\"/>\n      </g>\n     </g>\n    </g>\n    <g id=\"xtick_6\">\n     <g id=\"line2d_6\">\n      <g>\n       <use style=\"fill:#262626;stroke:#262626;stroke-width:1.25;\" x=\"235.04625\" xlink:href=\"#mb1c1bf467a\" y=\"305.040133\"/>\n      </g>\n     </g>\n     <g id=\"text_6\">\n      <!-- 1250 -->\n      <g style=\"fill:#262626;\" transform=\"translate(221.04875 322.898414)scale(0.11 -0.11)\">\n       <use xlink:href=\"#DejaVuSans-49\"/>\n       <use x=\"63.623047\" xlink:href=\"#DejaVuSans-50\"/>\n       <use x=\"127.246094\" xlink:href=\"#DejaVuSans-53\"/>\n       <use x=\"190.869141\" xlink:href=\"#DejaVuSans-48\"/>\n      </g>\n     </g>\n    </g>\n    <g id=\"xtick_7\">\n     <g id=\"line2d_7\">\n      <g>\n       <use style=\"fill:#262626;stroke:#262626;stroke-width:1.25;\" x=\"269.99375\" xlink:href=\"#mb1c1bf467a\" y=\"305.040133\"/>\n      </g>\n     </g>\n     <g id=\"text_7\">\n      <!-- 1500 -->\n      <g style=\"fill:#262626;\" transform=\"translate(255.99625 322.898414)scale(0.11 -0.11)\">\n       <use xlink:href=\"#DejaVuSans-49\"/>\n       <use x=\"63.623047\" xlink:href=\"#DejaVuSans-53\"/>\n       <use x=\"127.246094\" xlink:href=\"#DejaVuSans-48\"/>\n       <use x=\"190.869141\" xlink:href=\"#DejaVuSans-48\"/>\n      </g>\n     </g>\n    </g>\n    <g id=\"xtick_8\">\n     <g id=\"line2d_8\">\n      <g>\n       <use style=\"fill:#262626;stroke:#262626;stroke-width:1.25;\" x=\"304.94125\" xlink:href=\"#mb1c1bf467a\" y=\"305.040133\"/>\n      </g>\n     </g>\n     <g id=\"text_8\">\n      <!-- 1750 -->\n      <g style=\"fill:#262626;\" transform=\"translate(290.94375 322.898414)scale(0.11 -0.11)\">\n       <use xlink:href=\"#DejaVuSans-49\"/>\n       <use x=\"63.623047\" xlink:href=\"#DejaVuSans-55\"/>\n       <use x=\"127.246094\" xlink:href=\"#DejaVuSans-53\"/>\n       <use x=\"190.869141\" xlink:href=\"#DejaVuSans-48\"/>\n      </g>\n     </g>\n    </g>\n    <g id=\"xtick_9\">\n     <g id=\"line2d_9\">\n      <g>\n       <use style=\"fill:#262626;stroke:#262626;stroke-width:1.25;\" x=\"339.88875\" xlink:href=\"#mb1c1bf467a\" y=\"305.040133\"/>\n      </g>\n     </g>\n     <g id=\"text_9\">\n      <!-- 2000 -->\n      <g style=\"fill:#262626;\" transform=\"translate(325.89125 322.898414)scale(0.11 -0.11)\">\n       <use xlink:href=\"#DejaVuSans-50\"/>\n       <use x=\"63.623047\" xlink:href=\"#DejaVuSans-48\"/>\n       <use x=\"127.246094\" xlink:href=\"#DejaVuSans-48\"/>\n       <use x=\"190.869141\" xlink:href=\"#DejaVuSans-48\"/>\n      </g>\n     </g>\n    </g>\n    <g id=\"text_10\">\n     <!-- rating_counts -->\n     <g style=\"fill:#262626;\" transform=\"translate(159.271562 338.304196)scale(0.12 -0.12)\">\n      <defs>\n       <path d=\"M 41.109375 46.296875 \nQ 39.59375 47.171875 37.8125 47.578125 \nQ 36.03125 48 33.890625 48 \nQ 26.265625 48 22.1875 43.046875 \nQ 18.109375 38.09375 18.109375 28.8125 \nL 18.109375 0 \nL 9.078125 0 \nL 9.078125 54.6875 \nL 18.109375 54.6875 \nL 18.109375 46.1875 \nQ 20.953125 51.171875 25.484375 53.578125 \nQ 30.03125 56 36.53125 56 \nQ 37.453125 56 38.578125 55.875 \nQ 39.703125 55.765625 41.0625 55.515625 \nz\n\" id=\"DejaVuSans-114\"/>\n       <path d=\"M 34.28125 27.484375 \nQ 23.390625 27.484375 19.1875 25 \nQ 14.984375 22.515625 14.984375 16.5 \nQ 14.984375 11.71875 18.140625 8.90625 \nQ 21.296875 6.109375 26.703125 6.109375 \nQ 34.1875 6.109375 38.703125 11.40625 \nQ 43.21875 16.703125 43.21875 25.484375 \nL 43.21875 27.484375 \nz\nM 52.203125 31.203125 \nL 52.203125 0 \nL 43.21875 0 \nL 43.21875 8.296875 \nQ 40.140625 3.328125 35.546875 0.953125 \nQ 30.953125 -1.421875 24.3125 -1.421875 \nQ 15.921875 -1.421875 10.953125 3.296875 \nQ 6 8.015625 6 15.921875 \nQ 6 25.140625 12.171875 29.828125 \nQ 18.359375 34.515625 30.609375 34.515625 \nL 43.21875 34.515625 \nL 43.21875 35.40625 \nQ 43.21875 41.609375 39.140625 45 \nQ 35.0625 48.390625 27.6875 48.390625 \nQ 23 48.390625 18.546875 47.265625 \nQ 14.109375 46.140625 10.015625 43.890625 \nL 10.015625 52.203125 \nQ 14.9375 54.109375 19.578125 55.046875 \nQ 24.21875 56 28.609375 56 \nQ 40.484375 56 46.34375 49.84375 \nQ 52.203125 43.703125 52.203125 31.203125 \nz\n\" id=\"DejaVuSans-97\"/>\n       <path d=\"M 18.3125 70.21875 \nL 18.3125 54.6875 \nL 36.8125 54.6875 \nL 36.8125 47.703125 \nL 18.3125 47.703125 \nL 18.3125 18.015625 \nQ 18.3125 11.328125 20.140625 9.421875 \nQ 21.96875 7.515625 27.59375 7.515625 \nL 36.8125 7.515625 \nL 36.8125 0 \nL 27.59375 0 \nQ 17.1875 0 13.234375 3.875 \nQ 9.28125 7.765625 9.28125 18.015625 \nL 9.28125 47.703125 \nL 2.6875 47.703125 \nL 2.6875 54.6875 \nL 9.28125 54.6875 \nL 9.28125 70.21875 \nz\n\" id=\"DejaVuSans-116\"/>\n       <path d=\"M 9.421875 54.6875 \nL 18.40625 54.6875 \nL 18.40625 0 \nL 9.421875 0 \nz\nM 9.421875 75.984375 \nL 18.40625 75.984375 \nL 18.40625 64.59375 \nL 9.421875 64.59375 \nz\n\" id=\"DejaVuSans-105\"/>\n       <path d=\"M 54.890625 33.015625 \nL 54.890625 0 \nL 45.90625 0 \nL 45.90625 32.71875 \nQ 45.90625 40.484375 42.875 44.328125 \nQ 39.84375 48.1875 33.796875 48.1875 \nQ 26.515625 48.1875 22.3125 43.546875 \nQ 18.109375 38.921875 18.109375 30.90625 \nL 18.109375 0 \nL 9.078125 0 \nL 9.078125 54.6875 \nL 18.109375 54.6875 \nL 18.109375 46.1875 \nQ 21.34375 51.125 25.703125 53.5625 \nQ 30.078125 56 35.796875 56 \nQ 45.21875 56 50.046875 50.171875 \nQ 54.890625 44.34375 54.890625 33.015625 \nz\n\" id=\"DejaVuSans-110\"/>\n       <path d=\"M 45.40625 27.984375 \nQ 45.40625 37.75 41.375 43.109375 \nQ 37.359375 48.484375 30.078125 48.484375 \nQ 22.859375 48.484375 18.828125 43.109375 \nQ 14.796875 37.75 14.796875 27.984375 \nQ 14.796875 18.265625 18.828125 12.890625 \nQ 22.859375 7.515625 30.078125 7.515625 \nQ 37.359375 7.515625 41.375 12.890625 \nQ 45.40625 18.265625 45.40625 27.984375 \nz\nM 54.390625 6.78125 \nQ 54.390625 -7.171875 48.1875 -13.984375 \nQ 42 -20.796875 29.203125 -20.796875 \nQ 24.46875 -20.796875 20.265625 -20.09375 \nQ 16.0625 -19.390625 12.109375 -17.921875 \nL 12.109375 -9.1875 \nQ 16.0625 -11.328125 19.921875 -12.34375 \nQ 23.78125 -13.375 27.78125 -13.375 \nQ 36.625 -13.375 41.015625 -8.765625 \nQ 45.40625 -4.15625 45.40625 5.171875 \nL 45.40625 9.625 \nQ 42.625 4.78125 38.28125 2.390625 \nQ 33.9375 0 27.875 0 \nQ 17.828125 0 11.671875 7.65625 \nQ 5.515625 15.328125 5.515625 27.984375 \nQ 5.515625 40.671875 11.671875 48.328125 \nQ 17.828125 56 27.875 56 \nQ 33.9375 56 38.28125 53.609375 \nQ 42.625 51.21875 45.40625 46.390625 \nL 45.40625 54.6875 \nL 54.390625 54.6875 \nz\n\" id=\"DejaVuSans-103\"/>\n       <path d=\"M 50.984375 -16.609375 \nL 50.984375 -23.578125 \nL -0.984375 -23.578125 \nL -0.984375 -16.609375 \nz\n\" id=\"DejaVuSans-95\"/>\n       <path d=\"M 48.78125 52.59375 \nL 48.78125 44.1875 \nQ 44.96875 46.296875 41.140625 47.34375 \nQ 37.3125 48.390625 33.40625 48.390625 \nQ 24.65625 48.390625 19.8125 42.84375 \nQ 14.984375 37.3125 14.984375 27.296875 \nQ 14.984375 17.28125 19.8125 11.734375 \nQ 24.65625 6.203125 33.40625 6.203125 \nQ 37.3125 6.203125 41.140625 7.25 \nQ 44.96875 8.296875 48.78125 10.40625 \nL 48.78125 2.09375 \nQ 45.015625 0.34375 40.984375 -0.53125 \nQ 36.96875 -1.421875 32.421875 -1.421875 \nQ 20.0625 -1.421875 12.78125 6.34375 \nQ 5.515625 14.109375 5.515625 27.296875 \nQ 5.515625 40.671875 12.859375 48.328125 \nQ 20.21875 56 33.015625 56 \nQ 37.15625 56 41.109375 55.140625 \nQ 45.0625 54.296875 48.78125 52.59375 \nz\n\" id=\"DejaVuSans-99\"/>\n       <path d=\"M 30.609375 48.390625 \nQ 23.390625 48.390625 19.1875 42.75 \nQ 14.984375 37.109375 14.984375 27.296875 \nQ 14.984375 17.484375 19.15625 11.84375 \nQ 23.34375 6.203125 30.609375 6.203125 \nQ 37.796875 6.203125 41.984375 11.859375 \nQ 46.1875 17.53125 46.1875 27.296875 \nQ 46.1875 37.015625 41.984375 42.703125 \nQ 37.796875 48.390625 30.609375 48.390625 \nz\nM 30.609375 56 \nQ 42.328125 56 49.015625 48.375 \nQ 55.71875 40.765625 55.71875 27.296875 \nQ 55.71875 13.875 49.015625 6.21875 \nQ 42.328125 -1.421875 30.609375 -1.421875 \nQ 18.84375 -1.421875 12.171875 6.21875 \nQ 5.515625 13.875 5.515625 27.296875 \nQ 5.515625 40.765625 12.171875 48.375 \nQ 18.84375 56 30.609375 56 \nz\n\" id=\"DejaVuSans-111\"/>\n       <path d=\"M 8.5 21.578125 \nL 8.5 54.6875 \nL 17.484375 54.6875 \nL 17.484375 21.921875 \nQ 17.484375 14.15625 20.5 10.265625 \nQ 23.53125 6.390625 29.59375 6.390625 \nQ 36.859375 6.390625 41.078125 11.03125 \nQ 45.3125 15.671875 45.3125 23.6875 \nL 45.3125 54.6875 \nL 54.296875 54.6875 \nL 54.296875 0 \nL 45.3125 0 \nL 45.3125 8.40625 \nQ 42.046875 3.421875 37.71875 1 \nQ 33.40625 -1.421875 27.6875 -1.421875 \nQ 18.265625 -1.421875 13.375 4.4375 \nQ 8.5 10.296875 8.5 21.578125 \nz\nM 31.109375 56 \nz\n\" id=\"DejaVuSans-117\"/>\n       <path d=\"M 44.28125 53.078125 \nL 44.28125 44.578125 \nQ 40.484375 46.53125 36.375 47.5 \nQ 32.28125 48.484375 27.875 48.484375 \nQ 21.1875 48.484375 17.84375 46.4375 \nQ 14.5 44.390625 14.5 40.28125 \nQ 14.5 37.15625 16.890625 35.375 \nQ 19.28125 33.59375 26.515625 31.984375 \nL 29.59375 31.296875 \nQ 39.15625 29.25 43.1875 25.515625 \nQ 47.21875 21.78125 47.21875 15.09375 \nQ 47.21875 7.46875 41.1875 3.015625 \nQ 35.15625 -1.421875 24.609375 -1.421875 \nQ 20.21875 -1.421875 15.453125 -0.5625 \nQ 10.6875 0.296875 5.421875 2 \nL 5.421875 11.28125 \nQ 10.40625 8.6875 15.234375 7.390625 \nQ 20.0625 6.109375 24.8125 6.109375 \nQ 31.15625 6.109375 34.5625 8.28125 \nQ 37.984375 10.453125 37.984375 14.40625 \nQ 37.984375 18.0625 35.515625 20.015625 \nQ 33.0625 21.96875 24.703125 23.78125 \nL 21.578125 24.515625 \nQ 13.234375 26.265625 9.515625 29.90625 \nQ 5.8125 33.546875 5.8125 39.890625 \nQ 5.8125 47.609375 11.28125 51.796875 \nQ 16.75 56 26.8125 56 \nQ 31.78125 56 36.171875 55.265625 \nQ 40.578125 54.546875 44.28125 53.078125 \nz\n\" id=\"DejaVuSans-115\"/>\n      </defs>\n      <use xlink:href=\"#DejaVuSans-114\"/>\n      <use x=\"41.113281\" xlink:href=\"#DejaVuSans-97\"/>\n      <use x=\"102.392578\" xlink:href=\"#DejaVuSans-116\"/>\n      <use x=\"141.601562\" xlink:href=\"#DejaVuSans-105\"/>\n      <use x=\"169.384766\" xlink:href=\"#DejaVuSans-110\"/>\n      <use x=\"232.763672\" xlink:href=\"#DejaVuSans-103\"/>\n      <use x=\"296.240234\" xlink:href=\"#DejaVuSans-95\"/>\n      <use x=\"346.240234\" xlink:href=\"#DejaVuSans-99\"/>\n      <use x=\"401.220703\" xlink:href=\"#DejaVuSans-111\"/>\n      <use x=\"462.402344\" xlink:href=\"#DejaVuSans-117\"/>\n      <use x=\"525.78125\" xlink:href=\"#DejaVuSans-110\"/>\n      <use x=\"589.160156\" xlink:href=\"#DejaVuSans-116\"/>\n      <use x=\"628.369141\" xlink:href=\"#DejaVuSans-115\"/>\n     </g>\n    </g>\n   </g>\n   <g id=\"matplotlib.axis_2\">\n    <g id=\"ytick_1\">\n     <g id=\"line2d_10\">\n      <defs>\n       <path d=\"M 0 0 \nL -6 0 \n\" id=\"mb7c5980d60\" style=\"stroke:#262626;stroke-width:1.25;\"/>\n      </defs>\n      <g>\n       <use style=\"fill:#262626;stroke:#262626;stroke-width:1.25;\" x=\"60.30875\" xlink:href=\"#mb7c5980d60\" y=\"305.040133\"/>\n      </g>\n     </g>\n     <g id=\"text_11\">\n      <!-- 0 -->\n      <g style=\"fill:#262626;\" transform=\"translate(43.81 309.219274)scale(0.11 -0.11)\">\n       <use xlink:href=\"#DejaVuSans-48\"/>\n      </g>\n     </g>\n    </g>\n    <g id=\"ytick_2\">\n     <g id=\"line2d_11\">\n      <g>\n       <use style=\"fill:#262626;stroke:#262626;stroke-width:1.25;\" x=\"60.30875\" xlink:href=\"#mb7c5980d60\" y=\"263.088563\"/>\n      </g>\n     </g>\n     <g id=\"text_12\">\n      <!-- 500 -->\n      <g style=\"fill:#262626;\" transform=\"translate(29.8125 267.267703)scale(0.11 -0.11)\">\n       <use xlink:href=\"#DejaVuSans-53\"/>\n       <use x=\"63.623047\" xlink:href=\"#DejaVuSans-48\"/>\n       <use x=\"127.246094\" xlink:href=\"#DejaVuSans-48\"/>\n      </g>\n     </g>\n    </g>\n    <g id=\"ytick_3\">\n     <g id=\"line2d_12\">\n      <g>\n       <use style=\"fill:#262626;stroke:#262626;stroke-width:1.25;\" x=\"60.30875\" xlink:href=\"#mb7c5980d60\" y=\"221.136992\"/>\n      </g>\n     </g>\n     <g id=\"text_13\">\n      <!-- 1000 -->\n      <g style=\"fill:#262626;\" transform=\"translate(22.81375 225.316133)scale(0.11 -0.11)\">\n       <use xlink:href=\"#DejaVuSans-49\"/>\n       <use x=\"63.623047\" xlink:href=\"#DejaVuSans-48\"/>\n       <use x=\"127.246094\" xlink:href=\"#DejaVuSans-48\"/>\n       <use x=\"190.869141\" xlink:href=\"#DejaVuSans-48\"/>\n      </g>\n     </g>\n    </g>\n    <g id=\"ytick_4\">\n     <g id=\"line2d_13\">\n      <g>\n       <use style=\"fill:#262626;stroke:#262626;stroke-width:1.25;\" x=\"60.30875\" xlink:href=\"#mb7c5980d60\" y=\"179.185422\"/>\n      </g>\n     </g>\n     <g id=\"text_14\">\n      <!-- 1500 -->\n      <g style=\"fill:#262626;\" transform=\"translate(22.81375 183.364563)scale(0.11 -0.11)\">\n       <use xlink:href=\"#DejaVuSans-49\"/>\n       <use x=\"63.623047\" xlink:href=\"#DejaVuSans-53\"/>\n       <use x=\"127.246094\" xlink:href=\"#DejaVuSans-48\"/>\n       <use x=\"190.869141\" xlink:href=\"#DejaVuSans-48\"/>\n      </g>\n     </g>\n    </g>\n    <g id=\"ytick_5\">\n     <g id=\"line2d_14\">\n      <g>\n       <use style=\"fill:#262626;stroke:#262626;stroke-width:1.25;\" x=\"60.30875\" xlink:href=\"#mb7c5980d60\" y=\"137.233852\"/>\n      </g>\n     </g>\n     <g id=\"text_15\">\n      <!-- 2000 -->\n      <g style=\"fill:#262626;\" transform=\"translate(22.81375 141.412992)scale(0.11 -0.11)\">\n       <use xlink:href=\"#DejaVuSans-50\"/>\n       <use x=\"63.623047\" xlink:href=\"#DejaVuSans-48\"/>\n       <use x=\"127.246094\" xlink:href=\"#DejaVuSans-48\"/>\n       <use x=\"190.869141\" xlink:href=\"#DejaVuSans-48\"/>\n      </g>\n     </g>\n    </g>\n    <g id=\"ytick_6\">\n     <g id=\"line2d_15\">\n      <g>\n       <use style=\"fill:#262626;stroke:#262626;stroke-width:1.25;\" x=\"60.30875\" xlink:href=\"#mb7c5980d60\" y=\"95.282281\"/>\n      </g>\n     </g>\n     <g id=\"text_16\">\n      <!-- 2500 -->\n      <g style=\"fill:#262626;\" transform=\"translate(22.81375 99.461422)scale(0.11 -0.11)\">\n       <use xlink:href=\"#DejaVuSans-50\"/>\n       <use x=\"63.623047\" xlink:href=\"#DejaVuSans-53\"/>\n       <use x=\"127.246094\" xlink:href=\"#DejaVuSans-48\"/>\n       <use x=\"190.869141\" xlink:href=\"#DejaVuSans-48\"/>\n      </g>\n     </g>\n    </g>\n    <g id=\"ytick_7\">\n     <g id=\"line2d_16\">\n      <g>\n       <use style=\"fill:#262626;stroke:#262626;stroke-width:1.25;\" x=\"60.30875\" xlink:href=\"#mb7c5980d60\" y=\"53.330711\"/>\n      </g>\n     </g>\n     <g id=\"text_17\">\n      <!-- 3000 -->\n      <g style=\"fill:#262626;\" transform=\"translate(22.81375 57.509852)scale(0.11 -0.11)\">\n       <defs>\n        <path d=\"M 40.578125 39.3125 \nQ 47.65625 37.796875 51.625 33 \nQ 55.609375 28.21875 55.609375 21.1875 \nQ 55.609375 10.40625 48.1875 4.484375 \nQ 40.765625 -1.421875 27.09375 -1.421875 \nQ 22.515625 -1.421875 17.65625 -0.515625 \nQ 12.796875 0.390625 7.625 2.203125 \nL 7.625 11.71875 \nQ 11.71875 9.328125 16.59375 8.109375 \nQ 21.484375 6.890625 26.8125 6.890625 \nQ 36.078125 6.890625 40.9375 10.546875 \nQ 45.796875 14.203125 45.796875 21.1875 \nQ 45.796875 27.640625 41.28125 31.265625 \nQ 36.765625 34.90625 28.71875 34.90625 \nL 20.21875 34.90625 \nL 20.21875 43.015625 \nL 29.109375 43.015625 \nQ 36.375 43.015625 40.234375 45.921875 \nQ 44.09375 48.828125 44.09375 54.296875 \nQ 44.09375 59.90625 40.109375 62.90625 \nQ 36.140625 65.921875 28.71875 65.921875 \nQ 24.65625 65.921875 20.015625 65.03125 \nQ 15.375 64.15625 9.8125 62.3125 \nL 9.8125 71.09375 \nQ 15.4375 72.65625 20.34375 73.4375 \nQ 25.25 74.21875 29.59375 74.21875 \nQ 40.828125 74.21875 47.359375 69.109375 \nQ 53.90625 64.015625 53.90625 55.328125 \nQ 53.90625 49.265625 50.4375 45.09375 \nQ 46.96875 40.921875 40.578125 39.3125 \nz\n\" id=\"DejaVuSans-51\"/>\n       </defs>\n       <use xlink:href=\"#DejaVuSans-51\"/>\n       <use x=\"63.623047\" xlink:href=\"#DejaVuSans-48\"/>\n       <use x=\"127.246094\" xlink:href=\"#DejaVuSans-48\"/>\n       <use x=\"190.869141\" xlink:href=\"#DejaVuSans-48\"/>\n      </g>\n     </g>\n    </g>\n    <g id=\"ytick_8\">\n     <g id=\"line2d_17\">\n      <g>\n       <use style=\"fill:#262626;stroke:#262626;stroke-width:1.25;\" x=\"60.30875\" xlink:href=\"#mb7c5980d60\" y=\"11.379141\"/>\n      </g>\n     </g>\n     <g id=\"text_18\">\n      <!-- 3500 -->\n      <g style=\"fill:#262626;\" transform=\"translate(22.81375 15.558281)scale(0.11 -0.11)\">\n       <use xlink:href=\"#DejaVuSans-51\"/>\n       <use x=\"63.623047\" xlink:href=\"#DejaVuSans-53\"/>\n       <use x=\"127.246094\" xlink:href=\"#DejaVuSans-48\"/>\n       <use x=\"190.869141\" xlink:href=\"#DejaVuSans-48\"/>\n      </g>\n     </g>\n    </g>\n    <g id=\"text_19\">\n     <!-- Count -->\n     <g style=\"fill:#262626;\" transform=\"translate(16.318125 175.24956)rotate(-90)scale(0.12 -0.12)\">\n      <defs>\n       <path d=\"M 64.40625 67.28125 \nL 64.40625 56.890625 \nQ 59.421875 61.53125 53.78125 63.8125 \nQ 48.140625 66.109375 41.796875 66.109375 \nQ 29.296875 66.109375 22.65625 58.46875 \nQ 16.015625 50.828125 16.015625 36.375 \nQ 16.015625 21.96875 22.65625 14.328125 \nQ 29.296875 6.6875 41.796875 6.6875 \nQ 48.140625 6.6875 53.78125 8.984375 \nQ 59.421875 11.28125 64.40625 15.921875 \nL 64.40625 5.609375 \nQ 59.234375 2.09375 53.4375 0.328125 \nQ 47.65625 -1.421875 41.21875 -1.421875 \nQ 24.65625 -1.421875 15.125 8.703125 \nQ 5.609375 18.84375 5.609375 36.375 \nQ 5.609375 53.953125 15.125 64.078125 \nQ 24.65625 74.21875 41.21875 74.21875 \nQ 47.75 74.21875 53.53125 72.484375 \nQ 59.328125 70.75 64.40625 67.28125 \nz\n\" id=\"DejaVuSans-67\"/>\n      </defs>\n      <use xlink:href=\"#DejaVuSans-67\"/>\n      <use x=\"69.824219\" xlink:href=\"#DejaVuSans-111\"/>\n      <use x=\"131.005859\" xlink:href=\"#DejaVuSans-117\"/>\n      <use x=\"194.384766\" xlink:href=\"#DejaVuSans-110\"/>\n      <use x=\"257.763672\" xlink:href=\"#DejaVuSans-116\"/>\n     </g>\n    </g>\n   </g>\n   <g id=\"patch_3\">\n    <path clip-path=\"url(#p04da31d105)\" d=\"M 61.42707 305.040133 \nL 75.40607 305.040133 \nL 75.40607 242.44839 \nL 61.42707 242.44839 \nz\n\" style=\"fill:#4c72b0;fill-opacity:0.75;stroke:#ffffff;stroke-linejoin:miter;stroke-width:0.119026;\"/>\n   </g>\n   <g id=\"patch_4\">\n    <path clip-path=\"url(#p04da31d105)\" d=\"M 75.40607 305.040133 \nL 89.38507 305.040133 \nL 89.38507 23.880709 \nL 75.40607 23.880709 \nz\n\" style=\"fill:#4c72b0;fill-opacity:0.75;stroke:#ffffff;stroke-linejoin:miter;stroke-width:0.119026;\"/>\n   </g>\n   <g id=\"patch_5\">\n    <path clip-path=\"url(#p04da31d105)\" d=\"M 89.38507 305.040133 \nL 103.36407 305.040133 \nL 103.36407 149.819323 \nL 89.38507 149.819323 \nz\n\" style=\"fill:#4c72b0;fill-opacity:0.75;stroke:#ffffff;stroke-linejoin:miter;stroke-width:0.119026;\"/>\n   </g>\n   <g id=\"patch_6\">\n    <path clip-path=\"url(#p04da31d105)\" d=\"M 103.36407 305.040133 \nL 117.34307 305.040133 \nL 117.34307 224.157506 \nL 103.36407 224.157506 \nz\n\" style=\"fill:#4c72b0;fill-opacity:0.75;stroke:#ffffff;stroke-linejoin:miter;stroke-width:0.119026;\"/>\n   </g>\n   <g id=\"patch_7\">\n    <path clip-path=\"url(#p04da31d105)\" d=\"M 117.34307 305.040133 \nL 131.32207 305.040133 \nL 131.32207 254.782152 \nL 117.34307 254.782152 \nz\n\" style=\"fill:#4c72b0;fill-opacity:0.75;stroke:#ffffff;stroke-linejoin:miter;stroke-width:0.119026;\"/>\n   </g>\n   <g id=\"patch_8\">\n    <path clip-path=\"url(#p04da31d105)\" d=\"M 131.32207 305.040133 \nL 145.30107 305.040133 \nL 145.30107 270.052523 \nL 131.32207 270.052523 \nz\n\" style=\"fill:#4c72b0;fill-opacity:0.75;stroke:#ffffff;stroke-linejoin:miter;stroke-width:0.119026;\"/>\n   </g>\n   <g id=\"patch_9\">\n    <path clip-path=\"url(#p04da31d105)\" d=\"M 145.30107 305.040133 \nL 159.28007 305.040133 \nL 159.28007 280.036997 \nL 145.30107 280.036997 \nz\n\" style=\"fill:#4c72b0;fill-opacity:0.75;stroke:#ffffff;stroke-linejoin:miter;stroke-width:0.119026;\"/>\n   </g>\n   <g id=\"patch_10\">\n    <path clip-path=\"url(#p04da31d105)\" d=\"M 159.28007 305.040133 \nL 173.25907 305.040133 \nL 173.25907 285.742411 \nL 159.28007 285.742411 \nz\n\" style=\"fill:#4c72b0;fill-opacity:0.75;stroke:#ffffff;stroke-linejoin:miter;stroke-width:0.119026;\"/>\n   </g>\n   <g id=\"patch_11\">\n    <path clip-path=\"url(#p04da31d105)\" d=\"M 173.25907 305.040133 \nL 187.23807 305.040133 \nL 187.23807 288.846827 \nL 173.25907 288.846827 \nz\n\" style=\"fill:#4c72b0;fill-opacity:0.75;stroke:#ffffff;stroke-linejoin:miter;stroke-width:0.119026;\"/>\n   </g>\n   <g id=\"patch_12\">\n    <path clip-path=\"url(#p04da31d105)\" d=\"M 187.23807 305.040133 \nL 201.21707 305.040133 \nL 201.21707 293.797112 \nL 187.23807 293.797112 \nz\n\" style=\"fill:#4c72b0;fill-opacity:0.75;stroke:#ffffff;stroke-linejoin:miter;stroke-width:0.119026;\"/>\n   </g>\n   <g id=\"patch_13\">\n    <path clip-path=\"url(#p04da31d105)\" d=\"M 201.21707 305.040133 \nL 215.19607 305.040133 \nL 215.19607 293.797112 \nL 201.21707 293.797112 \nz\n\" style=\"fill:#4c72b0;fill-opacity:0.75;stroke:#ffffff;stroke-linejoin:miter;stroke-width:0.119026;\"/>\n   </g>\n   <g id=\"patch_14\">\n    <path clip-path=\"url(#p04da31d105)\" d=\"M 215.19607 305.040133 \nL 229.17507 305.040133 \nL 229.17507 296.062497 \nL 215.19607 296.062497 \nz\n\" style=\"fill:#4c72b0;fill-opacity:0.75;stroke:#ffffff;stroke-linejoin:miter;stroke-width:0.119026;\"/>\n   </g>\n   <g id=\"patch_15\">\n    <path clip-path=\"url(#p04da31d105)\" d=\"M 229.17507 305.040133 \nL 243.15407 305.040133 \nL 243.15407 296.985432 \nL 229.17507 296.985432 \nz\n\" style=\"fill:#4c72b0;fill-opacity:0.75;stroke:#ffffff;stroke-linejoin:miter;stroke-width:0.119026;\"/>\n   </g>\n   <g id=\"patch_16\">\n    <path clip-path=\"url(#p04da31d105)\" d=\"M 243.15407 305.040133 \nL 257.13307 305.040133 \nL 257.13307 299.166913 \nL 243.15407 299.166913 \nz\n\" style=\"fill:#4c72b0;fill-opacity:0.75;stroke:#ffffff;stroke-linejoin:miter;stroke-width:0.119026;\"/>\n   </g>\n   <g id=\"patch_17\">\n    <path clip-path=\"url(#p04da31d105)\" d=\"M 257.13307 305.040133 \nL 271.11207 305.040133 \nL 271.11207 300.593267 \nL 257.13307 300.593267 \nz\n\" style=\"fill:#4c72b0;fill-opacity:0.75;stroke:#ffffff;stroke-linejoin:miter;stroke-width:0.119026;\"/>\n   </g>\n   <g id=\"patch_18\">\n    <path clip-path=\"url(#p04da31d105)\" d=\"M 271.11207 305.040133 \nL 285.09107 305.040133 \nL 285.09107 300.509364 \nL 271.11207 300.509364 \nz\n\" style=\"fill:#4c72b0;fill-opacity:0.75;stroke:#ffffff;stroke-linejoin:miter;stroke-width:0.119026;\"/>\n   </g>\n   <g id=\"patch_19\">\n    <path clip-path=\"url(#p04da31d105)\" d=\"M 285.09107 305.040133 \nL 299.07007 305.040133 \nL 299.07007 301.180589 \nL 285.09107 301.180589 \nz\n\" style=\"fill:#4c72b0;fill-opacity:0.75;stroke:#ffffff;stroke-linejoin:miter;stroke-width:0.119026;\"/>\n   </g>\n   <g id=\"patch_20\">\n    <path clip-path=\"url(#p04da31d105)\" d=\"M 299.07007 305.040133 \nL 313.04907 305.040133 \nL 313.04907 301.432298 \nL 299.07007 301.432298 \nz\n\" style=\"fill:#4c72b0;fill-opacity:0.75;stroke:#ffffff;stroke-linejoin:miter;stroke-width:0.119026;\"/>\n   </g>\n   <g id=\"patch_21\">\n    <path clip-path=\"url(#p04da31d105)\" d=\"M 313.04907 305.040133 \nL 327.02807 305.040133 \nL 327.02807 301.264492 \nL 313.04907 301.264492 \nz\n\" style=\"fill:#4c72b0;fill-opacity:0.75;stroke:#ffffff;stroke-linejoin:miter;stroke-width:0.119026;\"/>\n   </g>\n   <g id=\"patch_22\">\n    <path clip-path=\"url(#p04da31d105)\" d=\"M 327.02807 305.040133 \nL 341.00707 305.040133 \nL 341.00707 301.935717 \nL 327.02807 301.935717 \nz\n\" style=\"fill:#4c72b0;fill-opacity:0.75;stroke:#ffffff;stroke-linejoin:miter;stroke-width:0.119026;\"/>\n   </g>\n   <g id=\"patch_23\">\n    <path clip-path=\"url(#p04da31d105)\" d=\"M 341.00707 305.040133 \nL 354.98607 305.040133 \nL 354.98607 302.774748 \nL 341.00707 302.774748 \nz\n\" style=\"fill:#4c72b0;fill-opacity:0.75;stroke:#ffffff;stroke-linejoin:miter;stroke-width:0.119026;\"/>\n   </g>\n   <g id=\"patch_24\">\n    <path clip-path=\"url(#p04da31d105)\" d=\"M 354.98607 305.040133 \nL 368.96507 305.040133 \nL 368.96507 302.942555 \nL 354.98607 302.942555 \nz\n\" style=\"fill:#4c72b0;fill-opacity:0.75;stroke:#ffffff;stroke-linejoin:miter;stroke-width:0.119026;\"/>\n   </g>\n   <g id=\"patch_25\">\n    <path clip-path=\"url(#p04da31d105)\" d=\"M 368.96507 305.040133 \nL 382.94407 305.040133 \nL 382.94407 302.858652 \nL 368.96507 302.858652 \nz\n\" style=\"fill:#4c72b0;fill-opacity:0.75;stroke:#ffffff;stroke-linejoin:miter;stroke-width:0.119026;\"/>\n   </g>\n   <g id=\"patch_26\">\n    <path clip-path=\"url(#p04da31d105)\" d=\"M 382.94407 305.040133 \nL 396.92307 305.040133 \nL 396.92307 302.858652 \nL 382.94407 302.858652 \nz\n\" style=\"fill:#4c72b0;fill-opacity:0.75;stroke:#ffffff;stroke-linejoin:miter;stroke-width:0.119026;\"/>\n   </g>\n   <g id=\"patch_27\">\n    <path clip-path=\"url(#p04da31d105)\" d=\"M 396.92307 305.040133 \nL 410.90207 305.040133 \nL 410.90207 302.690845 \nL 396.92307 302.690845 \nz\n\" style=\"fill:#4c72b0;fill-opacity:0.75;stroke:#ffffff;stroke-linejoin:miter;stroke-width:0.119026;\"/>\n   </g>\n   <g id=\"patch_28\">\n    <path clip-path=\"url(#p04da31d105)\" d=\"M 410.90207 305.040133 \nL 424.88107 305.040133 \nL 424.88107 303.36207 \nL 410.90207 303.36207 \nz\n\" style=\"fill:#4c72b0;fill-opacity:0.75;stroke:#ffffff;stroke-linejoin:miter;stroke-width:0.119026;\"/>\n   </g>\n   <g id=\"patch_29\">\n    <path clip-path=\"url(#p04da31d105)\" d=\"M 424.88107 305.040133 \nL 438.86007 305.040133 \nL 438.86007 303.278167 \nL 424.88107 303.278167 \nz\n\" style=\"fill:#4c72b0;fill-opacity:0.75;stroke:#ffffff;stroke-linejoin:miter;stroke-width:0.119026;\"/>\n   </g>\n   <g id=\"patch_30\">\n    <path clip-path=\"url(#p04da31d105)\" d=\"M 438.86007 305.040133 \nL 452.83907 305.040133 \nL 452.83907 303.949392 \nL 438.86007 303.949392 \nz\n\" style=\"fill:#4c72b0;fill-opacity:0.75;stroke:#ffffff;stroke-linejoin:miter;stroke-width:0.119026;\"/>\n   </g>\n   <g id=\"patch_31\">\n    <path clip-path=\"url(#p04da31d105)\" d=\"M 452.83907 305.040133 \nL 466.81807 305.040133 \nL 466.81807 303.697683 \nL 452.83907 303.697683 \nz\n\" style=\"fill:#4c72b0;fill-opacity:0.75;stroke:#ffffff;stroke-linejoin:miter;stroke-width:0.119026;\"/>\n   </g>\n   <g id=\"patch_32\">\n    <path clip-path=\"url(#p04da31d105)\" d=\"M 466.81807 305.040133 \nL 480.79707 305.040133 \nL 480.79707 304.033295 \nL 466.81807 304.033295 \nz\n\" style=\"fill:#4c72b0;fill-opacity:0.75;stroke:#ffffff;stroke-linejoin:miter;stroke-width:0.119026;\"/>\n   </g>\n   <g id=\"patch_33\">\n    <path clip-path=\"url(#p04da31d105)\" d=\"M 480.79707 305.040133 \nL 494.77607 305.040133 \nL 494.77607 304.033295 \nL 480.79707 304.033295 \nz\n\" style=\"fill:#4c72b0;fill-opacity:0.75;stroke:#ffffff;stroke-linejoin:miter;stroke-width:0.119026;\"/>\n   </g>\n   <g id=\"patch_34\">\n    <path clip-path=\"url(#p04da31d105)\" d=\"M 494.77607 305.040133 \nL 508.75507 305.040133 \nL 508.75507 303.865489 \nL 494.77607 303.865489 \nz\n\" style=\"fill:#4c72b0;fill-opacity:0.75;stroke:#ffffff;stroke-linejoin:miter;stroke-width:0.119026;\"/>\n   </g>\n   <g id=\"patch_35\">\n    <path clip-path=\"url(#p04da31d105)\" d=\"M 508.75507 305.040133 \nL 522.73407 305.040133 \nL 522.73407 304.117199 \nL 508.75507 304.117199 \nz\n\" style=\"fill:#4c72b0;fill-opacity:0.75;stroke:#ffffff;stroke-linejoin:miter;stroke-width:0.119026;\"/>\n   </g>\n   <g id=\"patch_36\">\n    <path clip-path=\"url(#p04da31d105)\" d=\"M 522.73407 305.040133 \nL 536.71307 305.040133 \nL 536.71307 303.865489 \nL 522.73407 303.865489 \nz\n\" style=\"fill:#4c72b0;fill-opacity:0.75;stroke:#ffffff;stroke-linejoin:miter;stroke-width:0.119026;\"/>\n   </g>\n   <g id=\"patch_37\">\n    <path clip-path=\"url(#p04da31d105)\" d=\"M 536.71307 305.040133 \nL 550.69207 305.040133 \nL 550.69207 304.033295 \nL 536.71307 304.033295 \nz\n\" style=\"fill:#4c72b0;fill-opacity:0.75;stroke:#ffffff;stroke-linejoin:miter;stroke-width:0.119026;\"/>\n   </g>\n   <g id=\"patch_38\">\n    <path clip-path=\"url(#p04da31d105)\" d=\"M 550.69207 305.040133 \nL 564.67107 305.040133 \nL 564.67107 304.033295 \nL 550.69207 304.033295 \nz\n\" style=\"fill:#4c72b0;fill-opacity:0.75;stroke:#ffffff;stroke-linejoin:miter;stroke-width:0.119026;\"/>\n   </g>\n   <g id=\"patch_39\">\n    <path clip-path=\"url(#p04da31d105)\" d=\"M 564.67107 305.040133 \nL 578.65007 305.040133 \nL 578.65007 304.368908 \nL 564.67107 304.368908 \nz\n\" style=\"fill:#4c72b0;fill-opacity:0.75;stroke:#ffffff;stroke-linejoin:miter;stroke-width:0.119026;\"/>\n   </g>\n   <g id=\"patch_40\">\n    <path clip-path=\"url(#p04da31d105)\" d=\"M 578.65007 305.040133 \nL 592.62907 305.040133 \nL 592.62907 304.033295 \nL 578.65007 304.033295 \nz\n\" style=\"fill:#4c72b0;fill-opacity:0.75;stroke:#ffffff;stroke-linejoin:miter;stroke-width:0.119026;\"/>\n   </g>\n   <g id=\"patch_41\">\n    <path clip-path=\"url(#p04da31d105)\" d=\"M 592.62907 305.040133 \nL 606.60807 305.040133 \nL 606.60807 304.285005 \nL 592.62907 304.285005 \nz\n\" style=\"fill:#4c72b0;fill-opacity:0.75;stroke:#ffffff;stroke-linejoin:miter;stroke-width:0.119026;\"/>\n   </g>\n   <g id=\"patch_42\">\n    <path clip-path=\"url(#p04da31d105)\" d=\"M 606.60807 305.040133 \nL 620.58707 305.040133 \nL 620.58707 304.285005 \nL 606.60807 304.285005 \nz\n\" style=\"fill:#4c72b0;fill-opacity:0.75;stroke:#ffffff;stroke-linejoin:miter;stroke-width:0.119026;\"/>\n   </g>\n   <g id=\"patch_43\">\n    <path clip-path=\"url(#p04da31d105)\" d=\"M 620.58707 305.040133 \nL 634.56607 305.040133 \nL 634.56607 304.285005 \nL 620.58707 304.285005 \nz\n\" style=\"fill:#4c72b0;fill-opacity:0.75;stroke:#ffffff;stroke-linejoin:miter;stroke-width:0.119026;\"/>\n   </g>\n   <g id=\"patch_44\">\n    <path clip-path=\"url(#p04da31d105)\" d=\"M 634.56607 305.040133 \nL 648.54507 305.040133 \nL 648.54507 304.620617 \nL 634.56607 304.620617 \nz\n\" style=\"fill:#4c72b0;fill-opacity:0.75;stroke:#ffffff;stroke-linejoin:miter;stroke-width:0.119026;\"/>\n   </g>\n   <g id=\"patch_45\">\n    <path clip-path=\"url(#p04da31d105)\" d=\"M 648.54507 305.040133 \nL 662.52407 305.040133 \nL 662.52407 304.285005 \nL 648.54507 304.285005 \nz\n\" style=\"fill:#4c72b0;fill-opacity:0.75;stroke:#ffffff;stroke-linejoin:miter;stroke-width:0.119026;\"/>\n   </g>\n   <g id=\"patch_46\">\n    <path clip-path=\"url(#p04da31d105)\" d=\"M 662.52407 305.040133 \nL 676.50307 305.040133 \nL 676.50307 304.872327 \nL 662.52407 304.872327 \nz\n\" style=\"fill:#4c72b0;fill-opacity:0.75;stroke:#ffffff;stroke-linejoin:miter;stroke-width:0.119026;\"/>\n   </g>\n   <g id=\"patch_47\">\n    <path clip-path=\"url(#p04da31d105)\" d=\"M 676.50307 305.040133 \nL 690.48207 305.040133 \nL 690.48207 304.368908 \nL 676.50307 304.368908 \nz\n\" style=\"fill:#4c72b0;fill-opacity:0.75;stroke:#ffffff;stroke-linejoin:miter;stroke-width:0.119026;\"/>\n   </g>\n   <g id=\"patch_48\">\n    <path clip-path=\"url(#p04da31d105)\" d=\"M 690.48207 305.040133 \nL 704.46107 305.040133 \nL 704.46107 304.788424 \nL 690.48207 304.788424 \nz\n\" style=\"fill:#4c72b0;fill-opacity:0.75;stroke:#ffffff;stroke-linejoin:miter;stroke-width:0.119026;\"/>\n   </g>\n   <g id=\"patch_49\">\n    <path clip-path=\"url(#p04da31d105)\" d=\"M 704.46107 305.040133 \nL 718.44007 305.040133 \nL 718.44007 304.704521 \nL 704.46107 304.704521 \nz\n\" style=\"fill:#4c72b0;fill-opacity:0.75;stroke:#ffffff;stroke-linejoin:miter;stroke-width:0.119026;\"/>\n   </g>\n   <g id=\"patch_50\">\n    <path clip-path=\"url(#p04da31d105)\" d=\"M 718.44007 305.040133 \nL 732.41907 305.040133 \nL 732.41907 304.620617 \nL 718.44007 304.620617 \nz\n\" style=\"fill:#4c72b0;fill-opacity:0.75;stroke:#ffffff;stroke-linejoin:miter;stroke-width:0.119026;\"/>\n   </g>\n   <g id=\"patch_51\">\n    <path clip-path=\"url(#p04da31d105)\" d=\"M 732.41907 305.040133 \nL 746.39807 305.040133 \nL 746.39807 304.452811 \nL 732.41907 304.452811 \nz\n\" style=\"fill:#4c72b0;fill-opacity:0.75;stroke:#ffffff;stroke-linejoin:miter;stroke-width:0.119026;\"/>\n   </g>\n   <g id=\"patch_52\">\n    <path clip-path=\"url(#p04da31d105)\" d=\"M 746.39807 305.040133 \nL 760.37707 305.040133 \nL 760.37707 304.872327 \nL 746.39807 304.872327 \nz\n\" style=\"fill:#4c72b0;fill-opacity:0.75;stroke:#ffffff;stroke-linejoin:miter;stroke-width:0.119026;\"/>\n   </g>\n   <g id=\"patch_53\">\n    <path clip-path=\"url(#p04da31d105)\" d=\"M 760.37707 305.040133 \nL 774.35607 305.040133 \nL 774.35607 304.620617 \nL 760.37707 304.620617 \nz\n\" style=\"fill:#4c72b0;fill-opacity:0.75;stroke:#ffffff;stroke-linejoin:miter;stroke-width:0.119026;\"/>\n   </g>\n   <g id=\"patch_54\">\n    <path clip-path=\"url(#p04da31d105)\" d=\"M 774.35607 305.040133 \nL 788.33507 305.040133 \nL 788.33507 304.704521 \nL 774.35607 304.704521 \nz\n\" style=\"fill:#4c72b0;fill-opacity:0.75;stroke:#ffffff;stroke-linejoin:miter;stroke-width:0.119026;\"/>\n   </g>\n   <g id=\"patch_55\">\n    <path clip-path=\"url(#p04da31d105)\" d=\"M 788.33507 305.040133 \nL 802.31407 305.040133 \nL 802.31407 304.452811 \nL 788.33507 304.452811 \nz\n\" style=\"fill:#4c72b0;fill-opacity:0.75;stroke:#ffffff;stroke-linejoin:miter;stroke-width:0.119026;\"/>\n   </g>\n   <g id=\"patch_56\">\n    <path clip-path=\"url(#p04da31d105)\" d=\"M 802.31407 305.040133 \nL 816.29307 305.040133 \nL 816.29307 304.704521 \nL 802.31407 304.704521 \nz\n\" style=\"fill:#4c72b0;fill-opacity:0.75;stroke:#ffffff;stroke-linejoin:miter;stroke-width:0.119026;\"/>\n   </g>\n   <g id=\"patch_57\">\n    <path clip-path=\"url(#p04da31d105)\" d=\"M 816.29307 305.040133 \nL 830.27207 305.040133 \nL 830.27207 304.620617 \nL 816.29307 304.620617 \nz\n\" style=\"fill:#4c72b0;fill-opacity:0.75;stroke:#ffffff;stroke-linejoin:miter;stroke-width:0.119026;\"/>\n   </g>\n   <g id=\"patch_58\">\n    <path clip-path=\"url(#p04da31d105)\" d=\"M 830.27207 305.040133 \nL 844.25107 305.040133 \nL 844.25107 304.788424 \nL 830.27207 304.788424 \nz\n\" style=\"fill:#4c72b0;fill-opacity:0.75;stroke:#ffffff;stroke-linejoin:miter;stroke-width:0.119026;\"/>\n   </g>\n   <g id=\"patch_59\">\n    <path clip-path=\"url(#p04da31d105)\" d=\"M 844.25107 305.040133 \nL 858.23007 305.040133 \nL 858.23007 304.704521 \nL 844.25107 304.704521 \nz\n\" style=\"fill:#4c72b0;fill-opacity:0.75;stroke:#ffffff;stroke-linejoin:miter;stroke-width:0.119026;\"/>\n   </g>\n   <g id=\"patch_60\">\n    <path clip-path=\"url(#p04da31d105)\" d=\"M 858.23007 305.040133 \nL 872.20907 305.040133 \nL 872.20907 304.95623 \nL 858.23007 304.95623 \nz\n\" style=\"fill:#4c72b0;fill-opacity:0.75;stroke:#ffffff;stroke-linejoin:miter;stroke-width:0.119026;\"/>\n   </g>\n   <g id=\"patch_61\">\n    <path clip-path=\"url(#p04da31d105)\" d=\"M 872.20907 305.040133 \nL 886.18807 305.040133 \nL 886.18807 304.704521 \nL 872.20907 304.704521 \nz\n\" style=\"fill:#4c72b0;fill-opacity:0.75;stroke:#ffffff;stroke-linejoin:miter;stroke-width:0.119026;\"/>\n   </g>\n   <g id=\"patch_62\">\n    <path clip-path=\"url(#p04da31d105)\" d=\"M 886.18807 305.040133 \nL 900.16707 305.040133 \nL 900.16707 304.872327 \nL 886.18807 304.872327 \nz\n\" style=\"fill:#4c72b0;fill-opacity:0.75;stroke:#ffffff;stroke-linejoin:miter;stroke-width:0.119026;\"/>\n   </g>\n   <g id=\"patch_63\">\n    <path clip-path=\"url(#p04da31d105)\" d=\"M 900.16707 305.040133 \nL 914.14607 305.040133 \nL 914.14607 304.704521 \nL 900.16707 304.704521 \nz\n\" style=\"fill:#4c72b0;fill-opacity:0.75;stroke:#ffffff;stroke-linejoin:miter;stroke-width:0.119026;\"/>\n   </g>\n   <g id=\"patch_64\">\n    <path clip-path=\"url(#p04da31d105)\" d=\"M 914.14607 305.040133 \nL 928.12507 305.040133 \nL 928.12507 304.872327 \nL 914.14607 304.872327 \nz\n\" style=\"fill:#4c72b0;fill-opacity:0.75;stroke:#ffffff;stroke-linejoin:miter;stroke-width:0.119026;\"/>\n   </g>\n   <g id=\"patch_65\">\n    <path clip-path=\"url(#p04da31d105)\" d=\"M 928.12507 305.040133 \nL 942.10407 305.040133 \nL 942.10407 304.368908 \nL 928.12507 304.368908 \nz\n\" style=\"fill:#4c72b0;fill-opacity:0.75;stroke:#ffffff;stroke-linejoin:miter;stroke-width:0.119026;\"/>\n   </g>\n   <g id=\"patch_66\">\n    <path clip-path=\"url(#p04da31d105)\" d=\"M 942.10407 305.040133 \nL 956.08307 305.040133 \nL 956.08307 304.620617 \nL 942.10407 304.620617 \nz\n\" style=\"fill:#4c72b0;fill-opacity:0.75;stroke:#ffffff;stroke-linejoin:miter;stroke-width:0.119026;\"/>\n   </g>\n   <g id=\"patch_67\">\n    <path clip-path=\"url(#p04da31d105)\" d=\"M 956.08307 305.040133 \nL 970.06207 305.040133 \nL 970.06207 304.704521 \nL 956.08307 304.704521 \nz\n\" style=\"fill:#4c72b0;fill-opacity:0.75;stroke:#ffffff;stroke-linejoin:miter;stroke-width:0.119026;\"/>\n   </g>\n   <g id=\"patch_68\">\n    <path clip-path=\"url(#p04da31d105)\" d=\"M 970.06207 305.040133 \nL 984.04107 305.040133 \nL 984.04107 304.704521 \nL 970.06207 304.704521 \nz\n\" style=\"fill:#4c72b0;fill-opacity:0.75;stroke:#ffffff;stroke-linejoin:miter;stroke-width:0.119026;\"/>\n   </g>\n   <g id=\"patch_69\">\n    <path clip-path=\"url(#p04da31d105)\" d=\"M 984.04107 305.040133 \nL 998.02007 305.040133 \nL 998.02007 304.872327 \nL 984.04107 304.872327 \nz\n\" style=\"fill:#4c72b0;fill-opacity:0.75;stroke:#ffffff;stroke-linejoin:miter;stroke-width:0.119026;\"/>\n   </g>\n   <g id=\"patch_70\">\n    <path clip-path=\"url(#p04da31d105)\" d=\"M 998.02007 305.040133 \nL 1011.99907 305.040133 \nL 1011.99907 304.872327 \nL 998.02007 304.872327 \nz\n\" style=\"fill:#4c72b0;fill-opacity:0.75;stroke:#ffffff;stroke-linejoin:miter;stroke-width:0.119026;\"/>\n   </g>\n   <g id=\"patch_71\">\n    <path clip-path=\"url(#p04da31d105)\" d=\"M 1011.99907 305.040133 \nL 1025.97807 305.040133 \nL 1025.97807 304.704521 \nL 1011.99907 304.704521 \nz\n\" style=\"fill:#4c72b0;fill-opacity:0.75;stroke:#ffffff;stroke-linejoin:miter;stroke-width:0.119026;\"/>\n   </g>\n   <g id=\"patch_72\">\n    <path clip-path=\"url(#p04da31d105)\" d=\"M 1025.97807 305.040133 \nL 1039.95707 305.040133 \nL 1039.95707 304.872327 \nL 1025.97807 304.872327 \nz\n\" style=\"fill:#4c72b0;fill-opacity:0.75;stroke:#ffffff;stroke-linejoin:miter;stroke-width:0.119026;\"/>\n   </g>\n   <g id=\"patch_73\">\n    <path clip-path=\"url(#p04da31d105)\" d=\"M 1039.95707 305.040133 \nL 1053.93607 305.040133 \nL 1053.93607 304.95623 \nL 1039.95707 304.95623 \nz\n\" style=\"fill:#4c72b0;fill-opacity:0.75;stroke:#ffffff;stroke-linejoin:miter;stroke-width:0.119026;\"/>\n   </g>\n   <g id=\"patch_74\">\n    <path clip-path=\"url(#p04da31d105)\" d=\"M 1053.93607 305.040133 \nL 1067.91507 305.040133 \nL 1067.91507 304.872327 \nL 1053.93607 304.872327 \nz\n\" style=\"fill:#4c72b0;fill-opacity:0.75;stroke:#ffffff;stroke-linejoin:miter;stroke-width:0.119026;\"/>\n   </g>\n   <g id=\"patch_75\">\n    <path clip-path=\"url(#p04da31d105)\" d=\"M 1067.91507 305.040133 \nL 1081.89407 305.040133 \nL 1081.89407 304.95623 \nL 1067.91507 304.95623 \nz\n\" style=\"fill:#4c72b0;fill-opacity:0.75;stroke:#ffffff;stroke-linejoin:miter;stroke-width:0.119026;\"/>\n   </g>\n   <g id=\"patch_76\">\n    <path clip-path=\"url(#p04da31d105)\" d=\"M 1081.89407 305.040133 \nL 1095.87307 305.040133 \nL 1095.87307 305.040133 \nL 1081.89407 305.040133 \nz\n\" style=\"fill:#4c72b0;fill-opacity:0.75;stroke:#ffffff;stroke-linejoin:miter;stroke-width:0.119026;\"/>\n   </g>\n   <g id=\"patch_77\">\n    <path clip-path=\"url(#p04da31d105)\" d=\"M 1095.87307 305.040133 \nL 1109.85207 305.040133 \nL 1109.85207 304.95623 \nL 1095.87307 304.95623 \nz\n\" style=\"fill:#4c72b0;fill-opacity:0.75;stroke:#ffffff;stroke-linejoin:miter;stroke-width:0.119026;\"/>\n   </g>\n   <g id=\"patch_78\">\n    <path clip-path=\"url(#p04da31d105)\" d=\"M 1109.85207 305.040133 \nL 1123.83107 305.040133 \nL 1123.83107 304.788424 \nL 1109.85207 304.788424 \nz\n\" style=\"fill:#4c72b0;fill-opacity:0.75;stroke:#ffffff;stroke-linejoin:miter;stroke-width:0.119026;\"/>\n   </g>\n   <g id=\"patch_79\">\n    <path clip-path=\"url(#p04da31d105)\" d=\"M 1123.83107 305.040133 \nL 1137.81007 305.040133 \nL 1137.81007 304.788424 \nL 1123.83107 304.788424 \nz\n\" style=\"fill:#4c72b0;fill-opacity:0.75;stroke:#ffffff;stroke-linejoin:miter;stroke-width:0.119026;\"/>\n   </g>\n   <g id=\"patch_80\">\n    <path clip-path=\"url(#p04da31d105)\" d=\"M 1137.81007 305.040133 \nL 1151.78907 305.040133 \nL 1151.78907 304.788424 \nL 1137.81007 304.788424 \nz\n\" style=\"fill:#4c72b0;fill-opacity:0.75;stroke:#ffffff;stroke-linejoin:miter;stroke-width:0.119026;\"/>\n   </g>\n   <g id=\"patch_81\">\n    <path clip-path=\"url(#p04da31d105)\" d=\"M 1151.78907 305.040133 \nL 1165.76807 305.040133 \nL 1165.76807 304.95623 \nL 1151.78907 304.95623 \nz\n\" style=\"fill:#4c72b0;fill-opacity:0.75;stroke:#ffffff;stroke-linejoin:miter;stroke-width:0.119026;\"/>\n   </g>\n   <g id=\"patch_82\">\n    <path clip-path=\"url(#p04da31d105)\" d=\"M 1165.76807 305.040133 \nL 1179.74707 305.040133 \nL 1179.74707 305.040133 \nL 1165.76807 305.040133 \nz\n\" style=\"fill:#4c72b0;fill-opacity:0.75;stroke:#ffffff;stroke-linejoin:miter;stroke-width:0.119026;\"/>\n   </g>\n   <g id=\"patch_83\">\n    <path clip-path=\"url(#p04da31d105)\" d=\"M 1179.74707 305.040133 \nL 1193.72607 305.040133 \nL 1193.72607 305.040133 \nL 1179.74707 305.040133 \nz\n\" style=\"fill:#4c72b0;fill-opacity:0.75;stroke:#ffffff;stroke-linejoin:miter;stroke-width:0.119026;\"/>\n   </g>\n   <g id=\"patch_84\">\n    <path clip-path=\"url(#p04da31d105)\" d=\"M 1193.72607 305.040133 \nL 1207.70507 305.040133 \nL 1207.70507 304.788424 \nL 1193.72607 304.788424 \nz\n\" style=\"fill:#4c72b0;fill-opacity:0.75;stroke:#ffffff;stroke-linejoin:miter;stroke-width:0.119026;\"/>\n   </g>\n   <g id=\"patch_85\">\n    <path clip-path=\"url(#p04da31d105)\" d=\"M 1207.70507 305.040133 \nL 1221.68407 305.040133 \nL 1221.68407 304.872327 \nL 1207.70507 304.872327 \nz\n\" style=\"fill:#4c72b0;fill-opacity:0.75;stroke:#ffffff;stroke-linejoin:miter;stroke-width:0.119026;\"/>\n   </g>\n   <g id=\"patch_86\">\n    <path clip-path=\"url(#p04da31d105)\" d=\"M 1221.68407 305.040133 \nL 1235.66307 305.040133 \nL 1235.66307 304.95623 \nL 1221.68407 304.95623 \nz\n\" style=\"fill:#4c72b0;fill-opacity:0.75;stroke:#ffffff;stroke-linejoin:miter;stroke-width:0.119026;\"/>\n   </g>\n   <g id=\"patch_87\">\n    <path clip-path=\"url(#p04da31d105)\" d=\"M 1235.66307 305.040133 \nL 1249.64207 305.040133 \nL 1249.64207 305.040133 \nL 1235.66307 305.040133 \nz\n\" style=\"fill:#4c72b0;fill-opacity:0.75;stroke:#ffffff;stroke-linejoin:miter;stroke-width:0.119026;\"/>\n   </g>\n   <g id=\"patch_88\">\n    <path clip-path=\"url(#p04da31d105)\" d=\"M 1249.64207 305.040133 \nL 1263.62107 305.040133 \nL 1263.62107 305.040133 \nL 1249.64207 305.040133 \nz\n\" style=\"fill:#4c72b0;fill-opacity:0.75;stroke:#ffffff;stroke-linejoin:miter;stroke-width:0.119026;\"/>\n   </g>\n   <g id=\"patch_89\">\n    <path clip-path=\"url(#p04da31d105)\" d=\"M 1263.62107 305.040133 \nL 1277.60007 305.040133 \nL 1277.60007 305.040133 \nL 1263.62107 305.040133 \nz\n\" style=\"fill:#4c72b0;fill-opacity:0.75;stroke:#ffffff;stroke-linejoin:miter;stroke-width:0.119026;\"/>\n   </g>\n   <g id=\"patch_90\">\n    <path clip-path=\"url(#p04da31d105)\" d=\"M 1277.60007 305.040133 \nL 1291.57907 305.040133 \nL 1291.57907 305.040133 \nL 1277.60007 305.040133 \nz\n\" style=\"fill:#4c72b0;fill-opacity:0.75;stroke:#ffffff;stroke-linejoin:miter;stroke-width:0.119026;\"/>\n   </g>\n   <g id=\"patch_91\">\n    <path clip-path=\"url(#p04da31d105)\" d=\"M 1291.57907 305.040133 \nL 1305.55807 305.040133 \nL 1305.55807 304.95623 \nL 1291.57907 304.95623 \nz\n\" style=\"fill:#4c72b0;fill-opacity:0.75;stroke:#ffffff;stroke-linejoin:miter;stroke-width:0.119026;\"/>\n   </g>\n   <g id=\"patch_92\">\n    <path clip-path=\"url(#p04da31d105)\" d=\"M 1305.55807 305.040133 \nL 1319.53707 305.040133 \nL 1319.53707 304.95623 \nL 1305.55807 304.95623 \nz\n\" style=\"fill:#4c72b0;fill-opacity:0.75;stroke:#ffffff;stroke-linejoin:miter;stroke-width:0.119026;\"/>\n   </g>\n   <g id=\"patch_93\">\n    <path clip-path=\"url(#p04da31d105)\" d=\"M 1319.53707 305.040133 \nL 1333.51607 305.040133 \nL 1333.51607 304.872327 \nL 1319.53707 304.872327 \nz\n\" style=\"fill:#4c72b0;fill-opacity:0.75;stroke:#ffffff;stroke-linejoin:miter;stroke-width:0.119026;\"/>\n   </g>\n   <g id=\"patch_94\">\n    <path clip-path=\"url(#p04da31d105)\" d=\"M 1333.51607 305.040133 \nL 1347.49507 305.040133 \nL 1347.49507 305.040133 \nL 1333.51607 305.040133 \nz\n\" style=\"fill:#4c72b0;fill-opacity:0.75;stroke:#ffffff;stroke-linejoin:miter;stroke-width:0.119026;\"/>\n   </g>\n   <g id=\"patch_95\">\n    <path clip-path=\"url(#p04da31d105)\" d=\"M 1347.49507 305.040133 \nL 1361.47407 305.040133 \nL 1361.47407 305.040133 \nL 1347.49507 305.040133 \nz\n\" style=\"fill:#4c72b0;fill-opacity:0.75;stroke:#ffffff;stroke-linejoin:miter;stroke-width:0.119026;\"/>\n   </g>\n   <g id=\"patch_96\">\n    <path clip-path=\"url(#p04da31d105)\" d=\"M 1361.47407 305.040133 \nL 1375.45307 305.040133 \nL 1375.45307 304.872327 \nL 1361.47407 304.872327 \nz\n\" style=\"fill:#4c72b0;fill-opacity:0.75;stroke:#ffffff;stroke-linejoin:miter;stroke-width:0.119026;\"/>\n   </g>\n   <g id=\"patch_97\">\n    <path clip-path=\"url(#p04da31d105)\" d=\"M 1375.45307 305.040133 \nL 1389.43207 305.040133 \nL 1389.43207 304.95623 \nL 1375.45307 304.95623 \nz\n\" style=\"fill:#4c72b0;fill-opacity:0.75;stroke:#ffffff;stroke-linejoin:miter;stroke-width:0.119026;\"/>\n   </g>\n   <g id=\"patch_98\">\n    <path clip-path=\"url(#p04da31d105)\" d=\"M 1389.43207 305.040133 \nL 1403.41107 305.040133 \nL 1403.41107 304.95623 \nL 1389.43207 304.95623 \nz\n\" style=\"fill:#4c72b0;fill-opacity:0.75;stroke:#ffffff;stroke-linejoin:miter;stroke-width:0.119026;\"/>\n   </g>\n   <g id=\"patch_99\">\n    <path clip-path=\"url(#p04da31d105)\" d=\"M 1403.41107 305.040133 \nL 1417.39007 305.040133 \nL 1417.39007 304.872327 \nL 1403.41107 304.872327 \nz\n\" style=\"fill:#4c72b0;fill-opacity:0.75;stroke:#ffffff;stroke-linejoin:miter;stroke-width:0.119026;\"/>\n   </g>\n   <g id=\"patch_100\">\n    <path clip-path=\"url(#p04da31d105)\" d=\"M 1417.39007 305.040133 \nL 1431.36907 305.040133 \nL 1431.36907 304.95623 \nL 1417.39007 304.95623 \nz\n\" style=\"fill:#4c72b0;fill-opacity:0.75;stroke:#ffffff;stroke-linejoin:miter;stroke-width:0.119026;\"/>\n   </g>\n   <g id=\"patch_101\">\n    <path clip-path=\"url(#p04da31d105)\" d=\"M 1431.36907 305.040133 \nL 1445.34807 305.040133 \nL 1445.34807 305.040133 \nL 1431.36907 305.040133 \nz\n\" style=\"fill:#4c72b0;fill-opacity:0.75;stroke:#ffffff;stroke-linejoin:miter;stroke-width:0.119026;\"/>\n   </g>\n   <g id=\"patch_102\">\n    <path clip-path=\"url(#p04da31d105)\" d=\"M 1445.34807 305.040133 \nL 1459.32707 305.040133 \nL 1459.32707 304.872327 \nL 1445.34807 304.872327 \nz\n\" style=\"fill:#4c72b0;fill-opacity:0.75;stroke:#ffffff;stroke-linejoin:miter;stroke-width:0.119026;\"/>\n   </g>\n   <g id=\"patch_103\">\n    <path clip-path=\"url(#p04da31d105)\" d=\"M 1459.32707 305.040133 \nL 1473.30607 305.040133 \nL 1473.30607 305.040133 \nL 1459.32707 305.040133 \nz\n\" style=\"fill:#4c72b0;fill-opacity:0.75;stroke:#ffffff;stroke-linejoin:miter;stroke-width:0.119026;\"/>\n   </g>\n   <g id=\"patch_104\">\n    <path clip-path=\"url(#p04da31d105)\" d=\"M 1473.30607 305.040133 \nL 1487.28507 305.040133 \nL 1487.28507 304.95623 \nL 1473.30607 304.95623 \nz\n\" style=\"fill:#4c72b0;fill-opacity:0.75;stroke:#ffffff;stroke-linejoin:miter;stroke-width:0.119026;\"/>\n   </g>\n   <g id=\"patch_105\">\n    <path clip-path=\"url(#p04da31d105)\" d=\"M 1487.28507 305.040133 \nL 1501.26407 305.040133 \nL 1501.26407 305.040133 \nL 1487.28507 305.040133 \nz\n\" style=\"fill:#4c72b0;fill-opacity:0.75;stroke:#ffffff;stroke-linejoin:miter;stroke-width:0.119026;\"/>\n   </g>\n   <g id=\"patch_106\">\n    <path clip-path=\"url(#p04da31d105)\" d=\"M 1501.26407 305.040133 \nL 1515.24307 305.040133 \nL 1515.24307 304.704521 \nL 1501.26407 304.704521 \nz\n\" style=\"fill:#4c72b0;fill-opacity:0.75;stroke:#ffffff;stroke-linejoin:miter;stroke-width:0.119026;\"/>\n   </g>\n   <g id=\"patch_107\">\n    <path clip-path=\"url(#p04da31d105)\" d=\"M 1515.24307 305.040133 \nL 1529.22207 305.040133 \nL 1529.22207 305.040133 \nL 1515.24307 305.040133 \nz\n\" style=\"fill:#4c72b0;fill-opacity:0.75;stroke:#ffffff;stroke-linejoin:miter;stroke-width:0.119026;\"/>\n   </g>\n   <g id=\"patch_108\">\n    <path clip-path=\"url(#p04da31d105)\" d=\"M 1529.22207 305.040133 \nL 1543.20107 305.040133 \nL 1543.20107 305.040133 \nL 1529.22207 305.040133 \nz\n\" style=\"fill:#4c72b0;fill-opacity:0.75;stroke:#ffffff;stroke-linejoin:miter;stroke-width:0.119026;\"/>\n   </g>\n   <g id=\"patch_109\">\n    <path clip-path=\"url(#p04da31d105)\" d=\"M 1543.20107 305.040133 \nL 1557.18007 305.040133 \nL 1557.18007 304.872327 \nL 1543.20107 304.872327 \nz\n\" style=\"fill:#4c72b0;fill-opacity:0.75;stroke:#ffffff;stroke-linejoin:miter;stroke-width:0.119026;\"/>\n   </g>\n   <g id=\"patch_110\">\n    <path clip-path=\"url(#p04da31d105)\" d=\"M 1557.18007 305.040133 \nL 1571.15907 305.040133 \nL 1571.15907 305.040133 \nL 1557.18007 305.040133 \nz\n\" style=\"fill:#4c72b0;fill-opacity:0.75;stroke:#ffffff;stroke-linejoin:miter;stroke-width:0.119026;\"/>\n   </g>\n   <g id=\"patch_111\">\n    <path clip-path=\"url(#p04da31d105)\" d=\"M 1571.15907 305.040133 \nL 1585.13807 305.040133 \nL 1585.13807 305.040133 \nL 1571.15907 305.040133 \nz\n\" style=\"fill:#4c72b0;fill-opacity:0.75;stroke:#ffffff;stroke-linejoin:miter;stroke-width:0.119026;\"/>\n   </g>\n   <g id=\"patch_112\">\n    <path clip-path=\"url(#p04da31d105)\" d=\"M 1585.13807 305.040133 \nL 1599.11707 305.040133 \nL 1599.11707 304.95623 \nL 1585.13807 304.95623 \nz\n\" style=\"fill:#4c72b0;fill-opacity:0.75;stroke:#ffffff;stroke-linejoin:miter;stroke-width:0.119026;\"/>\n   </g>\n   <g id=\"patch_113\">\n    <path clip-path=\"url(#p04da31d105)\" d=\"M 1599.11707 305.040133 \nL 1613.09607 305.040133 \nL 1613.09607 305.040133 \nL 1599.11707 305.040133 \nz\n\" style=\"fill:#4c72b0;fill-opacity:0.75;stroke:#ffffff;stroke-linejoin:miter;stroke-width:0.119026;\"/>\n   </g>\n   <g id=\"patch_114\">\n    <path clip-path=\"url(#p04da31d105)\" d=\"M 1613.09607 305.040133 \nL 1627.07507 305.040133 \nL 1627.07507 305.040133 \nL 1613.09607 305.040133 \nz\n\" style=\"fill:#4c72b0;fill-opacity:0.75;stroke:#ffffff;stroke-linejoin:miter;stroke-width:0.119026;\"/>\n   </g>\n   <g id=\"patch_115\">\n    <path clip-path=\"url(#p04da31d105)\" d=\"M 1627.07507 305.040133 \nL 1641.05407 305.040133 \nL 1641.05407 304.872327 \nL 1627.07507 304.872327 \nz\n\" style=\"fill:#4c72b0;fill-opacity:0.75;stroke:#ffffff;stroke-linejoin:miter;stroke-width:0.119026;\"/>\n   </g>\n   <g id=\"patch_116\">\n    <path clip-path=\"url(#p04da31d105)\" d=\"M 1641.05407 305.040133 \nL 1655.03307 305.040133 \nL 1655.03307 305.040133 \nL 1641.05407 305.040133 \nz\n\" style=\"fill:#4c72b0;fill-opacity:0.75;stroke:#ffffff;stroke-linejoin:miter;stroke-width:0.119026;\"/>\n   </g>\n   <g id=\"patch_117\">\n    <path clip-path=\"url(#p04da31d105)\" d=\"M 1655.03307 305.040133 \nL 1669.01207 305.040133 \nL 1669.01207 305.040133 \nL 1655.03307 305.040133 \nz\n\" style=\"fill:#4c72b0;fill-opacity:0.75;stroke:#ffffff;stroke-linejoin:miter;stroke-width:0.119026;\"/>\n   </g>\n   <g id=\"patch_118\">\n    <path clip-path=\"url(#p04da31d105)\" d=\"M 1669.01207 305.040133 \nL 1682.99107 305.040133 \nL 1682.99107 304.95623 \nL 1669.01207 304.95623 \nz\n\" style=\"fill:#4c72b0;fill-opacity:0.75;stroke:#ffffff;stroke-linejoin:miter;stroke-width:0.119026;\"/>\n   </g>\n   <g id=\"patch_119\">\n    <path clip-path=\"url(#p04da31d105)\" d=\"M 1682.99107 305.040133 \nL 1696.97007 305.040133 \nL 1696.97007 304.95623 \nL 1682.99107 304.95623 \nz\n\" style=\"fill:#4c72b0;fill-opacity:0.75;stroke:#ffffff;stroke-linejoin:miter;stroke-width:0.119026;\"/>\n   </g>\n   <g id=\"patch_120\">\n    <path clip-path=\"url(#p04da31d105)\" d=\"M 1696.97007 305.040133 \nL 1710.94907 305.040133 \nL 1710.94907 304.95623 \nL 1696.97007 304.95623 \nz\n\" style=\"fill:#4c72b0;fill-opacity:0.75;stroke:#ffffff;stroke-linejoin:miter;stroke-width:0.119026;\"/>\n   </g>\n   <g id=\"patch_121\">\n    <path clip-path=\"url(#p04da31d105)\" d=\"M 1710.94907 305.040133 \nL 1724.92807 305.040133 \nL 1724.92807 305.040133 \nL 1710.94907 305.040133 \nz\n\" style=\"fill:#4c72b0;fill-opacity:0.75;stroke:#ffffff;stroke-linejoin:miter;stroke-width:0.119026;\"/>\n   </g>\n   <g id=\"patch_122\">\n    <path clip-path=\"url(#p04da31d105)\" d=\"M 1724.92807 305.040133 \nL 1738.90707 305.040133 \nL 1738.90707 304.95623 \nL 1724.92807 304.95623 \nz\n\" style=\"fill:#4c72b0;fill-opacity:0.75;stroke:#ffffff;stroke-linejoin:miter;stroke-width:0.119026;\"/>\n   </g>\n   <g id=\"patch_123\">\n    <path clip-path=\"url(#p04da31d105)\" d=\"M 1738.90707 305.040133 \nL 1752.88607 305.040133 \nL 1752.88607 304.872327 \nL 1738.90707 304.872327 \nz\n\" style=\"fill:#4c72b0;fill-opacity:0.75;stroke:#ffffff;stroke-linejoin:miter;stroke-width:0.119026;\"/>\n   </g>\n   <g id=\"patch_124\">\n    <path clip-path=\"url(#p04da31d105)\" d=\"M 1752.88607 305.040133 \nL 1766.86507 305.040133 \nL 1766.86507 305.040133 \nL 1752.88607 305.040133 \nz\n\" style=\"fill:#4c72b0;fill-opacity:0.75;stroke:#ffffff;stroke-linejoin:miter;stroke-width:0.119026;\"/>\n   </g>\n   <g id=\"patch_125\">\n    <path clip-path=\"url(#p04da31d105)\" d=\"M 1766.86507 305.040133 \nL 1780.84407 305.040133 \nL 1780.84407 305.040133 \nL 1766.86507 305.040133 \nz\n\" style=\"fill:#4c72b0;fill-opacity:0.75;stroke:#ffffff;stroke-linejoin:miter;stroke-width:0.119026;\"/>\n   </g>\n   <g id=\"patch_126\">\n    <path clip-path=\"url(#p04da31d105)\" d=\"M 1780.84407 305.040133 \nL 1794.82307 305.040133 \nL 1794.82307 305.040133 \nL 1780.84407 305.040133 \nz\n\" style=\"fill:#4c72b0;fill-opacity:0.75;stroke:#ffffff;stroke-linejoin:miter;stroke-width:0.119026;\"/>\n   </g>\n   <g id=\"patch_127\">\n    <path clip-path=\"url(#p04da31d105)\" d=\"M 1794.82307 305.040133 \nL 1808.80207 305.040133 \nL 1808.80207 305.040133 \nL 1794.82307 305.040133 \nz\n\" style=\"fill:#4c72b0;fill-opacity:0.75;stroke:#ffffff;stroke-linejoin:miter;stroke-width:0.119026;\"/>\n   </g>\n   <g id=\"patch_128\">\n    <path clip-path=\"url(#p04da31d105)\" d=\"M 1808.80207 305.040133 \nL 1822.78107 305.040133 \nL 1822.78107 304.95623 \nL 1808.80207 304.95623 \nz\n\" style=\"fill:#4c72b0;fill-opacity:0.75;stroke:#ffffff;stroke-linejoin:miter;stroke-width:0.119026;\"/>\n   </g>\n   <g id=\"patch_129\">\n    <path clip-path=\"url(#p04da31d105)\" d=\"M 1822.78107 305.040133 \nL 1836.76007 305.040133 \nL 1836.76007 304.95623 \nL 1822.78107 304.95623 \nz\n\" style=\"fill:#4c72b0;fill-opacity:0.75;stroke:#ffffff;stroke-linejoin:miter;stroke-width:0.119026;\"/>\n   </g>\n   <g id=\"patch_130\">\n    <path clip-path=\"url(#p04da31d105)\" d=\"M 1836.76007 305.040133 \nL 1850.73907 305.040133 \nL 1850.73907 304.95623 \nL 1836.76007 304.95623 \nz\n\" style=\"fill:#4c72b0;fill-opacity:0.75;stroke:#ffffff;stroke-linejoin:miter;stroke-width:0.119026;\"/>\n   </g>\n   <g id=\"patch_131\">\n    <path clip-path=\"url(#p04da31d105)\" d=\"M 1850.73907 305.040133 \nL 1864.71807 305.040133 \nL 1864.71807 305.040133 \nL 1850.73907 305.040133 \nz\n\" style=\"fill:#4c72b0;fill-opacity:0.75;stroke:#ffffff;stroke-linejoin:miter;stroke-width:0.119026;\"/>\n   </g>\n   <g id=\"patch_132\">\n    <path clip-path=\"url(#p04da31d105)\" d=\"M 1864.71807 305.040133 \nL 1878.69707 305.040133 \nL 1878.69707 305.040133 \nL 1864.71807 305.040133 \nz\n\" style=\"fill:#4c72b0;fill-opacity:0.75;stroke:#ffffff;stroke-linejoin:miter;stroke-width:0.119026;\"/>\n   </g>\n   <g id=\"patch_133\">\n    <path clip-path=\"url(#p04da31d105)\" d=\"M 1878.69707 305.040133 \nL 1892.67607 305.040133 \nL 1892.67607 304.872327 \nL 1878.69707 304.872327 \nz\n\" style=\"fill:#4c72b0;fill-opacity:0.75;stroke:#ffffff;stroke-linejoin:miter;stroke-width:0.119026;\"/>\n   </g>\n   <g id=\"patch_134\">\n    <path clip-path=\"url(#p04da31d105)\" d=\"M 1892.67607 305.040133 \nL 1906.65507 305.040133 \nL 1906.65507 305.040133 \nL 1892.67607 305.040133 \nz\n\" style=\"fill:#4c72b0;fill-opacity:0.75;stroke:#ffffff;stroke-linejoin:miter;stroke-width:0.119026;\"/>\n   </g>\n   <g id=\"patch_135\">\n    <path clip-path=\"url(#p04da31d105)\" d=\"M 1906.65507 305.040133 \nL 1920.63407 305.040133 \nL 1920.63407 305.040133 \nL 1906.65507 305.040133 \nz\n\" style=\"fill:#4c72b0;fill-opacity:0.75;stroke:#ffffff;stroke-linejoin:miter;stroke-width:0.119026;\"/>\n   </g>\n   <g id=\"patch_136\">\n    <path clip-path=\"url(#p04da31d105)\" d=\"M 1920.63407 305.040133 \nL 1934.61307 305.040133 \nL 1934.61307 305.040133 \nL 1920.63407 305.040133 \nz\n\" style=\"fill:#4c72b0;fill-opacity:0.75;stroke:#ffffff;stroke-linejoin:miter;stroke-width:0.119026;\"/>\n   </g>\n   <g id=\"patch_137\">\n    <path clip-path=\"url(#p04da31d105)\" d=\"M 1934.61307 305.040133 \nL 1948.59207 305.040133 \nL 1948.59207 304.872327 \nL 1934.61307 304.872327 \nz\n\" style=\"fill:#4c72b0;fill-opacity:0.75;stroke:#ffffff;stroke-linejoin:miter;stroke-width:0.119026;\"/>\n   </g>\n   <g id=\"patch_138\">\n    <path clip-path=\"url(#p04da31d105)\" d=\"M 1948.59207 305.040133 \nL 1962.57107 305.040133 \nL 1962.57107 304.95623 \nL 1948.59207 304.95623 \nz\n\" style=\"fill:#4c72b0;fill-opacity:0.75;stroke:#ffffff;stroke-linejoin:miter;stroke-width:0.119026;\"/>\n   </g>\n   <g id=\"patch_139\">\n    <path clip-path=\"url(#p04da31d105)\" d=\"M 1962.57107 305.040133 \nL 1976.55007 305.040133 \nL 1976.55007 305.040133 \nL 1962.57107 305.040133 \nz\n\" style=\"fill:#4c72b0;fill-opacity:0.75;stroke:#ffffff;stroke-linejoin:miter;stroke-width:0.119026;\"/>\n   </g>\n   <g id=\"patch_140\">\n    <path clip-path=\"url(#p04da31d105)\" d=\"M 1976.55007 305.040133 \nL 1990.52907 305.040133 \nL 1990.52907 305.040133 \nL 1976.55007 305.040133 \nz\n\" style=\"fill:#4c72b0;fill-opacity:0.75;stroke:#ffffff;stroke-linejoin:miter;stroke-width:0.119026;\"/>\n   </g>\n   <g id=\"patch_141\">\n    <path clip-path=\"url(#p04da31d105)\" d=\"M 1990.52907 305.040133 \nL 2004.50807 305.040133 \nL 2004.50807 305.040133 \nL 1990.52907 305.040133 \nz\n\" style=\"fill:#4c72b0;fill-opacity:0.75;stroke:#ffffff;stroke-linejoin:miter;stroke-width:0.119026;\"/>\n   </g>\n   <g id=\"patch_142\">\n    <path clip-path=\"url(#p04da31d105)\" d=\"M 2004.50807 305.040133 \nL 2018.48707 305.040133 \nL 2018.48707 305.040133 \nL 2004.50807 305.040133 \nz\n\" style=\"fill:#4c72b0;fill-opacity:0.75;stroke:#ffffff;stroke-linejoin:miter;stroke-width:0.119026;\"/>\n   </g>\n   <g id=\"patch_143\">\n    <path clip-path=\"url(#p04da31d105)\" d=\"M 2018.48707 305.040133 \nL 2032.46607 305.040133 \nL 2032.46607 305.040133 \nL 2018.48707 305.040133 \nz\n\" style=\"fill:#4c72b0;fill-opacity:0.75;stroke:#ffffff;stroke-linejoin:miter;stroke-width:0.119026;\"/>\n   </g>\n   <g id=\"patch_144\">\n    <path clip-path=\"url(#p04da31d105)\" d=\"M 2032.46607 305.040133 \nL 2046.44507 305.040133 \nL 2046.44507 305.040133 \nL 2032.46607 305.040133 \nz\n\" style=\"fill:#4c72b0;fill-opacity:0.75;stroke:#ffffff;stroke-linejoin:miter;stroke-width:0.119026;\"/>\n   </g>\n   <g id=\"patch_145\">\n    <path clip-path=\"url(#p04da31d105)\" d=\"M 2046.44507 305.040133 \nL 2060.42407 305.040133 \nL 2060.42407 305.040133 \nL 2046.44507 305.040133 \nz\n\" style=\"fill:#4c72b0;fill-opacity:0.75;stroke:#ffffff;stroke-linejoin:miter;stroke-width:0.119026;\"/>\n   </g>\n   <g id=\"patch_146\">\n    <path clip-path=\"url(#p04da31d105)\" d=\"M 2060.42407 305.040133 \nL 2074.40307 305.040133 \nL 2074.40307 304.872327 \nL 2060.42407 304.872327 \nz\n\" style=\"fill:#4c72b0;fill-opacity:0.75;stroke:#ffffff;stroke-linejoin:miter;stroke-width:0.119026;\"/>\n   </g>\n   <g id=\"patch_147\">\n    <path clip-path=\"url(#p04da31d105)\" d=\"M 2074.40307 305.040133 \nL 2088.38207 305.040133 \nL 2088.38207 304.95623 \nL 2074.40307 304.95623 \nz\n\" style=\"fill:#4c72b0;fill-opacity:0.75;stroke:#ffffff;stroke-linejoin:miter;stroke-width:0.119026;\"/>\n   </g>\n   <g id=\"patch_148\">\n    <path clip-path=\"url(#p04da31d105)\" d=\"M 2088.38207 305.040133 \nL 2102.36107 305.040133 \nL 2102.36107 305.040133 \nL 2088.38207 305.040133 \nz\n\" style=\"fill:#4c72b0;fill-opacity:0.75;stroke:#ffffff;stroke-linejoin:miter;stroke-width:0.119026;\"/>\n   </g>\n   <g id=\"patch_149\">\n    <path clip-path=\"url(#p04da31d105)\" d=\"M 2102.36107 305.040133 \nL 2116.34007 305.040133 \nL 2116.34007 304.95623 \nL 2102.36107 304.95623 \nz\n\" style=\"fill:#4c72b0;fill-opacity:0.75;stroke:#ffffff;stroke-linejoin:miter;stroke-width:0.119026;\"/>\n   </g>\n   <g id=\"patch_150\">\n    <path clip-path=\"url(#p04da31d105)\" d=\"M 2116.34007 305.040133 \nL 2130.31907 305.040133 \nL 2130.31907 305.040133 \nL 2116.34007 305.040133 \nz\n\" style=\"fill:#4c72b0;fill-opacity:0.75;stroke:#ffffff;stroke-linejoin:miter;stroke-width:0.119026;\"/>\n   </g>\n   <g id=\"patch_151\">\n    <path clip-path=\"url(#p04da31d105)\" d=\"M 2130.31907 305.040133 \nL 2144.29807 305.040133 \nL 2144.29807 305.040133 \nL 2130.31907 305.040133 \nz\n\" style=\"fill:#4c72b0;fill-opacity:0.75;stroke:#ffffff;stroke-linejoin:miter;stroke-width:0.119026;\"/>\n   </g>\n   <g id=\"patch_152\">\n    <path clip-path=\"url(#p04da31d105)\" d=\"M 2144.29807 305.040133 \nL 2158.27707 305.040133 \nL 2158.27707 305.040133 \nL 2144.29807 305.040133 \nz\n\" style=\"fill:#4c72b0;fill-opacity:0.75;stroke:#ffffff;stroke-linejoin:miter;stroke-width:0.119026;\"/>\n   </g>\n   <g id=\"patch_153\">\n    <path clip-path=\"url(#p04da31d105)\" d=\"M 2158.27707 305.040133 \nL 2172.25607 305.040133 \nL 2172.25607 304.95623 \nL 2158.27707 304.95623 \nz\n\" style=\"fill:#4c72b0;fill-opacity:0.75;stroke:#ffffff;stroke-linejoin:miter;stroke-width:0.119026;\"/>\n   </g>\n   <g id=\"patch_154\">\n    <path clip-path=\"url(#p04da31d105)\" d=\"M 2172.25607 305.040133 \nL 2186.23507 305.040133 \nL 2186.23507 305.040133 \nL 2172.25607 305.040133 \nz\n\" style=\"fill:#4c72b0;fill-opacity:0.75;stroke:#ffffff;stroke-linejoin:miter;stroke-width:0.119026;\"/>\n   </g>\n   <g id=\"patch_155\">\n    <path clip-path=\"url(#p04da31d105)\" d=\"M 2186.23507 305.040133 \nL 2200.21407 305.040133 \nL 2200.21407 304.872327 \nL 2186.23507 304.872327 \nz\n\" style=\"fill:#4c72b0;fill-opacity:0.75;stroke:#ffffff;stroke-linejoin:miter;stroke-width:0.119026;\"/>\n   </g>\n   <g id=\"patch_156\">\n    <path clip-path=\"url(#p04da31d105)\" d=\"M 2200.21407 305.040133 \nL 2214.19307 305.040133 \nL 2214.19307 305.040133 \nL 2200.21407 305.040133 \nz\n\" style=\"fill:#4c72b0;fill-opacity:0.75;stroke:#ffffff;stroke-linejoin:miter;stroke-width:0.119026;\"/>\n   </g>\n   <g id=\"patch_157\">\n    <path clip-path=\"url(#p04da31d105)\" d=\"M 2214.19307 305.040133 \nL 2228.17207 305.040133 \nL 2228.17207 305.040133 \nL 2214.19307 305.040133 \nz\n\" style=\"fill:#4c72b0;fill-opacity:0.75;stroke:#ffffff;stroke-linejoin:miter;stroke-width:0.119026;\"/>\n   </g>\n   <g id=\"patch_158\">\n    <path clip-path=\"url(#p04da31d105)\" d=\"M 2228.17207 305.040133 \nL 2242.15107 305.040133 \nL 2242.15107 304.872327 \nL 2228.17207 304.872327 \nz\n\" style=\"fill:#4c72b0;fill-opacity:0.75;stroke:#ffffff;stroke-linejoin:miter;stroke-width:0.119026;\"/>\n   </g>\n   <g id=\"patch_159\">\n    <path clip-path=\"url(#p04da31d105)\" d=\"M 2242.15107 305.040133 \nL 2256.13007 305.040133 \nL 2256.13007 304.95623 \nL 2242.15107 304.95623 \nz\n\" style=\"fill:#4c72b0;fill-opacity:0.75;stroke:#ffffff;stroke-linejoin:miter;stroke-width:0.119026;\"/>\n   </g>\n   <g id=\"patch_160\">\n    <path clip-path=\"url(#p04da31d105)\" d=\"M 2256.13007 305.040133 \nL 2270.10907 305.040133 \nL 2270.10907 305.040133 \nL 2256.13007 305.040133 \nz\n\" style=\"fill:#4c72b0;fill-opacity:0.75;stroke:#ffffff;stroke-linejoin:miter;stroke-width:0.119026;\"/>\n   </g>\n   <g id=\"patch_161\">\n    <path clip-path=\"url(#p04da31d105)\" d=\"M 2270.10907 305.040133 \nL 2284.08807 305.040133 \nL 2284.08807 304.95623 \nL 2270.10907 304.95623 \nz\n\" style=\"fill:#4c72b0;fill-opacity:0.75;stroke:#ffffff;stroke-linejoin:miter;stroke-width:0.119026;\"/>\n   </g>\n   <g id=\"patch_162\">\n    <path clip-path=\"url(#p04da31d105)\" d=\"M 2284.08807 305.040133 \nL 2298.06707 305.040133 \nL 2298.06707 304.95623 \nL 2284.08807 304.95623 \nz\n\" style=\"fill:#4c72b0;fill-opacity:0.75;stroke:#ffffff;stroke-linejoin:miter;stroke-width:0.119026;\"/>\n   </g>\n   <g id=\"patch_163\">\n    <path clip-path=\"url(#p04da31d105)\" d=\"M 2298.06707 305.040133 \nL 2312.04607 305.040133 \nL 2312.04607 305.040133 \nL 2298.06707 305.040133 \nz\n\" style=\"fill:#4c72b0;fill-opacity:0.75;stroke:#ffffff;stroke-linejoin:miter;stroke-width:0.119026;\"/>\n   </g>\n   <g id=\"patch_164\">\n    <path clip-path=\"url(#p04da31d105)\" d=\"M 2312.04607 305.040133 \nL 2326.02507 305.040133 \nL 2326.02507 305.040133 \nL 2312.04607 305.040133 \nz\n\" style=\"fill:#4c72b0;fill-opacity:0.75;stroke:#ffffff;stroke-linejoin:miter;stroke-width:0.119026;\"/>\n   </g>\n   <g id=\"patch_165\">\n    <path clip-path=\"url(#p04da31d105)\" d=\"M 2326.02507 305.040133 \nL 2340.00407 305.040133 \nL 2340.00407 305.040133 \nL 2326.02507 305.040133 \nz\n\" style=\"fill:#4c72b0;fill-opacity:0.75;stroke:#ffffff;stroke-linejoin:miter;stroke-width:0.119026;\"/>\n   </g>\n   <g id=\"patch_166\">\n    <path clip-path=\"url(#p04da31d105)\" d=\"M 2340.00407 305.040133 \nL 2353.98307 305.040133 \nL 2353.98307 305.040133 \nL 2340.00407 305.040133 \nz\n\" style=\"fill:#4c72b0;fill-opacity:0.75;stroke:#ffffff;stroke-linejoin:miter;stroke-width:0.119026;\"/>\n   </g>\n   <g id=\"patch_167\">\n    <path clip-path=\"url(#p04da31d105)\" d=\"M 2353.98307 305.040133 \nL 2367.96207 305.040133 \nL 2367.96207 305.040133 \nL 2353.98307 305.040133 \nz\n\" style=\"fill:#4c72b0;fill-opacity:0.75;stroke:#ffffff;stroke-linejoin:miter;stroke-width:0.119026;\"/>\n   </g>\n   <g id=\"patch_168\">\n    <path clip-path=\"url(#p04da31d105)\" d=\"M 2367.96207 305.040133 \nL 2381.94107 305.040133 \nL 2381.94107 304.872327 \nL 2367.96207 304.872327 \nz\n\" style=\"fill:#4c72b0;fill-opacity:0.75;stroke:#ffffff;stroke-linejoin:miter;stroke-width:0.119026;\"/>\n   </g>\n   <g id=\"patch_169\">\n    <path clip-path=\"url(#p04da31d105)\" d=\"M 2381.94107 305.040133 \nL 2395.92007 305.040133 \nL 2395.92007 305.040133 \nL 2381.94107 305.040133 \nz\n\" style=\"fill:#4c72b0;fill-opacity:0.75;stroke:#ffffff;stroke-linejoin:miter;stroke-width:0.119026;\"/>\n   </g>\n   <g id=\"patch_170\">\n    <path clip-path=\"url(#p04da31d105)\" d=\"M 2395.92007 305.040133 \nL 2409.89907 305.040133 \nL 2409.89907 305.040133 \nL 2395.92007 305.040133 \nz\n\" style=\"fill:#4c72b0;fill-opacity:0.75;stroke:#ffffff;stroke-linejoin:miter;stroke-width:0.119026;\"/>\n   </g>\n   <g id=\"patch_171\">\n    <path clip-path=\"url(#p04da31d105)\" d=\"M 2409.89907 305.040133 \nL 2423.87807 305.040133 \nL 2423.87807 305.040133 \nL 2409.89907 305.040133 \nz\n\" style=\"fill:#4c72b0;fill-opacity:0.75;stroke:#ffffff;stroke-linejoin:miter;stroke-width:0.119026;\"/>\n   </g>\n   <g id=\"patch_172\">\n    <path clip-path=\"url(#p04da31d105)\" d=\"M 2423.87807 305.040133 \nL 2437.85707 305.040133 \nL 2437.85707 304.95623 \nL 2423.87807 304.95623 \nz\n\" style=\"fill:#4c72b0;fill-opacity:0.75;stroke:#ffffff;stroke-linejoin:miter;stroke-width:0.119026;\"/>\n   </g>\n   <g id=\"patch_173\">\n    <path clip-path=\"url(#p04da31d105)\" d=\"M 2437.85707 305.040133 \nL 2451.83607 305.040133 \nL 2451.83607 305.040133 \nL 2437.85707 305.040133 \nz\n\" style=\"fill:#4c72b0;fill-opacity:0.75;stroke:#ffffff;stroke-linejoin:miter;stroke-width:0.119026;\"/>\n   </g>\n   <g id=\"patch_174\">\n    <path clip-path=\"url(#p04da31d105)\" d=\"M 2451.83607 305.040133 \nL 2465.81507 305.040133 \nL 2465.81507 305.040133 \nL 2451.83607 305.040133 \nz\n\" style=\"fill:#4c72b0;fill-opacity:0.75;stroke:#ffffff;stroke-linejoin:miter;stroke-width:0.119026;\"/>\n   </g>\n   <g id=\"patch_175\">\n    <path clip-path=\"url(#p04da31d105)\" d=\"M 2465.81507 305.040133 \nL 2479.79407 305.040133 \nL 2479.79407 305.040133 \nL 2465.81507 305.040133 \nz\n\" style=\"fill:#4c72b0;fill-opacity:0.75;stroke:#ffffff;stroke-linejoin:miter;stroke-width:0.119026;\"/>\n   </g>\n   <g id=\"patch_176\">\n    <path clip-path=\"url(#p04da31d105)\" d=\"M 2479.79407 305.040133 \nL 2493.77307 305.040133 \nL 2493.77307 305.040133 \nL 2479.79407 305.040133 \nz\n\" style=\"fill:#4c72b0;fill-opacity:0.75;stroke:#ffffff;stroke-linejoin:miter;stroke-width:0.119026;\"/>\n   </g>\n   <g id=\"patch_177\">\n    <path clip-path=\"url(#p04da31d105)\" d=\"M 2493.77307 305.040133 \nL 2507.75207 305.040133 \nL 2507.75207 305.040133 \nL 2493.77307 305.040133 \nz\n\" style=\"fill:#4c72b0;fill-opacity:0.75;stroke:#ffffff;stroke-linejoin:miter;stroke-width:0.119026;\"/>\n   </g>\n   <g id=\"patch_178\">\n    <path clip-path=\"url(#p04da31d105)\" d=\"M 2507.75207 305.040133 \nL 2521.73107 305.040133 \nL 2521.73107 305.040133 \nL 2507.75207 305.040133 \nz\n\" style=\"fill:#4c72b0;fill-opacity:0.75;stroke:#ffffff;stroke-linejoin:miter;stroke-width:0.119026;\"/>\n   </g>\n   <g id=\"patch_179\">\n    <path clip-path=\"url(#p04da31d105)\" d=\"M 2521.73107 305.040133 \nL 2535.71007 305.040133 \nL 2535.71007 305.040133 \nL 2521.73107 305.040133 \nz\n\" style=\"fill:#4c72b0;fill-opacity:0.75;stroke:#ffffff;stroke-linejoin:miter;stroke-width:0.119026;\"/>\n   </g>\n   <g id=\"patch_180\">\n    <path clip-path=\"url(#p04da31d105)\" d=\"M 2535.71007 305.040133 \nL 2549.68907 305.040133 \nL 2549.68907 305.040133 \nL 2535.71007 305.040133 \nz\n\" style=\"fill:#4c72b0;fill-opacity:0.75;stroke:#ffffff;stroke-linejoin:miter;stroke-width:0.119026;\"/>\n   </g>\n   <g id=\"patch_181\">\n    <path clip-path=\"url(#p04da31d105)\" d=\"M 2549.68907 305.040133 \nL 2563.66807 305.040133 \nL 2563.66807 305.040133 \nL 2549.68907 305.040133 \nz\n\" style=\"fill:#4c72b0;fill-opacity:0.75;stroke:#ffffff;stroke-linejoin:miter;stroke-width:0.119026;\"/>\n   </g>\n   <g id=\"patch_182\">\n    <path clip-path=\"url(#p04da31d105)\" d=\"M 2563.66807 305.040133 \nL 2577.64707 305.040133 \nL 2577.64707 305.040133 \nL 2563.66807 305.040133 \nz\n\" style=\"fill:#4c72b0;fill-opacity:0.75;stroke:#ffffff;stroke-linejoin:miter;stroke-width:0.119026;\"/>\n   </g>\n   <g id=\"patch_183\">\n    <path clip-path=\"url(#p04da31d105)\" d=\"M 2577.64707 305.040133 \nL 2591.62607 305.040133 \nL 2591.62607 305.040133 \nL 2577.64707 305.040133 \nz\n\" style=\"fill:#4c72b0;fill-opacity:0.75;stroke:#ffffff;stroke-linejoin:miter;stroke-width:0.119026;\"/>\n   </g>\n   <g id=\"patch_184\">\n    <path clip-path=\"url(#p04da31d105)\" d=\"M 2591.62607 305.040133 \nL 2605.60507 305.040133 \nL 2605.60507 305.040133 \nL 2591.62607 305.040133 \nz\n\" style=\"fill:#4c72b0;fill-opacity:0.75;stroke:#ffffff;stroke-linejoin:miter;stroke-width:0.119026;\"/>\n   </g>\n   <g id=\"patch_185\">\n    <path clip-path=\"url(#p04da31d105)\" d=\"M 2605.60507 305.040133 \nL 2619.58407 305.040133 \nL 2619.58407 305.040133 \nL 2605.60507 305.040133 \nz\n\" style=\"fill:#4c72b0;fill-opacity:0.75;stroke:#ffffff;stroke-linejoin:miter;stroke-width:0.119026;\"/>\n   </g>\n   <g id=\"patch_186\">\n    <path clip-path=\"url(#p04da31d105)\" d=\"M 2619.58407 305.040133 \nL 2633.56307 305.040133 \nL 2633.56307 305.040133 \nL 2619.58407 305.040133 \nz\n\" style=\"fill:#4c72b0;fill-opacity:0.75;stroke:#ffffff;stroke-linejoin:miter;stroke-width:0.119026;\"/>\n   </g>\n   <g id=\"patch_187\">\n    <path clip-path=\"url(#p04da31d105)\" d=\"M 2633.56307 305.040133 \nL 2647.54207 305.040133 \nL 2647.54207 305.040133 \nL 2633.56307 305.040133 \nz\n\" style=\"fill:#4c72b0;fill-opacity:0.75;stroke:#ffffff;stroke-linejoin:miter;stroke-width:0.119026;\"/>\n   </g>\n   <g id=\"patch_188\">\n    <path clip-path=\"url(#p04da31d105)\" d=\"M 2647.54207 305.040133 \nL 2661.52107 305.040133 \nL 2661.52107 305.040133 \nL 2647.54207 305.040133 \nz\n\" style=\"fill:#4c72b0;fill-opacity:0.75;stroke:#ffffff;stroke-linejoin:miter;stroke-width:0.119026;\"/>\n   </g>\n   <g id=\"patch_189\">\n    <path clip-path=\"url(#p04da31d105)\" d=\"M 2661.52107 305.040133 \nL 2675.50007 305.040133 \nL 2675.50007 305.040133 \nL 2661.52107 305.040133 \nz\n\" style=\"fill:#4c72b0;fill-opacity:0.75;stroke:#ffffff;stroke-linejoin:miter;stroke-width:0.119026;\"/>\n   </g>\n   <g id=\"patch_190\">\n    <path clip-path=\"url(#p04da31d105)\" d=\"M 2675.50007 305.040133 \nL 2689.47907 305.040133 \nL 2689.47907 305.040133 \nL 2675.50007 305.040133 \nz\n\" style=\"fill:#4c72b0;fill-opacity:0.75;stroke:#ffffff;stroke-linejoin:miter;stroke-width:0.119026;\"/>\n   </g>\n   <g id=\"patch_191\">\n    <path clip-path=\"url(#p04da31d105)\" d=\"M 2689.47907 305.040133 \nL 2703.45807 305.040133 \nL 2703.45807 305.040133 \nL 2689.47907 305.040133 \nz\n\" style=\"fill:#4c72b0;fill-opacity:0.75;stroke:#ffffff;stroke-linejoin:miter;stroke-width:0.119026;\"/>\n   </g>\n   <g id=\"patch_192\">\n    <path clip-path=\"url(#p04da31d105)\" d=\"M 2703.45807 305.040133 \nL 2717.43707 305.040133 \nL 2717.43707 305.040133 \nL 2703.45807 305.040133 \nz\n\" style=\"fill:#4c72b0;fill-opacity:0.75;stroke:#ffffff;stroke-linejoin:miter;stroke-width:0.119026;\"/>\n   </g>\n   <g id=\"patch_193\">\n    <path clip-path=\"url(#p04da31d105)\" d=\"M 2717.43707 305.040133 \nL 2731.41607 305.040133 \nL 2731.41607 304.95623 \nL 2717.43707 304.95623 \nz\n\" style=\"fill:#4c72b0;fill-opacity:0.75;stroke:#ffffff;stroke-linejoin:miter;stroke-width:0.119026;\"/>\n   </g>\n   <g id=\"patch_194\">\n    <path clip-path=\"url(#p04da31d105)\" d=\"M 2731.41607 305.040133 \nL 2745.39507 305.040133 \nL 2745.39507 305.040133 \nL 2731.41607 305.040133 \nz\n\" style=\"fill:#4c72b0;fill-opacity:0.75;stroke:#ffffff;stroke-linejoin:miter;stroke-width:0.119026;\"/>\n   </g>\n   <g id=\"patch_195\">\n    <path clip-path=\"url(#p04da31d105)\" d=\"M 2745.39507 305.040133 \nL 2759.37407 305.040133 \nL 2759.37407 305.040133 \nL 2745.39507 305.040133 \nz\n\" style=\"fill:#4c72b0;fill-opacity:0.75;stroke:#ffffff;stroke-linejoin:miter;stroke-width:0.119026;\"/>\n   </g>\n   <g id=\"patch_196\">\n    <path clip-path=\"url(#p04da31d105)\" d=\"M 2759.37407 305.040133 \nL 2773.35307 305.040133 \nL 2773.35307 305.040133 \nL 2759.37407 305.040133 \nz\n\" style=\"fill:#4c72b0;fill-opacity:0.75;stroke:#ffffff;stroke-linejoin:miter;stroke-width:0.119026;\"/>\n   </g>\n   <g id=\"patch_197\">\n    <path clip-path=\"url(#p04da31d105)\" d=\"M 2773.35307 305.040133 \nL 2787.33207 305.040133 \nL 2787.33207 305.040133 \nL 2773.35307 305.040133 \nz\n\" style=\"fill:#4c72b0;fill-opacity:0.75;stroke:#ffffff;stroke-linejoin:miter;stroke-width:0.119026;\"/>\n   </g>\n   <g id=\"patch_198\">\n    <path clip-path=\"url(#p04da31d105)\" d=\"M 2787.33207 305.040133 \nL 2801.31107 305.040133 \nL 2801.31107 305.040133 \nL 2787.33207 305.040133 \nz\n\" style=\"fill:#4c72b0;fill-opacity:0.75;stroke:#ffffff;stroke-linejoin:miter;stroke-width:0.119026;\"/>\n   </g>\n   <g id=\"patch_199\">\n    <path clip-path=\"url(#p04da31d105)\" d=\"M 2801.31107 305.040133 \nL 2815.29007 305.040133 \nL 2815.29007 305.040133 \nL 2801.31107 305.040133 \nz\n\" style=\"fill:#4c72b0;fill-opacity:0.75;stroke:#ffffff;stroke-linejoin:miter;stroke-width:0.119026;\"/>\n   </g>\n   <g id=\"patch_200\">\n    <path clip-path=\"url(#p04da31d105)\" d=\"M 2815.29007 305.040133 \nL 2829.26907 305.040133 \nL 2829.26907 305.040133 \nL 2815.29007 305.040133 \nz\n\" style=\"fill:#4c72b0;fill-opacity:0.75;stroke:#ffffff;stroke-linejoin:miter;stroke-width:0.119026;\"/>\n   </g>\n   <g id=\"patch_201\">\n    <path clip-path=\"url(#p04da31d105)\" d=\"M 2829.26907 305.040133 \nL 2843.24807 305.040133 \nL 2843.24807 305.040133 \nL 2829.26907 305.040133 \nz\n\" style=\"fill:#4c72b0;fill-opacity:0.75;stroke:#ffffff;stroke-linejoin:miter;stroke-width:0.119026;\"/>\n   </g>\n   <g id=\"patch_202\">\n    <path clip-path=\"url(#p04da31d105)\" d=\"M 2843.24807 305.040133 \nL 2857.22707 305.040133 \nL 2857.22707 305.040133 \nL 2843.24807 305.040133 \nz\n\" style=\"fill:#4c72b0;fill-opacity:0.75;stroke:#ffffff;stroke-linejoin:miter;stroke-width:0.119026;\"/>\n   </g>\n   <g id=\"patch_203\">\n    <path clip-path=\"url(#p04da31d105)\" d=\"M 2857.22707 305.040133 \nL 2871.20607 305.040133 \nL 2871.20607 305.040133 \nL 2857.22707 305.040133 \nz\n\" style=\"fill:#4c72b0;fill-opacity:0.75;stroke:#ffffff;stroke-linejoin:miter;stroke-width:0.119026;\"/>\n   </g>\n   <g id=\"patch_204\">\n    <path clip-path=\"url(#p04da31d105)\" d=\"M 2871.20607 305.040133 \nL 2885.18507 305.040133 \nL 2885.18507 305.040133 \nL 2871.20607 305.040133 \nz\n\" style=\"fill:#4c72b0;fill-opacity:0.75;stroke:#ffffff;stroke-linejoin:miter;stroke-width:0.119026;\"/>\n   </g>\n   <g id=\"patch_205\">\n    <path clip-path=\"url(#p04da31d105)\" d=\"M 2885.18507 305.040133 \nL 2899.16407 305.040133 \nL 2899.16407 305.040133 \nL 2885.18507 305.040133 \nz\n\" style=\"fill:#4c72b0;fill-opacity:0.75;stroke:#ffffff;stroke-linejoin:miter;stroke-width:0.119026;\"/>\n   </g>\n   <g id=\"patch_206\">\n    <path clip-path=\"url(#p04da31d105)\" d=\"M 2899.16407 305.040133 \nL 2913.14307 305.040133 \nL 2913.14307 305.040133 \nL 2899.16407 305.040133 \nz\n\" style=\"fill:#4c72b0;fill-opacity:0.75;stroke:#ffffff;stroke-linejoin:miter;stroke-width:0.119026;\"/>\n   </g>\n   <g id=\"patch_207\">\n    <path clip-path=\"url(#p04da31d105)\" d=\"M 2913.14307 305.040133 \nL 2927.12207 305.040133 \nL 2927.12207 305.040133 \nL 2913.14307 305.040133 \nz\n\" style=\"fill:#4c72b0;fill-opacity:0.75;stroke:#ffffff;stroke-linejoin:miter;stroke-width:0.119026;\"/>\n   </g>\n   <g id=\"patch_208\">\n    <path clip-path=\"url(#p04da31d105)\" d=\"M 2927.12207 305.040133 \nL 2941.10107 305.040133 \nL 2941.10107 305.040133 \nL 2927.12207 305.040133 \nz\n\" style=\"fill:#4c72b0;fill-opacity:0.75;stroke:#ffffff;stroke-linejoin:miter;stroke-width:0.119026;\"/>\n   </g>\n   <g id=\"patch_209\">\n    <path clip-path=\"url(#p04da31d105)\" d=\"M 2941.10107 305.040133 \nL 2955.08007 305.040133 \nL 2955.08007 305.040133 \nL 2941.10107 305.040133 \nz\n\" style=\"fill:#4c72b0;fill-opacity:0.75;stroke:#ffffff;stroke-linejoin:miter;stroke-width:0.119026;\"/>\n   </g>\n   <g id=\"patch_210\">\n    <path clip-path=\"url(#p04da31d105)\" d=\"M 2955.08007 305.040133 \nL 2969.05907 305.040133 \nL 2969.05907 305.040133 \nL 2955.08007 305.040133 \nz\n\" style=\"fill:#4c72b0;fill-opacity:0.75;stroke:#ffffff;stroke-linejoin:miter;stroke-width:0.119026;\"/>\n   </g>\n   <g id=\"patch_211\">\n    <path clip-path=\"url(#p04da31d105)\" d=\"M 2969.05907 305.040133 \nL 2983.03807 305.040133 \nL 2983.03807 305.040133 \nL 2969.05907 305.040133 \nz\n\" style=\"fill:#4c72b0;fill-opacity:0.75;stroke:#ffffff;stroke-linejoin:miter;stroke-width:0.119026;\"/>\n   </g>\n   <g id=\"patch_212\">\n    <path clip-path=\"url(#p04da31d105)\" d=\"M 2983.03807 305.040133 \nL 2997.01707 305.040133 \nL 2997.01707 305.040133 \nL 2983.03807 305.040133 \nz\n\" style=\"fill:#4c72b0;fill-opacity:0.75;stroke:#ffffff;stroke-linejoin:miter;stroke-width:0.119026;\"/>\n   </g>\n   <g id=\"patch_213\">\n    <path clip-path=\"url(#p04da31d105)\" d=\"M 2997.01707 305.040133 \nL 3010.99607 305.040133 \nL 3010.99607 305.040133 \nL 2997.01707 305.040133 \nz\n\" style=\"fill:#4c72b0;fill-opacity:0.75;stroke:#ffffff;stroke-linejoin:miter;stroke-width:0.119026;\"/>\n   </g>\n   <g id=\"patch_214\">\n    <path clip-path=\"url(#p04da31d105)\" d=\"M 3010.99607 305.040133 \nL 3024.97507 305.040133 \nL 3024.97507 305.040133 \nL 3010.99607 305.040133 \nz\n\" style=\"fill:#4c72b0;fill-opacity:0.75;stroke:#ffffff;stroke-linejoin:miter;stroke-width:0.119026;\"/>\n   </g>\n   <g id=\"patch_215\">\n    <path clip-path=\"url(#p04da31d105)\" d=\"M 3024.97507 305.040133 \nL 3038.95407 305.040133 \nL 3038.95407 305.040133 \nL 3024.97507 305.040133 \nz\n\" style=\"fill:#4c72b0;fill-opacity:0.75;stroke:#ffffff;stroke-linejoin:miter;stroke-width:0.119026;\"/>\n   </g>\n   <g id=\"patch_216\">\n    <path clip-path=\"url(#p04da31d105)\" d=\"M 3038.95407 305.040133 \nL 3052.93307 305.040133 \nL 3052.93307 305.040133 \nL 3038.95407 305.040133 \nz\n\" style=\"fill:#4c72b0;fill-opacity:0.75;stroke:#ffffff;stroke-linejoin:miter;stroke-width:0.119026;\"/>\n   </g>\n   <g id=\"patch_217\">\n    <path clip-path=\"url(#p04da31d105)\" d=\"M 3052.93307 305.040133 \nL 3066.91207 305.040133 \nL 3066.91207 305.040133 \nL 3052.93307 305.040133 \nz\n\" style=\"fill:#4c72b0;fill-opacity:0.75;stroke:#ffffff;stroke-linejoin:miter;stroke-width:0.119026;\"/>\n   </g>\n   <g id=\"patch_218\">\n    <path clip-path=\"url(#p04da31d105)\" d=\"M 3066.91207 305.040133 \nL 3080.89107 305.040133 \nL 3080.89107 305.040133 \nL 3066.91207 305.040133 \nz\n\" style=\"fill:#4c72b0;fill-opacity:0.75;stroke:#ffffff;stroke-linejoin:miter;stroke-width:0.119026;\"/>\n   </g>\n   <g id=\"patch_219\">\n    <path clip-path=\"url(#p04da31d105)\" d=\"M 3080.89107 305.040133 \nL 3094.87007 305.040133 \nL 3094.87007 305.040133 \nL 3080.89107 305.040133 \nz\n\" style=\"fill:#4c72b0;fill-opacity:0.75;stroke:#ffffff;stroke-linejoin:miter;stroke-width:0.119026;\"/>\n   </g>\n   <g id=\"patch_220\">\n    <path clip-path=\"url(#p04da31d105)\" d=\"M 3094.87007 305.040133 \nL 3108.84907 305.040133 \nL 3108.84907 305.040133 \nL 3094.87007 305.040133 \nz\n\" style=\"fill:#4c72b0;fill-opacity:0.75;stroke:#ffffff;stroke-linejoin:miter;stroke-width:0.119026;\"/>\n   </g>\n   <g id=\"patch_221\">\n    <path clip-path=\"url(#p04da31d105)\" d=\"M 3108.84907 305.040133 \nL 3122.82807 305.040133 \nL 3122.82807 304.95623 \nL 3108.84907 304.95623 \nz\n\" style=\"fill:#4c72b0;fill-opacity:0.75;stroke:#ffffff;stroke-linejoin:miter;stroke-width:0.119026;\"/>\n   </g>\n   <g id=\"patch_222\">\n    <path clip-path=\"url(#p04da31d105)\" d=\"M 3122.82807 305.040133 \nL 3136.80707 305.040133 \nL 3136.80707 305.040133 \nL 3122.82807 305.040133 \nz\n\" style=\"fill:#4c72b0;fill-opacity:0.75;stroke:#ffffff;stroke-linejoin:miter;stroke-width:0.119026;\"/>\n   </g>\n   <g id=\"patch_223\">\n    <path clip-path=\"url(#p04da31d105)\" d=\"M 3136.80707 305.040133 \nL 3150.78607 305.040133 \nL 3150.78607 305.040133 \nL 3136.80707 305.040133 \nz\n\" style=\"fill:#4c72b0;fill-opacity:0.75;stroke:#ffffff;stroke-linejoin:miter;stroke-width:0.119026;\"/>\n   </g>\n   <g id=\"patch_224\">\n    <path clip-path=\"url(#p04da31d105)\" d=\"M 3150.78607 305.040133 \nL 3164.76507 305.040133 \nL 3164.76507 305.040133 \nL 3150.78607 305.040133 \nz\n\" style=\"fill:#4c72b0;fill-opacity:0.75;stroke:#ffffff;stroke-linejoin:miter;stroke-width:0.119026;\"/>\n   </g>\n   <g id=\"patch_225\">\n    <path clip-path=\"url(#p04da31d105)\" d=\"M 3164.76507 305.040133 \nL 3178.74407 305.040133 \nL 3178.74407 305.040133 \nL 3164.76507 305.040133 \nz\n\" style=\"fill:#4c72b0;fill-opacity:0.75;stroke:#ffffff;stroke-linejoin:miter;stroke-width:0.119026;\"/>\n   </g>\n   <g id=\"patch_226\">\n    <path clip-path=\"url(#p04da31d105)\" d=\"M 3178.74407 305.040133 \nL 3192.72307 305.040133 \nL 3192.72307 305.040133 \nL 3178.74407 305.040133 \nz\n\" style=\"fill:#4c72b0;fill-opacity:0.75;stroke:#ffffff;stroke-linejoin:miter;stroke-width:0.119026;\"/>\n   </g>\n   <g id=\"patch_227\">\n    <path clip-path=\"url(#p04da31d105)\" d=\"M 3192.72307 305.040133 \nL 3206.70207 305.040133 \nL 3206.70207 305.040133 \nL 3192.72307 305.040133 \nz\n\" style=\"fill:#4c72b0;fill-opacity:0.75;stroke:#ffffff;stroke-linejoin:miter;stroke-width:0.119026;\"/>\n   </g>\n   <g id=\"patch_228\">\n    <path clip-path=\"url(#p04da31d105)\" d=\"M 3206.70207 305.040133 \nL 3220.68107 305.040133 \nL 3220.68107 305.040133 \nL 3206.70207 305.040133 \nz\n\" style=\"fill:#4c72b0;fill-opacity:0.75;stroke:#ffffff;stroke-linejoin:miter;stroke-width:0.119026;\"/>\n   </g>\n   <g id=\"patch_229\">\n    <path clip-path=\"url(#p04da31d105)\" d=\"M 3220.68107 305.040133 \nL 3234.66007 305.040133 \nL 3234.66007 305.040133 \nL 3220.68107 305.040133 \nz\n\" style=\"fill:#4c72b0;fill-opacity:0.75;stroke:#ffffff;stroke-linejoin:miter;stroke-width:0.119026;\"/>\n   </g>\n   <g id=\"patch_230\">\n    <path clip-path=\"url(#p04da31d105)\" d=\"M 3234.66007 305.040133 \nL 3248.63907 305.040133 \nL 3248.63907 304.95623 \nL 3234.66007 304.95623 \nz\n\" style=\"fill:#4c72b0;fill-opacity:0.75;stroke:#ffffff;stroke-linejoin:miter;stroke-width:0.119026;\"/>\n   </g>\n   <g id=\"patch_231\">\n    <path d=\"M 60.30875 305.040133 \nL 60.30875 9.822737 \n\" style=\"fill:none;stroke:#262626;stroke-linecap:square;stroke-linejoin:miter;stroke-width:1.25;\"/>\n   </g>\n   <g id=\"patch_232\">\n    <path d=\"M 60.30875 305.040133 \nL 339.88875 305.040133 \n\" style=\"fill:none;stroke:#262626;stroke-linecap:square;stroke-linejoin:miter;stroke-width:1.25;\"/>\n   </g>\n  </g>\n </g>\n <defs>\n  <clipPath id=\"p04da31d105\">\n   <rect height=\"295.217396\" width=\"279.58\" x=\"60.30875\" y=\"9.822737\"/>\n  </clipPath>\n </defs>\n</svg>\n",
      "image/png": "[encoded data removed]"
     },
     "metadata": {}
    }
   ],
   "source": [
    "# inspect the distribution of ratings per book\n",
    "ratings_per_book = ratings.groupby([\"book_id\"]).count()[\"rating\"].reset_index(name=\"rating_counts\")\n",
    "book_hist = sns.displot(data=ratings_per_book, x=\"rating_counts\", binwidth=100)\n",
    "book_hist.set(xlim=(0, 2000))\n",
    "plt.show()"
   ]
  },
  {
   "cell_type": "code",
   "execution_count": 16,
   "metadata": {},
   "outputs": [
    {
     "output_type": "execute_result",
     "data": {
      "text/plain": [
       "book_id          536\n",
       "rating_counts    536\n",
       "dtype: int64"
      ]
     },
     "metadata": {},
     "execution_count": 16
    }
   ],
   "source": [
    "# how many books have more than 2000 ratings\n",
    "ratings_per_book[ratings_per_book[\"rating_counts\"]>2000].count()"
   ]
  },
  {
   "cell_type": "code",
   "execution_count": 21,
   "metadata": {},
   "outputs": [
    {
     "output_type": "execute_result",
     "data": {
      "text/plain": [
       "     book_id  rating_counts\n",
       "0          1          22806\n",
       "1          2          21850\n",
       "3          4          19088\n",
       "2          3          16931\n",
       "4          5          16604\n",
       "..       ...            ...\n",
       "335      336           2019\n",
       "418      419           2013\n",
       "564      565           2007\n",
       "735      736           2004\n",
       "918      919           2003\n",
       "\n",
       "[536 rows x 2 columns]"
      ],
      "text/html": "<div>\n<style scoped>\n    .dataframe tbody tr th:only-of-type {\n        vertical-align: middle;\n    }\n\n    .dataframe tbody tr th {\n        vertical-align: top;\n    }\n\n    .dataframe thead th {\n        text-align: right;\n    }\n</style>\n<table border=\"1\" class=\"dataframe\">\n  <thead>\n    <tr style=\"text-align: right;\">\n      <th></th>\n      <th>book_id</th>\n      <th>rating_counts</th>\n    </tr>\n  </thead>\n  <tbody>\n    <tr>\n      <th>0</th>\n      <td>1</td>\n      <td>22806</td>\n    </tr>\n    <tr>\n      <th>1</th>\n      <td>2</td>\n      <td>21850</td>\n    </tr>\n    <tr>\n      <th>3</th>\n      <td>4</td>\n      <td>19088</td>\n    </tr>\n    <tr>\n      <th>2</th>\n      <td>3</td>\n      <td>16931</td>\n    </tr>\n    <tr>\n      <th>4</th>\n      <td>5</td>\n      <td>16604</td>\n    </tr>\n    <tr>\n      <th>...</th>\n      <td>...</td>\n      <td>...</td>\n    </tr>\n    <tr>\n      <th>335</th>\n      <td>336</td>\n      <td>2019</td>\n    </tr>\n    <tr>\n      <th>418</th>\n      <td>419</td>\n      <td>2013</td>\n    </tr>\n    <tr>\n      <th>564</th>\n      <td>565</td>\n      <td>2007</td>\n    </tr>\n    <tr>\n      <th>735</th>\n      <td>736</td>\n      <td>2004</td>\n    </tr>\n    <tr>\n      <th>918</th>\n      <td>919</td>\n      <td>2003</td>\n    </tr>\n  </tbody>\n</table>\n<p>536 rows × 2 columns</p>\n</div>"
     },
     "metadata": {},
     "execution_count": 21
    }
   ],
   "source": [
    "# most rated books\n",
    "ratings_per_book[ratings_per_book[\"rating_counts\"]>2000].sort_values([\"rating_counts\"], ascending=False)"
   ]
  },
  {
   "cell_type": "code",
   "execution_count": 26,
   "metadata": {},
   "outputs": [
    {
     "output_type": "stream",
     "name": "stdout",
     "text": [
      "Top 10 books have 176851 ratings in total.\n"
     ]
    }
   ],
   "source": [
    "print(\"Top 10 books have {} ratings in total.\".format(ratings_per_book[ratings_per_book[\"rating_counts\"]>2000].sort_values([\"rating_counts\"], ascending=False).iloc[:10].sum()[\"rating_counts\"]))"
   ]
  },
  {
   "cell_type": "code",
   "execution_count": 68,
   "metadata": {},
   "outputs": [
    {
     "data": {
      "text/plain": [
       "count    10000.000000\n",
       "mean       597.647900\n",
       "std       1267.289788\n",
       "min          8.000000\n",
       "25%        155.000000\n",
       "50%        248.000000\n",
       "75%        503.000000\n",
       "max      22806.000000\n",
       "Name: rating_counts, dtype: float64"
      ]
     },
     "execution_count": 68,
     "metadata": {},
     "output_type": "execute_result"
    }
   ],
   "source": [
    "ratings_per_book[\"rating_counts\"].describe()"
   ]
  },
  {
   "cell_type": "code",
   "execution_count": 36,
   "metadata": {},
   "outputs": [
    {
     "name": "stdout",
     "output_type": "stream",
     "text": [
      "column name; column type;\n",
      "{'goodreads_book_id': 'int64', 'tag_id': 'int64', 'count': 'int64'}\n"
     ]
    }
   ],
   "source": [
    "show_columns_and_types(book_tags)"
   ]
  },
  {
   "cell_type": "code",
   "execution_count": 37,
   "metadata": {},
   "outputs": [
    {
     "name": "stdout",
     "output_type": "stream",
     "text": [
      "column name; column type;\n",
      "{'tag_id': 'int64', 'tag_name': 'object'}\n"
     ]
    }
   ],
   "source": [
    "show_columns_and_types(tags)"
   ]
  },
  {
   "cell_type": "code",
   "execution_count": 38,
   "metadata": {},
   "outputs": [
    {
     "data": {
      "text/html": [
       "<div>\n",
       "<style scoped>\n",
       "    .dataframe tbody tr th:only-of-type {\n",
       "        vertical-align: middle;\n",
       "    }\n",
       "\n",
       "    .dataframe tbody tr th {\n",
       "        vertical-align: top;\n",
       "    }\n",
       "\n",
       "    .dataframe thead th {\n",
       "        text-align: right;\n",
       "    }\n",
       "</style>\n",
       "<table border=\"1\" class=\"dataframe\">\n",
       "  <thead>\n",
       "    <tr style=\"text-align: right;\">\n",
       "      <th></th>\n",
       "      <th>goodreads_book_id</th>\n",
       "      <th>tag_id</th>\n",
       "      <th>count</th>\n",
       "    </tr>\n",
       "  </thead>\n",
       "  <tbody>\n",
       "    <tr>\n",
       "      <th>0</th>\n",
       "      <td>1</td>\n",
       "      <td>30574</td>\n",
       "      <td>167697</td>\n",
       "    </tr>\n",
       "    <tr>\n",
       "      <th>1</th>\n",
       "      <td>1</td>\n",
       "      <td>11305</td>\n",
       "      <td>37174</td>\n",
       "    </tr>\n",
       "    <tr>\n",
       "      <th>2</th>\n",
       "      <td>1</td>\n",
       "      <td>11557</td>\n",
       "      <td>34173</td>\n",
       "    </tr>\n",
       "    <tr>\n",
       "      <th>3</th>\n",
       "      <td>1</td>\n",
       "      <td>8717</td>\n",
       "      <td>12986</td>\n",
       "    </tr>\n",
       "  </tbody>\n",
       "</table>\n",
       "</div>"
      ],
      "text/plain": [
       "   goodreads_book_id  tag_id   count\n",
       "0                  1   30574  167697\n",
       "1                  1   11305   37174\n",
       "2                  1   11557   34173\n",
       "3                  1    8717   12986"
      ]
     },
     "execution_count": 38,
     "metadata": {},
     "output_type": "execute_result"
    }
   ],
   "source": [
    "book_tags[:4]"
   ]
  },
  {
   "cell_type": "code",
   "execution_count": 41,
   "metadata": {},
   "outputs": [
    {
     "data": {
      "text/html": [
       "<div>\n",
       "<style scoped>\n",
       "    .dataframe tbody tr th:only-of-type {\n",
       "        vertical-align: middle;\n",
       "    }\n",
       "\n",
       "    .dataframe tbody tr th {\n",
       "        vertical-align: top;\n",
       "    }\n",
       "\n",
       "    .dataframe thead th {\n",
       "        text-align: right;\n",
       "    }\n",
       "</style>\n",
       "<table border=\"1\" class=\"dataframe\">\n",
       "  <thead>\n",
       "    <tr style=\"text-align: right;\">\n",
       "      <th></th>\n",
       "      <th>tag_id</th>\n",
       "      <th>tag_name</th>\n",
       "    </tr>\n",
       "  </thead>\n",
       "  <tbody>\n",
       "    <tr>\n",
       "      <th>0</th>\n",
       "      <td>0</td>\n",
       "      <td>-</td>\n",
       "    </tr>\n",
       "    <tr>\n",
       "      <th>1</th>\n",
       "      <td>1</td>\n",
       "      <td>--1-</td>\n",
       "    </tr>\n",
       "    <tr>\n",
       "      <th>2</th>\n",
       "      <td>2</td>\n",
       "      <td>--10-</td>\n",
       "    </tr>\n",
       "    <tr>\n",
       "      <th>3</th>\n",
       "      <td>3</td>\n",
       "      <td>--12-</td>\n",
       "    </tr>\n",
       "    <tr>\n",
       "      <th>4</th>\n",
       "      <td>4</td>\n",
       "      <td>--122-</td>\n",
       "    </tr>\n",
       "    <tr>\n",
       "      <th>5</th>\n",
       "      <td>5</td>\n",
       "      <td>--166-</td>\n",
       "    </tr>\n",
       "    <tr>\n",
       "      <th>6</th>\n",
       "      <td>6</td>\n",
       "      <td>--17-</td>\n",
       "    </tr>\n",
       "    <tr>\n",
       "      <th>7</th>\n",
       "      <td>7</td>\n",
       "      <td>--19-</td>\n",
       "    </tr>\n",
       "    <tr>\n",
       "      <th>8</th>\n",
       "      <td>8</td>\n",
       "      <td>--2-</td>\n",
       "    </tr>\n",
       "    <tr>\n",
       "      <th>9</th>\n",
       "      <td>9</td>\n",
       "      <td>--258-</td>\n",
       "    </tr>\n",
       "    <tr>\n",
       "      <th>10</th>\n",
       "      <td>10</td>\n",
       "      <td>--3-</td>\n",
       "    </tr>\n",
       "    <tr>\n",
       "      <th>11</th>\n",
       "      <td>11</td>\n",
       "      <td>--33-</td>\n",
       "    </tr>\n",
       "    <tr>\n",
       "      <th>12</th>\n",
       "      <td>12</td>\n",
       "      <td>--4-</td>\n",
       "    </tr>\n",
       "    <tr>\n",
       "      <th>13</th>\n",
       "      <td>13</td>\n",
       "      <td>--5-</td>\n",
       "    </tr>\n",
       "    <tr>\n",
       "      <th>14</th>\n",
       "      <td>14</td>\n",
       "      <td>--51-</td>\n",
       "    </tr>\n",
       "    <tr>\n",
       "      <th>15</th>\n",
       "      <td>15</td>\n",
       "      <td>--6-</td>\n",
       "    </tr>\n",
       "    <tr>\n",
       "      <th>16</th>\n",
       "      <td>16</td>\n",
       "      <td>--62-</td>\n",
       "    </tr>\n",
       "    <tr>\n",
       "      <th>17</th>\n",
       "      <td>17</td>\n",
       "      <td>--8-</td>\n",
       "    </tr>\n",
       "    <tr>\n",
       "      <th>18</th>\n",
       "      <td>18</td>\n",
       "      <td>--99-</td>\n",
       "    </tr>\n",
       "    <tr>\n",
       "      <th>19</th>\n",
       "      <td>19</td>\n",
       "      <td>--available-at-raspberrys--</td>\n",
       "    </tr>\n",
       "    <tr>\n",
       "      <th>20</th>\n",
       "      <td>20</td>\n",
       "      <td>-2001--</td>\n",
       "    </tr>\n",
       "    <tr>\n",
       "      <th>21</th>\n",
       "      <td>21</td>\n",
       "      <td>-calif--</td>\n",
       "    </tr>\n",
       "    <tr>\n",
       "      <th>22</th>\n",
       "      <td>22</td>\n",
       "      <td>-d-c--</td>\n",
       "    </tr>\n",
       "    <tr>\n",
       "      <th>23</th>\n",
       "      <td>23</td>\n",
       "      <td>-dean</td>\n",
       "    </tr>\n",
       "    <tr>\n",
       "      <th>24</th>\n",
       "      <td>24</td>\n",
       "      <td>-england-</td>\n",
       "    </tr>\n",
       "    <tr>\n",
       "      <th>25</th>\n",
       "      <td>25</td>\n",
       "      <td>-fiction</td>\n",
       "    </tr>\n",
       "    <tr>\n",
       "      <th>26</th>\n",
       "      <td>26</td>\n",
       "      <td>-fictional</td>\n",
       "    </tr>\n",
       "    <tr>\n",
       "      <th>27</th>\n",
       "      <td>27</td>\n",
       "      <td>-fictitious</td>\n",
       "    </tr>\n",
       "    <tr>\n",
       "      <th>28</th>\n",
       "      <td>28</td>\n",
       "      <td>-football-</td>\n",
       "    </tr>\n",
       "    <tr>\n",
       "      <th>29</th>\n",
       "      <td>29</td>\n",
       "      <td>-george</td>\n",
       "    </tr>\n",
       "    <tr>\n",
       "      <th>30</th>\n",
       "      <td>30</td>\n",
       "      <td>-gr-</td>\n",
       "    </tr>\n",
       "    <tr>\n",
       "      <th>31</th>\n",
       "      <td>31</td>\n",
       "      <td>-history</td>\n",
       "    </tr>\n",
       "    <tr>\n",
       "      <th>32</th>\n",
       "      <td>32</td>\n",
       "      <td>-imaginary</td>\n",
       "    </tr>\n",
       "    <tr>\n",
       "      <th>33</th>\n",
       "      <td>33</td>\n",
       "      <td>-italy-</td>\n",
       "    </tr>\n",
       "    <tr>\n",
       "      <th>34</th>\n",
       "      <td>34</td>\n",
       "      <td>-la--</td>\n",
       "    </tr>\n",
       "    <tr>\n",
       "      <th>35</th>\n",
       "      <td>35</td>\n",
       "      <td>-los</td>\n",
       "    </tr>\n",
       "    <tr>\n",
       "      <th>36</th>\n",
       "      <td>36</td>\n",
       "      <td>-mass--</td>\n",
       "    </tr>\n",
       "    <tr>\n",
       "      <th>37</th>\n",
       "      <td>37</td>\n",
       "      <td>-murder-</td>\n",
       "    </tr>\n",
       "    <tr>\n",
       "      <th>38</th>\n",
       "      <td>38</td>\n",
       "      <td>-n-y--</td>\n",
       "    </tr>\n",
       "    <tr>\n",
       "      <th>39</th>\n",
       "      <td>39</td>\n",
       "      <td>-non-poetry-</td>\n",
       "    </tr>\n",
       "    <tr>\n",
       "      <th>40</th>\n",
       "      <td>40</td>\n",
       "      <td>-performing</td>\n",
       "    </tr>\n",
       "    <tr>\n",
       "      <th>41</th>\n",
       "      <td>41</td>\n",
       "      <td>-post</td>\n",
       "    </tr>\n",
       "    <tr>\n",
       "      <th>42</th>\n",
       "      <td>42</td>\n",
       "      <td>-psychology-</td>\n",
       "    </tr>\n",
       "    <tr>\n",
       "      <th>43</th>\n",
       "      <td>43</td>\n",
       "      <td>-read</td>\n",
       "    </tr>\n",
       "    <tr>\n",
       "      <th>44</th>\n",
       "      <td>44</td>\n",
       "      <td>-single</td>\n",
       "    </tr>\n",
       "    <tr>\n",
       "      <th>45</th>\n",
       "      <td>45</td>\n",
       "      <td>-specific</td>\n",
       "    </tr>\n",
       "    <tr>\n",
       "      <th>46</th>\n",
       "      <td>46</td>\n",
       "      <td>-television</td>\n",
       "    </tr>\n",
       "    <tr>\n",
       "      <th>47</th>\n",
       "      <td>47</td>\n",
       "      <td>0</td>\n",
       "    </tr>\n",
       "    <tr>\n",
       "      <th>48</th>\n",
       "      <td>48</td>\n",
       "      <td>0-0-0-0cant-find</td>\n",
       "    </tr>\n",
       "    <tr>\n",
       "      <th>49</th>\n",
       "      <td>49</td>\n",
       "      <td>0-0-bingo</td>\n",
       "    </tr>\n",
       "  </tbody>\n",
       "</table>\n",
       "</div>"
      ],
      "text/plain": [
       "    tag_id                     tag_name\n",
       "0        0                            -\n",
       "1        1                         --1-\n",
       "2        2                        --10-\n",
       "3        3                        --12-\n",
       "4        4                       --122-\n",
       "5        5                       --166-\n",
       "6        6                        --17-\n",
       "7        7                        --19-\n",
       "8        8                         --2-\n",
       "9        9                       --258-\n",
       "10      10                         --3-\n",
       "11      11                        --33-\n",
       "12      12                         --4-\n",
       "13      13                         --5-\n",
       "14      14                        --51-\n",
       "15      15                         --6-\n",
       "16      16                        --62-\n",
       "17      17                         --8-\n",
       "18      18                        --99-\n",
       "19      19  --available-at-raspberrys--\n",
       "20      20                      -2001--\n",
       "21      21                     -calif--\n",
       "22      22                       -d-c--\n",
       "23      23                        -dean\n",
       "24      24                    -england-\n",
       "25      25                     -fiction\n",
       "26      26                   -fictional\n",
       "27      27                  -fictitious\n",
       "28      28                   -football-\n",
       "29      29                      -george\n",
       "30      30                         -gr-\n",
       "31      31                     -history\n",
       "32      32                   -imaginary\n",
       "33      33                      -italy-\n",
       "34      34                        -la--\n",
       "35      35                         -los\n",
       "36      36                      -mass--\n",
       "37      37                     -murder-\n",
       "38      38                       -n-y--\n",
       "39      39                 -non-poetry-\n",
       "40      40                  -performing\n",
       "41      41                        -post\n",
       "42      42                 -psychology-\n",
       "43      43                        -read\n",
       "44      44                      -single\n",
       "45      45                    -specific\n",
       "46      46                  -television\n",
       "47      47                            0\n",
       "48      48             0-0-0-0cant-find\n",
       "49      49                    0-0-bingo"
      ]
     },
     "execution_count": 41,
     "metadata": {},
     "output_type": "execute_result"
    }
   ],
   "source": [
    "tags[:50]"
   ]
  },
  {
   "cell_type": "code",
   "execution_count": null,
   "metadata": {},
   "outputs": [],
   "source": []
  }
 ],
 "metadata": {
  "kernelspec": {
   "name": "python3",
   "display_name": "Python 3.8.6 64-bit",
   "metadata": {
    "interpreter": {
     "hash": "31f2aee4e71d21fbe5cf8b01ff0e069b9275f58929596ceb00d14d90e3e16cd6"
    }
   }
  },
  "language_info": {
   "codemirror_mode": {
    "name": "ipython",
    "version": 3
   },
   "file_extension": ".py",
   "mimetype": "text/x-python",
   "name": "python",
   "nbconvert_exporter": "python",
   "pygments_lexer": "ipython3",
   "version": "3.8.6-final"
  }
 },
 "nbformat": 4,
 "nbformat_minor": 2
}