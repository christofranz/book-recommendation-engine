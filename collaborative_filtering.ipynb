{
 "cells": [
  {
   "cell_type": "markdown",
   "metadata": {},
   "source": [
    "First recommendation engine is based on user-based collaborative filtering: In this type of recommendation, users related to the user you would like to make recommendations for are used to create a recommendation."
   ]
  },
  {
   "cell_type": "code",
   "execution_count": 1,
   "metadata": {},
   "outputs": [],
   "source": [
    "import numpy as np\n",
    "import pandas as pd"
   ]
  },
  {
   "cell_type": "code",
   "execution_count": 2,
   "metadata": {},
   "outputs": [],
   "source": [
    "books = pd.read_csv(\"./data/books.csv\")\n",
    "ratings = pd.read_csv(\"./data/ratings.csv\")"
   ]
  },
  {
   "cell_type": "code",
   "execution_count": 3,
   "metadata": {},
   "outputs": [
    {
     "output_type": "execute_result",
     "data": {
      "text/plain": [
       "   user_id  book_id  rating\n",
       "0        1      258       5\n",
       "1        2     4081       4\n",
       "2        2      260       5\n",
       "3        2     9296       5\n",
       "4        2     2318       3"
      ],
      "text/html": "<div>\n<style scoped>\n    .dataframe tbody tr th:only-of-type {\n        vertical-align: middle;\n    }\n\n    .dataframe tbody tr th {\n        vertical-align: top;\n    }\n\n    .dataframe thead th {\n        text-align: right;\n    }\n</style>\n<table border=\"1\" class=\"dataframe\">\n  <thead>\n    <tr style=\"text-align: right;\">\n      <th></th>\n      <th>user_id</th>\n      <th>book_id</th>\n      <th>rating</th>\n    </tr>\n  </thead>\n  <tbody>\n    <tr>\n      <th>0</th>\n      <td>1</td>\n      <td>258</td>\n      <td>5</td>\n    </tr>\n    <tr>\n      <th>1</th>\n      <td>2</td>\n      <td>4081</td>\n      <td>4</td>\n    </tr>\n    <tr>\n      <th>2</th>\n      <td>2</td>\n      <td>260</td>\n      <td>5</td>\n    </tr>\n    <tr>\n      <th>3</th>\n      <td>2</td>\n      <td>9296</td>\n      <td>5</td>\n    </tr>\n    <tr>\n      <th>4</th>\n      <td>2</td>\n      <td>2318</td>\n      <td>3</td>\n    </tr>\n  </tbody>\n</table>\n</div>"
     },
     "metadata": {},
     "execution_count": 3
    }
   ],
   "source": [
    "ratings[:5]"
   ]
  },
  {
   "cell_type": "code",
   "execution_count": 4,
   "metadata": {},
   "outputs": [],
   "source": [
    "# create a user item matrix\n",
    "user_book_matrix = ratings.groupby(['user_id', 'book_id'])[\"rating\"].max().unstack()\n",
    "# TODO: remove users with too few ratings"
   ]
  },
  {
   "cell_type": "code",
   "execution_count": 5,
   "metadata": {},
   "outputs": [
    {
     "output_type": "execute_result",
     "data": {
      "text/plain": [
       "book_id  1      2      3      4      5      6      7      8      9      10     \\\n",
       "user_id                                                                         \n",
       "1          NaN    NaN    NaN    5.0    NaN    NaN    NaN    NaN    NaN    4.0   \n",
       "2          NaN    5.0    NaN    NaN    5.0    NaN    NaN    4.0    NaN    5.0   \n",
       "3          NaN    NaN    NaN    3.0    NaN    NaN    NaN    NaN    NaN    NaN   \n",
       "4          NaN    5.0    NaN    4.0    4.0    NaN    4.0    4.0    NaN    5.0   \n",
       "5          NaN    NaN    NaN    NaN    NaN    4.0    NaN    NaN    NaN    NaN   \n",
       "...        ...    ...    ...    ...    ...    ...    ...    ...    ...    ...   \n",
       "53420      4.0    5.0    3.0    NaN    2.0    NaN    NaN    NaN    4.0    3.0   \n",
       "53421      4.0    5.0    NaN    5.0    4.0    NaN    4.0    NaN    5.0    NaN   \n",
       "53422      4.0    5.0    NaN    NaN    NaN    NaN    5.0    NaN    NaN    5.0   \n",
       "53423      4.0    5.0    NaN    5.0    NaN    NaN    5.0    4.0    NaN    NaN   \n",
       "53424      4.0    5.0    4.0    5.0    NaN    NaN    5.0    NaN    NaN    5.0   \n",
       "\n",
       "book_id  ...  9991   9992   9993   9994   9995   9996   9997   9998   9999   \\\n",
       "user_id  ...                                                                  \n",
       "1        ...    NaN    NaN    NaN    NaN    NaN    NaN    NaN    NaN    NaN   \n",
       "2        ...    NaN    NaN    NaN    NaN    NaN    NaN    NaN    NaN    NaN   \n",
       "3        ...    NaN    NaN    NaN    NaN    NaN    NaN    NaN    NaN    NaN   \n",
       "4        ...    NaN    NaN    NaN    NaN    NaN    NaN    NaN    NaN    NaN   \n",
       "5        ...    NaN    NaN    NaN    NaN    NaN    NaN    NaN    NaN    NaN   \n",
       "...      ...    ...    ...    ...    ...    ...    ...    ...    ...    ...   \n",
       "53420    ...    NaN    NaN    NaN    NaN    NaN    NaN    NaN    NaN    NaN   \n",
       "53421    ...    NaN    NaN    NaN    NaN    NaN    NaN    NaN    NaN    NaN   \n",
       "53422    ...    NaN    NaN    NaN    NaN    NaN    NaN    NaN    NaN    NaN   \n",
       "53423    ...    NaN    NaN    NaN    NaN    NaN    NaN    NaN    NaN    NaN   \n",
       "53424    ...    NaN    NaN    NaN    NaN    NaN    NaN    NaN    NaN    NaN   \n",
       "\n",
       "book_id  10000  \n",
       "user_id         \n",
       "1          NaN  \n",
       "2          NaN  \n",
       "3          NaN  \n",
       "4          NaN  \n",
       "5          NaN  \n",
       "...        ...  \n",
       "53420      NaN  \n",
       "53421      NaN  \n",
       "53422      NaN  \n",
       "53423      NaN  \n",
       "53424      NaN  \n",
       "\n",
       "[53424 rows x 10000 columns]"
      ],
      "text/html": "<div>\n<style scoped>\n    .dataframe tbody tr th:only-of-type {\n        vertical-align: middle;\n    }\n\n    .dataframe tbody tr th {\n        vertical-align: top;\n    }\n\n    .dataframe thead th {\n        text-align: right;\n    }\n</style>\n<table border=\"1\" class=\"dataframe\">\n  <thead>\n    <tr style=\"text-align: right;\">\n      <th>book_id</th>\n      <th>1</th>\n      <th>2</th>\n      <th>3</th>\n      <th>4</th>\n      <th>5</th>\n      <th>6</th>\n      <th>7</th>\n      <th>8</th>\n      <th>9</th>\n      <th>10</th>\n      <th>...</th>\n      <th>9991</th>\n      <th>9992</th>\n      <th>9993</th>\n      <th>9994</th>\n      <th>9995</th>\n      <th>9996</th>\n      <th>9997</th>\n      <th>9998</th>\n      <th>9999</th>\n      <th>10000</th>\n    </tr>\n    <tr>\n      <th>user_id</th>\n      <th></th>\n      <th></th>\n      <th></th>\n      <th></th>\n      <th></th>\n      <th></th>\n      <th></th>\n      <th></th>\n      <th></th>\n      <th></th>\n      <th></th>\n      <th></th>\n      <th></th>\n      <th></th>\n      <th></th>\n      <th></th>\n      <th></th>\n      <th></th>\n      <th></th>\n      <th></th>\n      <th></th>\n    </tr>\n  </thead>\n  <tbody>\n    <tr>\n      <th>1</th>\n      <td>NaN</td>\n      <td>NaN</td>\n      <td>NaN</td>\n      <td>5.0</td>\n      <td>NaN</td>\n      <td>NaN</td>\n      <td>NaN</td>\n      <td>NaN</td>\n      <td>NaN</td>\n      <td>4.0</td>\n      <td>...</td>\n      <td>NaN</td>\n      <td>NaN</td>\n      <td>NaN</td>\n      <td>NaN</td>\n      <td>NaN</td>\n      <td>NaN</td>\n      <td>NaN</td>\n      <td>NaN</td>\n      <td>NaN</td>\n      <td>NaN</td>\n    </tr>\n    <tr>\n      <th>2</th>\n      <td>NaN</td>\n      <td>5.0</td>\n      <td>NaN</td>\n      <td>NaN</td>\n      <td>5.0</td>\n      <td>NaN</td>\n      <td>NaN</td>\n      <td>4.0</td>\n      <td>NaN</td>\n      <td>5.0</td>\n      <td>...</td>\n      <td>NaN</td>\n      <td>NaN</td>\n      <td>NaN</td>\n      <td>NaN</td>\n      <td>NaN</td>\n      <td>NaN</td>\n      <td>NaN</td>\n      <td>NaN</td>\n      <td>NaN</td>\n      <td>NaN</td>\n    </tr>\n    <tr>\n      <th>3</th>\n      <td>NaN</td>\n      <td>NaN</td>\n      <td>NaN</td>\n      <td>3.0</td>\n      <td>NaN</td>\n      <td>NaN</td>\n      <td>NaN</td>\n      <td>NaN</td>\n      <td>NaN</td>\n      <td>NaN</td>\n      <td>...</td>\n      <td>NaN</td>\n      <td>NaN</td>\n      <td>NaN</td>\n      <td>NaN</td>\n      <td>NaN</td>\n      <td>NaN</td>\n      <td>NaN</td>\n      <td>NaN</td>\n      <td>NaN</td>\n      <td>NaN</td>\n    </tr>\n    <tr>\n      <th>4</th>\n      <td>NaN</td>\n      <td>5.0</td>\n      <td>NaN</td>\n      <td>4.0</td>\n      <td>4.0</td>\n      <td>NaN</td>\n      <td>4.0</td>\n      <td>4.0</td>\n      <td>NaN</td>\n      <td>5.0</td>\n      <td>...</td>\n      <td>NaN</td>\n      <td>NaN</td>\n      <td>NaN</td>\n      <td>NaN</td>\n      <td>NaN</td>\n      <td>NaN</td>\n      <td>NaN</td>\n      <td>NaN</td>\n      <td>NaN</td>\n      <td>NaN</td>\n    </tr>\n    <tr>\n      <th>5</th>\n      <td>NaN</td>\n      <td>NaN</td>\n      <td>NaN</td>\n      <td>NaN</td>\n      <td>NaN</td>\n      <td>4.0</td>\n      <td>NaN</td>\n      <td>NaN</td>\n      <td>NaN</td>\n      <td>NaN</td>\n      <td>...</td>\n      <td>NaN</td>\n      <td>NaN</td>\n      <td>NaN</td>\n      <td>NaN</td>\n      <td>NaN</td>\n      <td>NaN</td>\n      <td>NaN</td>\n      <td>NaN</td>\n      <td>NaN</td>\n      <td>NaN</td>\n    </tr>\n    <tr>\n      <th>...</th>\n      <td>...</td>\n      <td>...</td>\n      <td>...</td>\n      <td>...</td>\n      <td>...</td>\n      <td>...</td>\n      <td>...</td>\n      <td>...</td>\n      <td>...</td>\n      <td>...</td>\n      <td>...</td>\n      <td>...</td>\n      <td>...</td>\n      <td>...</td>\n      <td>...</td>\n      <td>...</td>\n      <td>...</td>\n      <td>...</td>\n      <td>...</td>\n      <td>...</td>\n      <td>...</td>\n    </tr>\n    <tr>\n      <th>53420</th>\n      <td>4.0</td>\n      <td>5.0</td>\n      <td>3.0</td>\n      <td>NaN</td>\n      <td>2.0</td>\n      <td>NaN</td>\n      <td>NaN</td>\n      <td>NaN</td>\n      <td>4.0</td>\n      <td>3.0</td>\n      <td>...</td>\n      <td>NaN</td>\n      <td>NaN</td>\n      <td>NaN</td>\n      <td>NaN</td>\n      <td>NaN</td>\n      <td>NaN</td>\n      <td>NaN</td>\n      <td>NaN</td>\n      <td>NaN</td>\n      <td>NaN</td>\n    </tr>\n    <tr>\n      <th>53421</th>\n      <td>4.0</td>\n      <td>5.0</td>\n      <td>NaN</td>\n      <td>5.0</td>\n      <td>4.0</td>\n      <td>NaN</td>\n      <td>4.0</td>\n      <td>NaN</td>\n      <td>5.0</td>\n      <td>NaN</td>\n      <td>...</td>\n      <td>NaN</td>\n      <td>NaN</td>\n      <td>NaN</td>\n      <td>NaN</td>\n      <td>NaN</td>\n      <td>NaN</td>\n      <td>NaN</td>\n      <td>NaN</td>\n      <td>NaN</td>\n      <td>NaN</td>\n    </tr>\n    <tr>\n      <th>53422</th>\n      <td>4.0</td>\n      <td>5.0</td>\n      <td>NaN</td>\n      <td>NaN</td>\n      <td>NaN</td>\n      <td>NaN</td>\n      <td>5.0</td>\n      <td>NaN</td>\n      <td>NaN</td>\n      <td>5.0</td>\n      <td>...</td>\n      <td>NaN</td>\n      <td>NaN</td>\n      <td>NaN</td>\n      <td>NaN</td>\n      <td>NaN</td>\n      <td>NaN</td>\n      <td>NaN</td>\n      <td>NaN</td>\n      <td>NaN</td>\n      <td>NaN</td>\n    </tr>\n    <tr>\n      <th>53423</th>\n      <td>4.0</td>\n      <td>5.0</td>\n      <td>NaN</td>\n      <td>5.0</td>\n      <td>NaN</td>\n      <td>NaN</td>\n      <td>5.0</td>\n      <td>4.0</td>\n      <td>NaN</td>\n      <td>NaN</td>\n      <td>...</td>\n      <td>NaN</td>\n      <td>NaN</td>\n      <td>NaN</td>\n      <td>NaN</td>\n      <td>NaN</td>\n      <td>NaN</td>\n      <td>NaN</td>\n      <td>NaN</td>\n      <td>NaN</td>\n      <td>NaN</td>\n    </tr>\n    <tr>\n      <th>53424</th>\n      <td>4.0</td>\n      <td>5.0</td>\n      <td>4.0</td>\n      <td>5.0</td>\n      <td>NaN</td>\n      <td>NaN</td>\n      <td>5.0</td>\n      <td>NaN</td>\n      <td>NaN</td>\n      <td>5.0</td>\n      <td>...</td>\n      <td>NaN</td>\n      <td>NaN</td>\n      <td>NaN</td>\n      <td>NaN</td>\n      <td>NaN</td>\n      <td>NaN</td>\n      <td>NaN</td>\n      <td>NaN</td>\n      <td>NaN</td>\n      <td>NaN</td>\n    </tr>\n  </tbody>\n</table>\n<p>53424 rows × 10000 columns</p>\n</div>"
     },
     "metadata": {},
     "execution_count": 5
    }
   ],
   "source": [
    "user_book_matrix"
   ]
  },
  {
   "cell_type": "code",
   "execution_count": 6,
   "metadata": {},
   "outputs": [],
   "source": [
    "def get_read_books(user_book_matrix, user_id):\n",
    "    \"\"\"TODO\"\"\"\n",
    "    read_books = list(user_book_matrix.loc[user_id][~user_book_matrix.loc[user_id].isna()].keys())\n",
    "    return read_books\n",
    "    \n",
    "def create_user_book_dict(user_book_matrix):\n",
    "    \"\"\"TODO\"\"\"\n",
    "    all_users = user_book_matrix.index.to_numpy()\n",
    "    books_read = {}\n",
    "    for user in all_users:\n",
    "        books_read[user] = get_read_books(user_book_matrix, user)\n",
    "        \n",
    "    return books_read"
   ]
  },
  {
   "cell_type": "code",
   "execution_count": 24,
   "metadata": {},
   "outputs": [],
   "source": [
    "books_read = create_user_book_dict(user_book_matrix)"
   ]
  },
  {
   "cell_type": "code",
   "execution_count": 26,
   "metadata": {},
   "outputs": [
    {
     "output_type": "execute_result",
     "data": {
      "text/plain": [
       "array([ 1,  2,  3,  4,  5,  6,  7,  8,  9, 10])"
      ]
     },
     "metadata": {},
     "execution_count": 26
    }
   ],
   "source": [
    "user_book_matrix.index.to_numpy()[0:10]"
   ]
  },
  {
   "cell_type": "code",
   "execution_count": 14,
   "metadata": {},
   "outputs": [],
   "source": [
    "def compute_euclidean_dist(user1, user2):\n",
    "    \"\"\"TODO\"\"\"\n",
    "    books_user1 = books_read[user1]\n",
    "    books_user2 = books_read[user2]\n",
    "    both_read = list(set(books_user1).intersection(books_user2))\n",
    "    if len(both_read) > 1:\n",
    "        a = user_book_matrix.loc[user1][both_read]\n",
    "        b = user_book_matrix.loc[user2][both_read]\n",
    "\n",
    "        dist = np.linalg.norm(a-b)\n",
    "    else:\n",
    "        dist = 10000*5 # highest possible difference\n",
    "    return dist"
   ]
  },
  {
   "cell_type": "code",
   "execution_count": 27,
   "metadata": {},
   "outputs": [],
   "source": [
    "def calculate_dist_matrix(max_user=None):\n",
    "    all_users = user_book_matrix.index.to_numpy()\n",
    "    # limit if max_user is specified\n",
    "    if max_user:\n",
    "        all_users = all_users[0:max_user]\n",
    "    user1 = []\n",
    "    user2 = []\n",
    "    dist = []\n",
    "    for user_id1 in all_users:\n",
    "        for user_id2 in all_users:\n",
    "            d = compute_euclidean_dist(user_id1, user_id2)\n",
    "            user1.append(user_id1)\n",
    "            user2.append(user_id2)\n",
    "            dist.append(d)\n",
    "    \n",
    "    dist_df = pd.DataFrame({\"user1\": user1, \"user2\": user2, \"dist\": dist})\n",
    "    return dist_df\n",
    "        "
   ]
  },
  {
   "cell_type": "code",
   "execution_count": 31,
   "metadata": {},
   "outputs": [],
   "source": [
    "dist_df = calculate_dist_matrix(10)"
   ]
  },
  {
   "cell_type": "markdown",
   "metadata": {},
   "source": [
    "how to consider the number of books they have in common?"
   ]
  },
  {
   "cell_type": "code",
   "execution_count": 45,
   "metadata": {},
   "outputs": [
    {
     "data": {
      "text/plain": [
       "Int64Index([    1,     2,     3,     4,     5,     6,     7,     8,     9,\n",
       "               10,\n",
       "            ...\n",
       "            53415, 53416, 53417, 53418, 53419, 53420, 53421, 53422, 53423,\n",
       "            53424],\n",
       "           dtype='int64', name='user_id', length=53424)"
      ]
     },
     "execution_count": 45,
     "metadata": {},
     "output_type": "execute_result"
    }
   ],
   "source": [
    "user_book_matrix.index"
   ]
  },
  {
   "cell_type": "code",
   "execution_count": 29,
   "metadata": {},
   "outputs": [
    {
     "output_type": "execute_result",
     "data": {
      "text/plain": [
       "    user1  user2      dist\n",
       "0       1      1  0.000000\n",
       "1       1      2  3.316625\n",
       "2       1      3  5.567764\n",
       "3       1      4  6.633250\n",
       "4       1      5  1.414214\n",
       "..    ...    ...       ...\n",
       "95     10      6  5.196152\n",
       "96     10      7  3.162278\n",
       "97     10      8  5.477226\n",
       "98     10      9  8.366600\n",
       "99     10     10  0.000000\n",
       "\n",
       "[100 rows x 3 columns]"
      ],
      "text/html": "<div>\n<style scoped>\n    .dataframe tbody tr th:only-of-type {\n        vertical-align: middle;\n    }\n\n    .dataframe tbody tr th {\n        vertical-align: top;\n    }\n\n    .dataframe thead th {\n        text-align: right;\n    }\n</style>\n<table border=\"1\" class=\"dataframe\">\n  <thead>\n    <tr style=\"text-align: right;\">\n      <th></th>\n      <th>user1</th>\n      <th>user2</th>\n      <th>dist</th>\n    </tr>\n  </thead>\n  <tbody>\n    <tr>\n      <th>0</th>\n      <td>1</td>\n      <td>1</td>\n      <td>0.000000</td>\n    </tr>\n    <tr>\n      <th>1</th>\n      <td>1</td>\n      <td>2</td>\n      <td>3.316625</td>\n    </tr>\n    <tr>\n      <th>2</th>\n      <td>1</td>\n      <td>3</td>\n      <td>5.567764</td>\n    </tr>\n    <tr>\n      <th>3</th>\n      <td>1</td>\n      <td>4</td>\n      <td>6.633250</td>\n    </tr>\n    <tr>\n      <th>4</th>\n      <td>1</td>\n      <td>5</td>\n      <td>1.414214</td>\n    </tr>\n    <tr>\n      <th>...</th>\n      <td>...</td>\n      <td>...</td>\n      <td>...</td>\n    </tr>\n    <tr>\n      <th>95</th>\n      <td>10</td>\n      <td>6</td>\n      <td>5.196152</td>\n    </tr>\n    <tr>\n      <th>96</th>\n      <td>10</td>\n      <td>7</td>\n      <td>3.162278</td>\n    </tr>\n    <tr>\n      <th>97</th>\n      <td>10</td>\n      <td>8</td>\n      <td>5.477226</td>\n    </tr>\n    <tr>\n      <th>98</th>\n      <td>10</td>\n      <td>9</td>\n      <td>8.366600</td>\n    </tr>\n    <tr>\n      <th>99</th>\n      <td>10</td>\n      <td>10</td>\n      <td>0.000000</td>\n    </tr>\n  </tbody>\n</table>\n<p>100 rows × 3 columns</p>\n</div>"
     },
     "metadata": {},
     "execution_count": 29
    }
   ],
   "source": [
    "dist_df"
   ]
  },
  {
   "cell_type": "code",
   "execution_count": 73,
   "metadata": {},
   "outputs": [],
   "source": [
    "def find_closest_neighbors(user_id):\n",
    "    '''\n",
    "    INPUT:\n",
    "        user - (int) the user_id of the individual you want to find the closest users\n",
    "    OUTPUT:\n",
    "        closest_neighbors - an array of the id's of the users sorted from closest to farthest away\n",
    "    '''\n",
    "    # ties are treated arbitrary and just kept whichever was easiest to keep using the head method\n",
    "    # ordering the neighbors e.g. according to books read might be better    \n",
    "    closest_neighbors = list(dist_df[dist_df[\"user1\"] == user_id].sort_values([\"dist\"], ascending=True)[\"user2\"])\n",
    "    closest_neighbors.remove(user_id)\n",
    "    return closest_neighbors\n",
    "\n",
    "def books_liked(user_id, min_rating=3):\n",
    "    '''\n",
    "    INPUT:\n",
    "    user_id - the user_id of an individual as int\n",
    "    min_rating - the minimum rating considered while still a movie is still a \"like\" and not a \"dislike\"\n",
    "    OUTPUT:\n",
    "    books_liked - an array of movies the user has read and liked\n",
    "    '''\n",
    "    book_ratings = user_book_matrix.loc[user_id][books_read[user_id]]\n",
    "    books_liked = list(book_ratings[book_ratings >= min_rating].keys())\n",
    "    return books_liked\n",
    "\n",
    "def get_book_info(book_id):\n",
    "    \"\"\"TODO\"\"\"\n",
    "    book_info = books.loc[books[\"book_id\"]==book_id]\n",
    "    authors = book_info.squeeze().authors\n",
    "    title = book_info.squeeze().title\n",
    "    return authors, title\n",
    "\n",
    "def make_user_based_recommendation(user_id, num_rec=10, min_rating=3):\n",
    "    \"\"\"TODO\"\"\"\n",
    "    recommendations = []\n",
    "    books_read_by_user = books_read[user_id]\n",
    "    for neighbor in find_closest_neighbors(user_id):\n",
    "        liked_by_neighbor = books_liked(neighbor, min_rating)\n",
    "        books_not_read = list(np.setdiff1d(liked_by_neighbor, books_read_by_user, assume_unique=False))\n",
    "        books_not_recommended = list(np.setdiff1d(books_not_read, recommendations, assume_unique=False))\n",
    "        # book_lst = book_names(books_not_read)\n",
    "        recommendations = recommendations + books_not_recommended\n",
    "        if len(recommendations) >= num_rec:\n",
    "            recommendations = recommendations[:num_rec]\n",
    "            break\n",
    "    \n",
    "    return recommendations\n",
    "\n",
    "def print_recommendations(recommendations):\n",
    "    \"\"\"TODO\"\"\"\n",
    "    for idx, rec_id in enumerate(recommendations):\n",
    "        authors, title = get_book_info(rec_id)\n",
    "        print(\"{}: {} with {}\".format(idx, authors, title))"
   ]
  },
  {
   "cell_type": "code",
   "execution_count": 33,
   "metadata": {},
   "outputs": [
    {
     "output_type": "execute_result",
     "data": {
      "text/plain": [
       "[5, 2, 7, 3, 6, 8, 4, 10, 9]"
      ]
     },
     "metadata": {},
     "execution_count": 33
    }
   ],
   "source": [
    "find_closest_neighbors(1)"
   ]
  },
  {
   "cell_type": "code",
   "execution_count": 47,
   "metadata": {},
   "outputs": [
    {
     "output_type": "execute_result",
     "data": {
      "text/plain": [
       "[164, 451, 458, 623, 794, 852, 1182, 1195, 1345, 1347]"
      ]
     },
     "metadata": {},
     "execution_count": 47
    }
   ],
   "source": [
    "make_user_based_recommendation(1, num_rec=10, min_rating=5)"
   ]
  },
  {
   "cell_type": "code",
   "execution_count": 74,
   "metadata": {},
   "outputs": [
    {
     "output_type": "stream",
     "name": "stdout",
     "text": [
      "0: Rainbow Rowell with Eleanor & Park\n1: Jane Austen, Alfred MacAdam with Northanger Abbey\n2: Emily St. John Mandel with Station Eleven\n3: Stephen King with Mr. Mercedes (Bill Hodges Trilogy, #1)\n4: Stephen King with Doctor Sleep (The Shining, #2)\n5: Paul Kalanithi, Abraham Verghese with When Breath Becomes Air\n6: Stephen King with Joyland\n7: Louise Erdrich with The Round House\n8: Karin Slaughter with Pretty Girls\n9: Stephen King with Revival\n"
     ]
    }
   ],
   "source": [
    "recommendations = make_user_based_recommendation(1, num_rec=10, min_rating=5)\n",
    "print_recommendations(recommendations)"
   ]
  },
  {
   "cell_type": "code",
   "execution_count": 67,
   "metadata": {},
   "outputs": [
    {
     "output_type": "execute_result",
     "data": {
      "text/plain": [
       "book_id                                                                      1\n",
       "goodreads_book_id                                                      2767052\n",
       "best_book_id                                                           2767052\n",
       "work_id                                                                2792775\n",
       "books_count                                                                272\n",
       "isbn                                                                 439023483\n",
       "isbn13                                                             9.78044e+12\n",
       "authors                                                        Suzanne Collins\n",
       "original_publication_year                                                 2008\n",
       "original_title                                                The Hunger Games\n",
       "title                                  The Hunger Games (The Hunger Games, #1)\n",
       "language_code                                                              eng\n",
       "average_rating                                                            4.34\n",
       "ratings_count                                                          4780653\n",
       "work_ratings_count                                                     4942365\n",
       "work_text_reviews_count                                                 155254\n",
       "ratings_1                                                                66715\n",
       "ratings_2                                                               127936\n",
       "ratings_3                                                               560092\n",
       "ratings_4                                                              1481305\n",
       "ratings_5                                                              2706317\n",
       "image_url                    https://images.gr-assets.com/books/1447303603m...\n",
       "small_image_url              https://images.gr-assets.com/books/1447303603s...\n",
       "Name: 0, dtype: object"
      ]
     },
     "metadata": {},
     "execution_count": 67
    }
   ],
   "source": [
    "book_info = books.loc[books[\"book_id\"]==1]\n",
    "book_info.squeeze()"
   ]
  },
  {
   "cell_type": "code",
   "execution_count": null,
   "metadata": {},
   "outputs": [],
   "source": []
  }
 ],
 "metadata": {
  "kernelspec": {
   "display_name": "Python 3",
   "language": "python",
   "name": "python3"
  },
  "language_info": {
   "codemirror_mode": {
    "name": "ipython",
    "version": 3
   },
   "file_extension": ".py",
   "mimetype": "text/x-python",
   "name": "python",
   "nbconvert_exporter": "python",
   "pygments_lexer": "ipython3",
   "version": "3.8.6-final"
  }
 },
 "nbformat": 4,
 "nbformat_minor": 2
}